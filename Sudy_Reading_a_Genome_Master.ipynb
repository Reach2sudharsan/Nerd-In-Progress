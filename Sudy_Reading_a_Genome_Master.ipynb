{
  "nbformat": 4,
  "nbformat_minor": 0,
  "metadata": {
    "colab": {
      "name": "Sudy_Reading_a_Genome_Master.ipynb",
      "provenance": [],
      "collapsed_sections": []
    },
    "kernelspec": {
      "name": "python3",
      "display_name": "Python 3"
    }
  },
  "cells": [
    {
      "cell_type": "markdown",
      "metadata": {
        "id": "LGwTkS-QBx_Y"
      },
      "source": [
        "# Goals\n",
        "In this colab you will:\n",
        "\n",
        "*   Learn how genomes are stored as data.\n",
        "*   Visualize the genomes using two tools - Multiple Sequence Alignment Viewer and UCSC Genome Browser.\n",
        "*   Understand how to read and parse a genome in python.\n",
        "*   Make your own discoveries about the SARS-CoV-2 genome.\n"
      ]
    },
    {
      "cell_type": "markdown",
      "metadata": {
        "id": "vkQ-x3TlYFo4"
      },
      "source": [
        "<img src=\"https://www.publicdomainpictures.net/pictures/50000/velka/dna.jpg\" alt=\"drawing\" width=\"500\"/>"
      ]
    },
    {
      "cell_type": "code",
      "metadata": {
        "id": "iaHyv543RXie",
        "colab": {
          "base_uri": "https://localhost:8080/",
          "height": 69
        },
        "outputId": "30d3088f-7285-4b66-aa28-0efa33dabd3f"
      },
      "source": [
        "#@title #Set up the notebook\n",
        "!pip install Biopython\n",
        "from Bio import SeqIO\n",
        "import numpy as np\n",
        "import pandas as pd\n",
        "from collections import Counter\n",
        "import gdown\n",
        "\n",
        "data_path = 'https://drive.google.com/uc?id=1PqupjbA0HYNs1fd1y6TAkkvZeMQ6kmK0'\n",
        "cov2_vs_rtg13 = './SARS_CoV_2_vs_RTG13.fasta'\n",
        "gdown.download(data_path, cov2_vs_rtg13, True)"
      ],
      "execution_count": null,
      "outputs": [
        {
          "output_type": "stream",
          "text": [
            "Requirement already satisfied: Biopython in /usr/local/lib/python3.6/dist-packages (1.78)\n",
            "Requirement already satisfied: numpy in /usr/local/lib/python3.6/dist-packages (from Biopython) (1.19.4)\n"
          ],
          "name": "stdout"
        },
        {
          "output_type": "execute_result",
          "data": {
            "application/vnd.google.colaboratory.intrinsic+json": {
              "type": "string"
            },
            "text/plain": [
              "'./SARS_CoV_2_vs_RTG13.fasta'"
            ]
          },
          "metadata": {
            "tags": []
          },
          "execution_count": 2
        }
      ]
    },
    {
      "cell_type": "markdown",
      "metadata": {
        "id": "2VImTS_eCLsz"
      },
      "source": [
        "# Reading DNA Sequences"
      ]
    },
    {
      "cell_type": "markdown",
      "metadata": {
        "id": "elC3EPmuN46l"
      },
      "source": [
        "How do we actually read and interpret a genome? As we know, genomes consist of A,T,C, and G (for DNA genomes), and A, U, C, and G (for RNA genomes). However, note that when you download a genome from a public database, it is always given in terms of A, T, C, and G, regardless of if it is an RNA or DNA genome. This is just to help standardize data structures and analysis pipelines.\n",
        "\n",
        "Collections of genomes are give in the form of files called `.fasta` files. We can read these files using a library called SeqIO from a collection of biology-related tools called BioPython.\n",
        "\n",
        "**Let's read in some sequences!**"
      ]
    },
    {
      "cell_type": "markdown",
      "metadata": {
        "id": "AVPNIsu3Q6dZ"
      },
      "source": [
        "### Excercise: Reading DNA Sequences\n",
        "\n",
        "We are going to read in two genomes:\n",
        "\n",
        "\n",
        "*   A [SARS-CoV-2 genome](https://www.ncbi.nlm.nih.gov/nuccore/NC_045512) from one of the first patients with COVID-19 in Wuhan.\n",
        "*   A bat coronavirus, known as [RTG13](https://www.ncbi.nlm.nih.gov/nuccore/MN996532)\n",
        "\n",
        "Use the form below to see what the genomes of the viruses look like as given in the `fasta` file.\n",
        "\n"
      ]
    },
    {
      "cell_type": "code",
      "metadata": {
        "id": "CM6ez1N_N4TT",
        "cellView": "form",
        "colab": {
          "base_uri": "https://localhost:8080/"
        },
        "outputId": "2137688f-146c-436d-e977-b00c7a61b900"
      },
      "source": [
        "# This fasta file consists of 2 genomes.\n",
        "# First is of the first SARS-CoV-2 sequenced from Wuhan (NC_k43lj)\n",
        "# as well as the genome of the bat coronavirus that researchers believe \n",
        "# SARS-CoV-2 evolved from. \n",
        "sequences = [record for record in \n",
        "             SeqIO.parse(cov2_vs_rtg13,'fasta')]\n",
        "sequence_bat = np.array(sequences[0])\n",
        "sequence_cov2 = np.array(sequences[1])\n",
        "virus = 'bat coronavirus (RTG13)' #@param ['bat coronavirus (RTG13)', 'SARS-CoV-2']\n",
        "if virus=='SARS-CoV-2':\n",
        "  print(sequences[1])\n",
        "else:\n",
        "  print(sequences[0])"
      ],
      "execution_count": null,
      "outputs": [
        {
          "output_type": "stream",
          "text": [
            "ID: MN996532.1\n",
            "Name: MN996532.1\n",
            "Description: MN996532.1 Bat coronavirus RaTG13, complete genome\n",
            "Number of features: 0\n",
            "Seq('---------------CTTTCCAGGTAACAAACCAACGAACTCTCGATCTCTTGT...---')\n"
          ],
          "name": "stdout"
        }
      ]
    },
    {
      "cell_type": "markdown",
      "metadata": {
        "id": "bipca0DXeJgd"
      },
      "source": [
        "### **Exercise: What do you think the symbol `-` in the sequences means?**"
      ]
    },
    {
      "cell_type": "code",
      "metadata": {
        "id": "_TfH_S67J-kG",
        "cellView": "form",
        "colab": {
          "base_uri": "https://localhost:8080/"
        },
        "outputId": "d4efdf94-0dbd-494d-a2e3-fad2268dcd35"
      },
      "source": [
        "Response = '' #@param {type:\"string\"}\n",
        "print(\"The -'s stand for deletions. \")\n",
        "print(\"When we line up the two genomes against each other,\")\n",
        "print(\"sometimes there are gaps in the sequence, where DNA got deleted\")\n",
        "print(\"as the bat coronavirus slowly evolved to SARS-CoV-2.\")\n",
        "print(\"We will learn more about this in the BONUS colab if you are interested.\")"
      ],
      "execution_count": null,
      "outputs": [
        {
          "output_type": "stream",
          "text": [
            "The -'s stand for deletions. \n",
            "When we line up the two genomes against each other,\n",
            "sometimes there are gaps in the sequence, where DNA got deleted\n",
            "as the bat coronavirus slowly evolved to SARS-CoV-2.\n",
            "We will learn more about this in the BONUS colab if you are interested.\n"
          ],
          "name": "stdout"
        }
      ]
    },
    {
      "cell_type": "markdown",
      "metadata": {
        "id": "R1uvCAtaCNrK"
      },
      "source": [
        "# Visualizing DNA Sequences"
      ]
    },
    {
      "cell_type": "markdown",
      "metadata": {
        "id": "QXsmg9ilV3v7"
      },
      "source": [
        "There are many software packages avalable to visualize and browse genomes. Let's view these two genomes.\n",
        "1. Navigate to NCBI's [Multiple Sequence Alignment Viewer tool](https://www.ncbi.nlm.nih.gov/projects/msaviewer/?appname=ncbi_msav&openuploaddialog). Click Under \"Data Source\", click \"Text\". \n",
        "2. Open up `SARS_CoV_2_vs_RTG13.fasta` in the Colab filesystem and copy/paste the contents into the textbox on the NCBI website. Click \"upload\" and then \"close\" and wait for your data to be uploaded.\n",
        "3. Explore the data! Change the view on the \"coloring\" toolbar, and zoom in and out.\n",
        "\n",
        "You should be able to get something that looks like the image below.\n",
        "\n",
        "<a href=\"https://ibb.co/rx75s8j\"><img src=\"https://i.ibb.co/ZBLcm4j/Screen-Shot-2020-05-18-at-4-44-17-PM.png\" alt=\"Screen-Shot-2020-05-18-at-4-44-17-PM\" border=\"0\" /></a>\n",
        "### **Exercise: Answer the following about the genome visualization in MSA Viewer.**"
      ]
    },
    {
      "cell_type": "code",
      "metadata": {
        "id": "zqN9i6jiESeZ"
      },
      "source": [
        "#@title #### 1. What does the coloring mean?\n",
        "Response = '' #@param {type:\"string\"}\n"
      ],
      "execution_count": null,
      "outputs": []
    },
    {
      "cell_type": "code",
      "metadata": {
        "id": "CeneBD8kEaGL",
        "cellView": "form"
      },
      "source": [
        "#@title #### 2. What does it mean when the two sequences have the same color vertical bar at the same location? Different colors?\n",
        "Response = '' #@param {type:\"string\"}"
      ],
      "execution_count": null,
      "outputs": []
    },
    {
      "cell_type": "code",
      "metadata": {
        "id": "GtEtrCTlEbZ7",
        "cellView": "form"
      },
      "source": [
        "#@title #### 3. How similar would you say the two viruses are?\n",
        "Response = '' #@param {type:\"string\"}"
      ],
      "execution_count": null,
      "outputs": []
    },
    {
      "cell_type": "markdown",
      "metadata": {
        "id": "xuNdoW6Wdkcn"
      },
      "source": [
        "# Parsing DNA Sequences\n",
        "We can parse sequences by treating them similar to strings!  It is easiest to convert each sequence to a numpy array of individual letters. Use the form below to view different segments (from positions `start` to `end`) of the SARS-CoV-2 and bat coronavirus genome.\n",
        "\n",
        "**Can you find regions where the two genomes are very different? Can you find regions where the two genomes are very similar?**"
      ]
    },
    {
      "cell_type": "code",
      "metadata": {
        "id": "QdfBpIdddjdu",
        "cellView": "form"
      },
      "source": [
        "sequence_bat = np.array(sequences[0])\n",
        "sequence_cov2 = np.array(sequences[1])\n",
        "start =  0#@param {type:\"integer\"}\n",
        "stop =  0#@param {type:\"integer\"}\n",
        "print(\"SARS-CoV-2:\")\n",
        "print(''.join(sequence_cov2[start:stop]))\n",
        "print(\"bat coronavirus:\")\n",
        "print(''.join(sequence_bat[start:stop]))\n",
        "print(sum(sequence_cov2[start:stop]!=sequence_bat[start:stop]),\n",
        "      \"bases differ.\")"
      ],
      "execution_count": null,
      "outputs": []
    },
    {
      "cell_type": "markdown",
      "metadata": {
        "id": "p7Axa-6zebM0"
      },
      "source": [
        "### **Exercise: Quantifying how similar the SARS-CoV-2 and the RTG13 bat coronavirus are.**\n",
        "Fill in the code below to perfor the following.\n",
        "1. Print the total number of bases in SARS-CoV-2 genome (Hint: You need to ignore `-`s!)\n",
        "2. Print the number of bases (nucleotides) that differ between RTG13 and SARS-CoV-2.\n",
        "3. Print the percent similarity between RTG13 and SARS-CoV-2."
      ]
    },
    {
      "cell_type": "code",
      "metadata": {
        "id": "zLHxPLcTDSrA",
        "colab": {
          "base_uri": "https://localhost:8080/"
        },
        "outputId": "176bc62d-4020-46f0-89c9-a174fefb5c2e"
      },
      "source": [
        "# Extract sequences.\n",
        "sequence_bat = np.array(sequences[0]) \n",
        "sequence_cov2 = np.array(sequences[1])\n",
        "\n",
        "# Compute length, number of different bases, \n",
        "# and number of the same bases.\n",
        "\n",
        "#### Fill in code to compute the length of sars-cov-2 (ignore -'s if possible!) ########\n",
        "length_cov2 = sequence_cov2.shape[0]\n",
        "\n",
        "n = 0\n",
        "for i in range(length_cov2):\n",
        "  if sequence_bat[i] != sequence_cov2[i]:\n",
        "    n += 1\n",
        "\n",
        "n_bases_different = n\n",
        "n_bases_same = length_cov2-n###### FILL IN #####\n",
        "\n",
        "print(\"1. Length of SARS-CoV-2 genome: \", length_cov2)\n",
        "print(\"2. # of bases that differ from RTG13: \", n_bases_different)\n",
        "print(\"3. Percent similarity: %\", 100*n_bases_same/length_cov2)"
      ],
      "execution_count": null,
      "outputs": [
        {
          "output_type": "stream",
          "text": [
            "1. Length of SARS-CoV-2 genome:  29903\n",
            "2. # of bases that differ from RTG13:  1189\n",
            "3. Percent similarity: % 96.02381032003478\n"
          ],
          "name": "stdout"
        }
      ]
    },
    {
      "cell_type": "markdown",
      "metadata": {
        "id": "-HxmkNA_fXRD"
      },
      "source": [
        "**Question: Now how similar do you think the two viruses are? Can you understand why scientists think SARS-CoV-2 originated from a bat?**"
      ]
    },
    {
      "cell_type": "markdown",
      "metadata": {
        "id": "0WEx_OUmfhfa"
      },
      "source": [
        "### **Exercise: Print the percent of A, T, C, and G in the SARS-CoV-2 genome.**"
      ]
    },
    {
      "cell_type": "code",
      "metadata": {
        "id": "EZpshjY5Subh",
        "colab": {
          "base_uri": "https://localhost:8080/"
        },
        "outputId": "cac181ca-42fe-450b-cfa5-8a6172901329"
      },
      "source": [
        "a = 0\n",
        "t = 0\n",
        "g = 0\n",
        "c = 0\n",
        "\n",
        "for i in range(length_cov2):\n",
        "  if sequence_cov2[i] == \"A\":\n",
        "    a += 1\n",
        "  elif sequence_cov2[i] == \"T\":\n",
        "    t += 1\n",
        "  elif sequence_cov2[i] == \"G\":\n",
        "    g += 1\n",
        "  elif sequence_cov2[i] == \"C\":\n",
        "    c += 1\n",
        "\n",
        "num_hypen = sum(sequence_cov2=='-')\n",
        "print(\"Percent A: %\", (100*a/length_cov2))\n",
        "print(\"Percent T: %\", (100*t/length_cov2))\n",
        "print(\"Percent C: %\", (100*c/length_cov2))\n",
        "print(\"Percent G: %\", (100*g/length_cov2))\n",
        "print(num_hypen)"
      ],
      "execution_count": null,
      "outputs": [
        {
          "output_type": "stream",
          "text": [
            "Percent A: % 29.943483931378122\n",
            "Percent T: % 32.083737417650404\n",
            "Percent C: % 18.366050229074006\n",
            "Percent G: % 19.60672842189747\n",
            "0\n"
          ],
          "name": "stdout"
        }
      ]
    },
    {
      "cell_type": "markdown",
      "metadata": {
        "id": "Q3Ij4SJsUIl7"
      },
      "source": [
        "**What do you notice about the percent of A/T/C/G?**  You can read more about G-C content [here](https://en.wikipedia.org/wiki/GC-content)."
      ]
    },
    {
      "cell_type": "markdown",
      "metadata": {
        "id": "8JQ9mGRzTIlh"
      },
      "source": [
        "### **Exercise (BONUS): How many possible start codons does SARS-CoV-2 have? (ATG sequences)**"
      ]
    },
    {
      "cell_type": "code",
      "metadata": {
        "id": "A8Qt7WjUTXSo",
        "colab": {
          "base_uri": "https://localhost:8080/"
        },
        "outputId": "7d0e1572-2fe2-4463-8ee2-3b837bc89019"
      },
      "source": [
        "n_start_codons = 0\n",
        "for i in range(len(sequence_cov2[:-3])):\n",
        "  codon = ''.join(sequence_cov2[i:(i+3)])\n",
        "  if codon == \"ATG\":\n",
        "    n_start_codons += 1\n",
        "\n",
        "print(\"Number of ATG start codons: \", n_start_codons)"
      ],
      "execution_count": null,
      "outputs": [
        {
          "output_type": "stream",
          "text": [
            "Number of ATG start codons:  725\n"
          ],
          "name": "stdout"
        }
      ]
    },
    {
      "cell_type": "markdown",
      "metadata": {
        "id": "nYxwlnKxUQm4"
      },
      "source": [
        "**What do you notice about the number of start codons?** Even though SARS-CoV-2 has many possible start codons, it produces only around 10 canonical proteins!  You can read more about virus open reading frames [here](https://en.wikipedia.org/wiki/Reading_frame)\n"
      ]
    },
    {
      "cell_type": "markdown",
      "metadata": {
        "id": "wh4jxKAimBoG"
      },
      "source": [
        "# More Exploring\n"
      ]
    },
    {
      "cell_type": "markdown",
      "metadata": {
        "id": "YSLYmL1yjXFv"
      },
      "source": [
        "### **Exercise: Viewing SARS-CoV-2 in UCSC genome browser.**\n",
        "You can view an annotated version of the SARS-CoV-2 genome via the [UCSC genome browser](https://genome.ucsc.edu/cgi-bin/hgTracks?db=wuhCor1&lastVirtModeType=default&lastVirtModeExtraState=&virtModeType=default&virtMode=0&nonVirtPosition=&position=NC_045512v2%3A1%2D29903&hgsid=823607307_GTWpNMWmkRdDAUIlnTnE9U88LyB3). Play around for a few minutes. See if you can find the start codon that starts the S (spike) protein 1, ORF1a (non-structural proteins helping in replication), M (membrane) protein and the E (envelope) protein.\n",
        "\n",
        "<a href=\"https://ibb.co/tqhjsc5\"><img src=\"https://i.ibb.co/gS7qTwC/Screen-Shot-2020-05-18-at-5-31-48-PM.png\" alt=\"Screen-Shot-2020-05-18-at-5-31-48-PM\" border=\"0\"></a><br />\n"
      ]
    },
    {
      "cell_type": "markdown",
      "metadata": {
        "id": "Q83GtDwhVwFk"
      },
      "source": [
        "\n",
        "What other interesting features do you notice about the SARS-CoV-2 genome? You can use UCSC Genome Browser, MSA Viewer, or python!\n",
        "\n",
        "### **Exercise: List 3 interesting features you find**"
      ]
    },
    {
      "cell_type": "code",
      "metadata": {
        "id": "xZqyg1x2WYfo",
        "colab": {
          "base_uri": "https://localhost:8080/"
        },
        "outputId": "aa8057d8-d2c2-4fb3-ffdb-a2a0f25b7182"
      },
      "source": [
        "### Explore with python here #####\n",
        "N = 0\n",
        "for i in range(length_cov2-3):\n",
        "  if sequence_cov2[i]+sequence_cov2[i+1]+sequence_cov2[i+2] == \"ATG\":\n",
        "    N+=1\n",
        "N "
      ],
      "execution_count": null,
      "outputs": [
        {
          "output_type": "execute_result",
          "data": {
            "text/plain": [
              "725"
            ]
          },
          "metadata": {
            "tags": []
          },
          "execution_count": 21
        }
      ]
    },
    {
      "cell_type": "code",
      "metadata": {
        "id": "-d6WkcqFUwCF",
        "cellView": "form"
      },
      "source": [
        "_1_ = 'Different protiens' #@param {type:\"string\"}\n",
        "_2_ = '' #@param {type:\"string\"}\n",
        "_3_ = '' #@param {type:\"string\"}"
      ],
      "execution_count": null,
      "outputs": []
    },
    {
      "cell_type": "markdown",
      "metadata": {
        "id": "dehhUVvXKWYX"
      },
      "source": [
        "# Wrapping up"
      ]
    },
    {
      "cell_type": "markdown",
      "metadata": {
        "id": "Kf9U7fdpr4bo"
      },
      "source": [
        "***Awesome!*** Digging through genomes for clues about nature is a daunting task. But if done right, we can learn some fascinating things about how organisms function without having to lift a single test tube!\n",
        "\n",
        "\n",
        "![](https://imgs.xkcd.com/comics/dna.png)"
      ]
    }
  ]
}