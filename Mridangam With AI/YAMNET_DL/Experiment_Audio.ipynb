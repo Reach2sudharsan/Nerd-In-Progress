{
 "cells": [
  {
   "cell_type": "code",
   "execution_count": 12,
   "metadata": {
    "id": "gL14Vhix3gqH"
   },
   "outputs": [],
   "source": [
    "import numpy as np\n",
    "import pandas as pd"
   ]
  },
  {
   "cell_type": "markdown",
   "metadata": {
    "id": "So2q5Nt9ZUiU"
   },
   "source": [
    "# Data Cleaning"
   ]
  },
  {
   "cell_type": "code",
   "execution_count": null,
   "metadata": {
    "colab": {
     "base_uri": "https://localhost:8080/"
    },
    "id": "fXep25zWEDMl",
    "outputId": "5eaa262b-3f91-4969-d234-d4dc444f235d"
   },
   "outputs": [],
   "source": [
    "from google.colab import drive\n",
    "drive.mount('/content/gdrive/')"
   ]
  },
  {
   "cell_type": "code",
   "execution_count": 5,
   "metadata": {
    "id": "PLgXsRCoEY7Z"
   },
   "outputs": [],
   "source": [
    "import os"
   ]
  },
  {
   "cell_type": "code",
   "execution_count": 6,
   "metadata": {},
   "outputs": [],
   "source": [
    "import librosa"
   ]
  },
  {
   "cell_type": "code",
   "execution_count": 9,
   "metadata": {},
   "outputs": [],
   "source": [
    "a = librosa.load(\"content/gdrive/My Drive/mridangam_stroke_1.0/B/224030__akshaylaya__bheem-b-001.wav\")"
   ]
  },
  {
   "cell_type": "code",
   "execution_count": 10,
   "metadata": {
    "id": "Gljn1-9kE5wZ"
   },
   "outputs": [],
   "source": [
    "def return_paths():\n",
    "  b_paths = os.listdir('content/gdrive/My Drive/mridangam_stroke_1.0/B')\n",
    "  b_paths.sort()\n",
    "  b_paths = np.array(b_paths)\n",
    "  b_paths = np.delete(b_paths, len(b_paths)-1)\n",
    "\n",
    "  c_paths = os.listdir('content/gdrive/My Drive/mridangam_stroke_1.0/C')\n",
    "  c_paths.sort()\n",
    "  c_paths = np.array(c_paths)\n",
    "  c_paths = np.delete(c_paths, len(c_paths)-1)\n",
    "\n",
    "  cs_paths = os.listdir('content/gdrive/My Drive/mridangam_stroke_1.0/C#')\n",
    "  cs_paths.sort()\n",
    "  cs_paths = np.array(cs_paths)\n",
    "  cs_paths = np.delete(cs_paths, len(cs_paths)-1)\n",
    " \n",
    "  d_paths = os.listdir('content/gdrive/My Drive/mridangam_stroke_1.0/D')\n",
    "  d_paths.sort()\n",
    "  d_paths = np.array(d_paths)\n",
    "  d_paths = np.delete(d_paths, len(d_paths)-1)\n",
    "\n",
    "  ds_paths = os.listdir('content/gdrive/My Drive/mridangam_stroke_1.0/D#')\n",
    "  ds_paths.sort()\n",
    "  ds_paths = np.array(ds_paths)\n",
    "  ds_paths = np.delete(ds_paths, len(ds_paths)-1)\n",
    "\n",
    "  e_paths = os.listdir('content/gdrive/My Drive/mridangam_stroke_1.0/E')\n",
    "  e_paths.sort()\n",
    "  e_paths = np.array(e_paths)\n",
    "  e_paths = np.delete(e_paths, len(e_paths)-1)\n",
    "\n",
    "  return b_paths, c_paths, cs_paths, d_paths, ds_paths, e_paths"
   ]
  },
  {
   "cell_type": "code",
   "execution_count": 3,
   "metadata": {
    "colab": {
     "base_uri": "https://localhost:8080/",
     "height": 35
    },
    "id": "y1k9RM0SQ2BT",
    "outputId": "38c67431-96f9-440a-c602-7f7ae001129c"
   },
   "outputs": [
    {
     "ename": "NameError",
     "evalue": "name 'b' is not defined",
     "output_type": "error",
     "traceback": [
      "\u001b[0;31m---------------------------------------------------------------------------\u001b[0m",
      "\u001b[0;31mNameError\u001b[0m                                 Traceback (most recent call last)",
      "Input \u001b[0;32mIn [3]\u001b[0m, in \u001b[0;36m<module>\u001b[0;34m\u001b[0m\n\u001b[0;32m----> 1\u001b[0m \u001b[43mb\u001b[49m[\u001b[38;5;241m0\u001b[39m]\n",
      "\u001b[0;31mNameError\u001b[0m: name 'b' is not defined"
     ]
    }
   ],
   "source": [
    "b[0]"
   ]
  },
  {
   "cell_type": "code",
   "execution_count": 13,
   "metadata": {
    "id": "tnPwSx-1E8rk"
   },
   "outputs": [],
   "source": [
    "b_paths, c_paths, cs_paths, d_paths, ds_paths, e_paths = return_paths()"
   ]
  },
  {
   "cell_type": "code",
   "execution_count": 15,
   "metadata": {
    "id": "jmxLzwhwF0Vl"
   },
   "outputs": [],
   "source": [
    "b = b_paths.copy()\n",
    "c = c_paths.copy()\n",
    "cs = cs_paths.copy()\n",
    "d = d_paths.copy()\n",
    "ds = ds_paths.copy()\n",
    "e = e_paths.copy()"
   ]
  },
  {
   "cell_type": "code",
   "execution_count": null,
   "metadata": {
    "id": "5hGQvbqRFcyv"
   },
   "outputs": [],
   "source": [
    "for i in range(len(b)):\n",
    "  string = \"/\".join([\"B\", b[i]])\n",
    "  b[i] = string"
   ]
  },
  {
   "cell_type": "code",
   "execution_count": null,
   "metadata": {
    "colab": {
     "base_uri": "https://localhost:8080/",
     "height": 35
    },
    "id": "EvjqY40fGXYf",
    "outputId": "276d8d51-e3c2-4abe-d5f8-9a9c66e85902"
   },
   "outputs": [],
   "source": [
    "b[0]"
   ]
  },
  {
   "cell_type": "code",
   "execution_count": null,
   "metadata": {
    "colab": {
     "base_uri": "https://localhost:8080/",
     "height": 35
    },
    "id": "G37iiTNrH8p2",
    "outputId": "70832715-091f-461d-a05e-2086e8e24a7b"
   },
   "outputs": [],
   "source": [
    "\"/\".join([\"B\", \"224030__akshaylaya__bheem-b-001.wav\"])"
   ]
  },
  {
   "cell_type": "code",
   "execution_count": null,
   "metadata": {
    "colab": {
     "base_uri": "https://localhost:8080/"
    },
    "id": "bCwo4XQqICtG",
    "outputId": "bcd2c5af-ac57-44ca-855f-4496b03cbe27"
   },
   "outputs": [],
   "source": [
    "len(b)"
   ]
  },
  {
   "cell_type": "code",
   "execution_count": null,
   "metadata": {
    "id": "T1-BqYyNwtAq"
   },
   "outputs": [],
   "source": [
    "b_paths_new = np.array([])\n",
    "for i in range(len(b)):\n",
    "  b_paths_new = np.append(b_paths_new, b[i])"
   ]
  },
  {
   "cell_type": "code",
   "execution_count": null,
   "metadata": {
    "id": "iTOKAEH938Ax"
   },
   "outputs": [],
   "source": [
    "c_paths_new = np.array([])\n",
    "for i in range(len(c)):\n",
    "  c_paths_new = np.append(c_paths_new, c[i])"
   ]
  },
  {
   "cell_type": "code",
   "execution_count": null,
   "metadata": {
    "id": "viZ8TlRafkLO"
   },
   "outputs": [],
   "source": [
    "cs_paths_new = np.array([])\n",
    "for i in range(len(cs)):\n",
    "  cs_paths_new = np.append(cs_paths_new, cs[i])"
   ]
  },
  {
   "cell_type": "code",
   "execution_count": null,
   "metadata": {
    "id": "ljXBz7KkfrWW"
   },
   "outputs": [],
   "source": [
    "d_paths_new = np.array([])\n",
    "for i in range(len(d)):\n",
    "  d_paths_new = np.append(d_paths_new, d[i])"
   ]
  },
  {
   "cell_type": "code",
   "execution_count": null,
   "metadata": {
    "id": "S__jXKrCftuA"
   },
   "outputs": [],
   "source": [
    "ds_paths_new = np.array([])\n",
    "for i in range(len(ds)):\n",
    "  ds_paths_new = np.append(ds_paths_new, ds[i])"
   ]
  },
  {
   "cell_type": "code",
   "execution_count": null,
   "metadata": {
    "id": "YR5QTSY7fwnn"
   },
   "outputs": [],
   "source": [
    "e_paths_new = np.array([])\n",
    "for i in range(len(e)):\n",
    "  e_paths_new = np.append(e_paths_new, e[i])"
   ]
  },
  {
   "cell_type": "code",
   "execution_count": null,
   "metadata": {
    "colab": {
     "base_uri": "https://localhost:8080/"
    },
    "id": "KcYSVCl0cLV-",
    "outputId": "6621e065-17a4-4580-9111-5a934086dcb4"
   },
   "outputs": [],
   "source": [
    "len(b_paths_new), len(c_paths_new), len(cs_paths_new), len(d_paths_new), len(ds_paths_new), len(e_paths_new)"
   ]
  },
  {
   "cell_type": "code",
   "execution_count": null,
   "metadata": {
    "colab": {
     "base_uri": "https://localhost:8080/",
     "height": 35
    },
    "id": "nhd6_Nxqw1xj",
    "outputId": "27dfda5a-c17b-4367-abb9-bdc69d9bf4da"
   },
   "outputs": [],
   "source": [
    "b_paths_new[0]"
   ]
  },
  {
   "cell_type": "code",
   "execution_count": null,
   "metadata": {
    "id": "or5TdLEXcrVv"
   },
   "outputs": [],
   "source": [
    "lengths = np.array([])\n",
    "waves = np.array([])"
   ]
  },
  {
   "cell_type": "code",
   "execution_count": null,
   "metadata": {
    "id": "FIrpTxnwxZkr"
   },
   "outputs": [],
   "source": [
    "counter = 0"
   ]
  },
  {
   "cell_type": "code",
   "execution_count": null,
   "metadata": {
    "id": "6RAXUoCPPhdc"
   },
   "outputs": [],
   "source": [
    "import librosa"
   ]
  },
  {
   "cell_type": "code",
   "execution_count": null,
   "metadata": {
    "id": "Y0jrBtN44WoN"
   },
   "outputs": [],
   "source": [
    "for i in range(len(b_paths_new)):\n",
    "  path = \"/content/gdrive/My Drive/mridangam_stroke_1.0/B/{}\".format(b_paths_new[i])\n",
    "  signal, sr = librosa.load(path)\n",
    "  waves = np.append(waves, path)\n",
    "  lengths = np.append(lengths, len(signal))"
   ]
  },
  {
   "cell_type": "code",
   "execution_count": null,
   "metadata": {
    "id": "c8IV6yIj4cAn"
   },
   "outputs": [],
   "source": [
    "for i in range(len(c_paths_new)):\n",
    "  path = \"/content/gdrive/My Drive/mridangam_stroke_1.0/C/{}\".format(c_paths_new[i])\n",
    "  signal, sr = librosa.load(path)\n",
    "  waves = np.append(waves, path)\n",
    "  lengths = np.append(lengths, len(signal))"
   ]
  },
  {
   "cell_type": "code",
   "execution_count": null,
   "metadata": {
    "id": "yjTT0Pyy4jCt"
   },
   "outputs": [],
   "source": [
    "for i in range(len(cs_paths_new)):\n",
    "  path = \"/content/gdrive/My Drive/mridangam_stroke_1.0/C#/{}\".format(cs_paths_new[i])\n",
    "  signal, sr = librosa.load(path)\n",
    "  waves = np.append(waves, path)\n",
    "  lengths = np.append(lengths, len(signal))"
   ]
  },
  {
   "cell_type": "code",
   "execution_count": null,
   "metadata": {
    "id": "ZJBZc-dX4plG"
   },
   "outputs": [],
   "source": [
    "for i in range(len(d_paths_new)):\n",
    "  path = \"/content/gdrive/My Drive/mridangam_stroke_1.0/D/{}\".format(d_paths_new[i])\n",
    "  signal, sr = librosa.load(path)\n",
    "  waves = np.append(waves, path)\n",
    "  lengths = np.append(lengths, len(signal))"
   ]
  },
  {
   "cell_type": "code",
   "execution_count": null,
   "metadata": {
    "id": "Fq-khVXW4slI"
   },
   "outputs": [],
   "source": [
    "for i in range(len(ds_paths_new)):\n",
    "  path = \"/content/gdrive/My Drive/mridangam_stroke_1.0/D#/{}\".format(ds_paths_new[i])\n",
    "  signal, sr = librosa.load(path)\n",
    "  waves = np.append(waves, path)\n",
    "  lengths = np.append(lengths, len(signal))"
   ]
  },
  {
   "cell_type": "code",
   "execution_count": null,
   "metadata": {
    "id": "ZAW1iK3g4vCC"
   },
   "outputs": [],
   "source": [
    "for i in range(len(e_paths_new)):\n",
    "  path = \"/content/gdrive/My Drive/mridangam_stroke_1.0/E/{}\".format(e_paths_new[i])\n",
    "  signal, sr = librosa.load(path)\n",
    "  waves = np.append(waves, path)\n",
    "  lengths = np.append(lengths, len(signal))"
   ]
  },
  {
   "cell_type": "code",
   "execution_count": null,
   "metadata": {
    "colab": {
     "base_uri": "https://localhost:8080/"
    },
    "id": "bALXpVckYIHR",
    "outputId": "6f5e97c2-ecdf-43bd-d8d4-1da244b124b6"
   },
   "outputs": [],
   "source": []
  },
  {
   "cell_type": "code",
   "execution_count": null,
   "metadata": {
    "id": "Qq3OENskYQdy"
   },
   "outputs": [],
   "source": [
    "wave_dict = {\n",
    "    \"Paths\": waves,\n",
    "    \"Lengths\": lengths,\n",
    "    \"Thalams\": np.concatenate([[\"B\" for i in range(len(b))],\n",
    "                [\"C\" for i in range(len(c))],\n",
    "                [\"C#\" for i in range(len(cs))],\n",
    "                [\"D\" for i in range(len(d))],\n",
    "                [\"D#\" for i in range(len(ds))],\n",
    "                [\"E\" for i in range(len(e))],\n",
    "                ])\n",
    "}"
   ]
  },
  {
   "cell_type": "code",
   "execution_count": null,
   "metadata": {
    "id": "Ga-1vx3cYos4"
   },
   "outputs": [],
   "source": [
    "wave_pd = pd.DataFrame(wave_dict)"
   ]
  },
  {
   "cell_type": "code",
   "execution_count": null,
   "metadata": {
    "id": "B_L5uG3rYrLt"
   },
   "outputs": [],
   "source": [
    "wave_pd.to_csv(\"wave_csv.csv\")"
   ]
  },
  {
   "cell_type": "code",
   "execution_count": null,
   "metadata": {
    "id": "TRHvks3mZKtv"
   },
   "outputs": [],
   "source": []
  },
  {
   "cell_type": "markdown",
   "metadata": {
    "id": "c0BgO08jZX5u"
   },
   "source": [
    "# Data Processing"
   ]
  },
  {
   "cell_type": "code",
   "execution_count": null,
   "metadata": {
    "colab": {
     "base_uri": "https://localhost:8080/"
    },
    "id": "YylpyTEKZyKZ",
    "outputId": "c3a42b84-8b57-4e65-c0c1-e2cb5890211b"
   },
   "outputs": [],
   "source": [
    "from google.colab import drive\n",
    "drive.mount('/content/gdrive/')"
   ]
  },
  {
   "cell_type": "code",
   "execution_count": 17,
   "metadata": {
    "id": "QpPlDmQlZaMv"
   },
   "outputs": [],
   "source": [
    "wave_pd = pd.read_csv('paths.csv')\n",
    "strokes = wave_pd[\"Stroke\"]"
   ]
  },
  {
   "cell_type": "code",
   "execution_count": 19,
   "metadata": {
    "colab": {
     "base_uri": "https://localhost:8080/",
     "height": 419
    },
    "id": "nPt_pI5-ZkYU",
    "outputId": "355aff47-23e1-4e81-a88e-54a00aaa54ac"
   },
   "outputs": [
    {
     "data": {
      "text/html": [
       "<div>\n",
       "<style scoped>\n",
       "    .dataframe tbody tr th:only-of-type {\n",
       "        vertical-align: middle;\n",
       "    }\n",
       "\n",
       "    .dataframe tbody tr th {\n",
       "        vertical-align: top;\n",
       "    }\n",
       "\n",
       "    .dataframe thead th {\n",
       "        text-align: right;\n",
       "    }\n",
       "</style>\n",
       "<table border=\"1\" class=\"dataframe\">\n",
       "  <thead>\n",
       "    <tr style=\"text-align: right;\">\n",
       "      <th></th>\n",
       "      <th>Unnamed: 0</th>\n",
       "      <th>Path</th>\n",
       "      <th>Length</th>\n",
       "      <th>Shruti</th>\n",
       "      <th>Stroke</th>\n",
       "    </tr>\n",
       "  </thead>\n",
       "  <tbody>\n",
       "    <tr>\n",
       "      <th>0</th>\n",
       "      <td>0</td>\n",
       "      <td>/content/gdrive/My Drive/mridangam_stroke_1.0/...</td>\n",
       "      <td>17921.0</td>\n",
       "      <td>B</td>\n",
       "      <td>bheem</td>\n",
       "    </tr>\n",
       "    <tr>\n",
       "      <th>1</th>\n",
       "      <td>1</td>\n",
       "      <td>/content/gdrive/My Drive/mridangam_stroke_1.0/...</td>\n",
       "      <td>11777.0</td>\n",
       "      <td>B</td>\n",
       "      <td>bheem</td>\n",
       "    </tr>\n",
       "    <tr>\n",
       "      <th>2</th>\n",
       "      <td>2</td>\n",
       "      <td>/content/gdrive/My Drive/mridangam_stroke_1.0/...</td>\n",
       "      <td>7425.0</td>\n",
       "      <td>B</td>\n",
       "      <td>bheem</td>\n",
       "    </tr>\n",
       "    <tr>\n",
       "      <th>3</th>\n",
       "      <td>3</td>\n",
       "      <td>/content/gdrive/My Drive/mridangam_stroke_1.0/...</td>\n",
       "      <td>11522.0</td>\n",
       "      <td>B</td>\n",
       "      <td>bheem</td>\n",
       "    </tr>\n",
       "    <tr>\n",
       "      <th>4</th>\n",
       "      <td>4</td>\n",
       "      <td>/content/gdrive/My Drive/mridangam_stroke_1.0/...</td>\n",
       "      <td>20993.0</td>\n",
       "      <td>B</td>\n",
       "      <td>bheem</td>\n",
       "    </tr>\n",
       "    <tr>\n",
       "      <th>...</th>\n",
       "      <td>...</td>\n",
       "      <td>...</td>\n",
       "      <td>...</td>\n",
       "      <td>...</td>\n",
       "      <td>...</td>\n",
       "    </tr>\n",
       "    <tr>\n",
       "      <th>7187</th>\n",
       "      <td>7207</td>\n",
       "      <td>/content/gdrive/My Drive/mridangam_stroke_1.0/...</td>\n",
       "      <td>5889.0</td>\n",
       "      <td>E</td>\n",
       "      <td>thom</td>\n",
       "    </tr>\n",
       "    <tr>\n",
       "      <th>7188</th>\n",
       "      <td>7208</td>\n",
       "      <td>/content/gdrive/My Drive/mridangam_stroke_1.0/...</td>\n",
       "      <td>6913.0</td>\n",
       "      <td>E</td>\n",
       "      <td>thom</td>\n",
       "    </tr>\n",
       "    <tr>\n",
       "      <th>7189</th>\n",
       "      <td>7209</td>\n",
       "      <td>/content/gdrive/My Drive/mridangam_stroke_1.0/...</td>\n",
       "      <td>6401.0</td>\n",
       "      <td>E</td>\n",
       "      <td>thom</td>\n",
       "    </tr>\n",
       "    <tr>\n",
       "      <th>7190</th>\n",
       "      <td>7210</td>\n",
       "      <td>/content/gdrive/My Drive/mridangam_stroke_1.0/...</td>\n",
       "      <td>5889.0</td>\n",
       "      <td>E</td>\n",
       "      <td>thom</td>\n",
       "    </tr>\n",
       "    <tr>\n",
       "      <th>7191</th>\n",
       "      <td>7211</td>\n",
       "      <td>/content/gdrive/My Drive/mridangam_stroke_1.0/...</td>\n",
       "      <td>6401.0</td>\n",
       "      <td>E</td>\n",
       "      <td>thom</td>\n",
       "    </tr>\n",
       "  </tbody>\n",
       "</table>\n",
       "<p>7192 rows × 5 columns</p>\n",
       "</div>"
      ],
      "text/plain": [
       "      Unnamed: 0                                               Path   Length  \\\n",
       "0              0  /content/gdrive/My Drive/mridangam_stroke_1.0/...  17921.0   \n",
       "1              1  /content/gdrive/My Drive/mridangam_stroke_1.0/...  11777.0   \n",
       "2              2  /content/gdrive/My Drive/mridangam_stroke_1.0/...   7425.0   \n",
       "3              3  /content/gdrive/My Drive/mridangam_stroke_1.0/...  11522.0   \n",
       "4              4  /content/gdrive/My Drive/mridangam_stroke_1.0/...  20993.0   \n",
       "...          ...                                                ...      ...   \n",
       "7187        7207  /content/gdrive/My Drive/mridangam_stroke_1.0/...   5889.0   \n",
       "7188        7208  /content/gdrive/My Drive/mridangam_stroke_1.0/...   6913.0   \n",
       "7189        7209  /content/gdrive/My Drive/mridangam_stroke_1.0/...   6401.0   \n",
       "7190        7210  /content/gdrive/My Drive/mridangam_stroke_1.0/...   5889.0   \n",
       "7191        7211  /content/gdrive/My Drive/mridangam_stroke_1.0/...   6401.0   \n",
       "\n",
       "     Shruti Stroke  \n",
       "0         B  bheem  \n",
       "1         B  bheem  \n",
       "2         B  bheem  \n",
       "3         B  bheem  \n",
       "4         B  bheem  \n",
       "...     ...    ...  \n",
       "7187      E   thom  \n",
       "7188      E   thom  \n",
       "7189      E   thom  \n",
       "7190      E   thom  \n",
       "7191      E   thom  \n",
       "\n",
       "[7192 rows x 5 columns]"
      ]
     },
     "execution_count": 19,
     "metadata": {},
     "output_type": "execute_result"
    }
   ],
   "source": [
    "wave_pd"
   ]
  },
  {
   "cell_type": "code",
   "execution_count": 21,
   "metadata": {},
   "outputs": [],
   "source": [
    "wave_pd[\"Path\"] = wave_pd[\"Path\"].map(lambda x: x[1:])"
   ]
  },
  {
   "cell_type": "code",
   "execution_count": 4,
   "metadata": {},
   "outputs": [],
   "source": [
    "wave_pd[\"Path\"] = wave_pd[\"Path\"].map(lambda x: x[1:]).values"
   ]
  },
  {
   "cell_type": "code",
   "execution_count": 5,
   "metadata": {},
   "outputs": [],
   "source": [
    "wave_pd = wave_pd.apply(lambda x: x[1:], axis=1)"
   ]
  },
  {
   "cell_type": "code",
   "execution_count": 22,
   "metadata": {},
   "outputs": [],
   "source": [
    "wave_pd = wave_pd.drop_duplicates()"
   ]
  },
  {
   "cell_type": "code",
   "execution_count": 23,
   "metadata": {},
   "outputs": [
    {
     "name": "stdout",
     "output_type": "stream",
     "text": [
      "Requirement already satisfied: tensorflow-hub in /Library/Frameworks/Python.framework/Versions/3.10/lib/python3.10/site-packages (0.13.0)\n",
      "Requirement already satisfied: numpy>=1.12.0 in /Library/Frameworks/Python.framework/Versions/3.10/lib/python3.10/site-packages (from tensorflow-hub) (1.22.0)\n",
      "Requirement already satisfied: protobuf>=3.19.6 in /Library/Frameworks/Python.framework/Versions/3.10/lib/python3.10/site-packages (from tensorflow-hub) (3.19.6)\n",
      "\n",
      "\u001b[1m[\u001b[0m\u001b[34;49mnotice\u001b[0m\u001b[1;39;49m]\u001b[0m\u001b[39;49m A new release of pip is available: \u001b[0m\u001b[31;49m23.1.2\u001b[0m\u001b[39;49m -> \u001b[0m\u001b[32;49m23.3.2\u001b[0m\n",
      "\u001b[1m[\u001b[0m\u001b[34;49mnotice\u001b[0m\u001b[1;39;49m]\u001b[0m\u001b[39;49m To update, run: \u001b[0m\u001b[32;49mpip install --upgrade pip\u001b[0m\n"
     ]
    }
   ],
   "source": [
    "!pip install tensorflow-hub"
   ]
  },
  {
   "cell_type": "code",
   "execution_count": 24,
   "metadata": {
    "id": "wNr38IffjYfc"
   },
   "outputs": [],
   "source": [
    "import random\n",
    "import os\n",
    "import glob\n",
    "import time\n",
    "\n",
    "import pandas as pd\n",
    "import numpy as np\n",
    "import matplotlib.pyplot as plt\n",
    "import seaborn as sns\n",
    "import librosa\n",
    "from IPython import display\n",
    "\n",
    "import tensorflow as tf\n",
    "from tensorflow.keras import layers, Sequential\n",
    "from tensorflow.keras.utils import plot_model\n",
    "from tensorflow.keras.callbacks import ModelCheckpoint\n",
    "\n",
    "from sklearn.preprocessing import LabelEncoder\n",
    "from sklearn.metrics import classification_report, precision_recall_fscore_support\n",
    "from sklearn.metrics import accuracy_score, f1_score, matthews_corrcoef\n",
    "from sklearn.metrics import confusion_matrix, ConfusionMatrixDisplay\n",
    "# from scikitplot.metrics import plot_roc"
   ]
  },
  {
   "cell_type": "code",
   "execution_count": 25,
   "metadata": {},
   "outputs": [],
   "source": [
    "import tensorflow_hub as hub"
   ]
  },
  {
   "cell_type": "code",
   "execution_count": 26,
   "metadata": {
    "colab": {
     "base_uri": "https://localhost:8080/",
     "height": 419
    },
    "id": "9eAt4u-djsoH",
    "outputId": "c146bc82-f500-41d4-d096-5c6e50c2e2de"
   },
   "outputs": [
    {
     "data": {
      "text/html": [
       "<div>\n",
       "<style scoped>\n",
       "    .dataframe tbody tr th:only-of-type {\n",
       "        vertical-align: middle;\n",
       "    }\n",
       "\n",
       "    .dataframe tbody tr th {\n",
       "        vertical-align: top;\n",
       "    }\n",
       "\n",
       "    .dataframe thead th {\n",
       "        text-align: right;\n",
       "    }\n",
       "</style>\n",
       "<table border=\"1\" class=\"dataframe\">\n",
       "  <thead>\n",
       "    <tr style=\"text-align: right;\">\n",
       "      <th></th>\n",
       "      <th>Unnamed: 0</th>\n",
       "      <th>Path</th>\n",
       "      <th>Length</th>\n",
       "      <th>Shruti</th>\n",
       "      <th>Stroke</th>\n",
       "    </tr>\n",
       "  </thead>\n",
       "  <tbody>\n",
       "    <tr>\n",
       "      <th>0</th>\n",
       "      <td>0</td>\n",
       "      <td>content/gdrive/My Drive/mridangam_stroke_1.0/B...</td>\n",
       "      <td>17921.0</td>\n",
       "      <td>B</td>\n",
       "      <td>bheem</td>\n",
       "    </tr>\n",
       "    <tr>\n",
       "      <th>1</th>\n",
       "      <td>1</td>\n",
       "      <td>content/gdrive/My Drive/mridangam_stroke_1.0/B...</td>\n",
       "      <td>11777.0</td>\n",
       "      <td>B</td>\n",
       "      <td>bheem</td>\n",
       "    </tr>\n",
       "    <tr>\n",
       "      <th>2</th>\n",
       "      <td>2</td>\n",
       "      <td>content/gdrive/My Drive/mridangam_stroke_1.0/B...</td>\n",
       "      <td>7425.0</td>\n",
       "      <td>B</td>\n",
       "      <td>bheem</td>\n",
       "    </tr>\n",
       "    <tr>\n",
       "      <th>3</th>\n",
       "      <td>3</td>\n",
       "      <td>content/gdrive/My Drive/mridangam_stroke_1.0/B...</td>\n",
       "      <td>11522.0</td>\n",
       "      <td>B</td>\n",
       "      <td>bheem</td>\n",
       "    </tr>\n",
       "    <tr>\n",
       "      <th>4</th>\n",
       "      <td>4</td>\n",
       "      <td>content/gdrive/My Drive/mridangam_stroke_1.0/B...</td>\n",
       "      <td>20993.0</td>\n",
       "      <td>B</td>\n",
       "      <td>bheem</td>\n",
       "    </tr>\n",
       "    <tr>\n",
       "      <th>...</th>\n",
       "      <td>...</td>\n",
       "      <td>...</td>\n",
       "      <td>...</td>\n",
       "      <td>...</td>\n",
       "      <td>...</td>\n",
       "    </tr>\n",
       "    <tr>\n",
       "      <th>7187</th>\n",
       "      <td>7207</td>\n",
       "      <td>content/gdrive/My Drive/mridangam_stroke_1.0/E...</td>\n",
       "      <td>5889.0</td>\n",
       "      <td>E</td>\n",
       "      <td>thom</td>\n",
       "    </tr>\n",
       "    <tr>\n",
       "      <th>7188</th>\n",
       "      <td>7208</td>\n",
       "      <td>content/gdrive/My Drive/mridangam_stroke_1.0/E...</td>\n",
       "      <td>6913.0</td>\n",
       "      <td>E</td>\n",
       "      <td>thom</td>\n",
       "    </tr>\n",
       "    <tr>\n",
       "      <th>7189</th>\n",
       "      <td>7209</td>\n",
       "      <td>content/gdrive/My Drive/mridangam_stroke_1.0/E...</td>\n",
       "      <td>6401.0</td>\n",
       "      <td>E</td>\n",
       "      <td>thom</td>\n",
       "    </tr>\n",
       "    <tr>\n",
       "      <th>7190</th>\n",
       "      <td>7210</td>\n",
       "      <td>content/gdrive/My Drive/mridangam_stroke_1.0/E...</td>\n",
       "      <td>5889.0</td>\n",
       "      <td>E</td>\n",
       "      <td>thom</td>\n",
       "    </tr>\n",
       "    <tr>\n",
       "      <th>7191</th>\n",
       "      <td>7211</td>\n",
       "      <td>content/gdrive/My Drive/mridangam_stroke_1.0/E...</td>\n",
       "      <td>6401.0</td>\n",
       "      <td>E</td>\n",
       "      <td>thom</td>\n",
       "    </tr>\n",
       "  </tbody>\n",
       "</table>\n",
       "<p>7192 rows × 5 columns</p>\n",
       "</div>"
      ],
      "text/plain": [
       "      Unnamed: 0                                               Path   Length  \\\n",
       "0              0  content/gdrive/My Drive/mridangam_stroke_1.0/B...  17921.0   \n",
       "1              1  content/gdrive/My Drive/mridangam_stroke_1.0/B...  11777.0   \n",
       "2              2  content/gdrive/My Drive/mridangam_stroke_1.0/B...   7425.0   \n",
       "3              3  content/gdrive/My Drive/mridangam_stroke_1.0/B...  11522.0   \n",
       "4              4  content/gdrive/My Drive/mridangam_stroke_1.0/B...  20993.0   \n",
       "...          ...                                                ...      ...   \n",
       "7187        7207  content/gdrive/My Drive/mridangam_stroke_1.0/E...   5889.0   \n",
       "7188        7208  content/gdrive/My Drive/mridangam_stroke_1.0/E...   6913.0   \n",
       "7189        7209  content/gdrive/My Drive/mridangam_stroke_1.0/E...   6401.0   \n",
       "7190        7210  content/gdrive/My Drive/mridangam_stroke_1.0/E...   5889.0   \n",
       "7191        7211  content/gdrive/My Drive/mridangam_stroke_1.0/E...   6401.0   \n",
       "\n",
       "     Shruti Stroke  \n",
       "0         B  bheem  \n",
       "1         B  bheem  \n",
       "2         B  bheem  \n",
       "3         B  bheem  \n",
       "4         B  bheem  \n",
       "...     ...    ...  \n",
       "7187      E   thom  \n",
       "7188      E   thom  \n",
       "7189      E   thom  \n",
       "7190      E   thom  \n",
       "7191      E   thom  \n",
       "\n",
       "[7192 rows x 5 columns]"
      ]
     },
     "execution_count": 26,
     "metadata": {},
     "output_type": "execute_result"
    }
   ],
   "source": [
    "wave_pd"
   ]
  },
  {
   "cell_type": "code",
   "execution_count": 27,
   "metadata": {
    "id": "C6cKlSrytDAJ"
   },
   "outputs": [],
   "source": [
    "unique_strokes = np.unique(strokes)"
   ]
  },
  {
   "cell_type": "code",
   "execution_count": 28,
   "metadata": {
    "id": "0m0waIlYkf3N"
   },
   "outputs": [],
   "source": [
    "labels = wave_pd[\"Stroke\"].values\n",
    "labels_new = np.ones((len(labels,)))\n",
    "\n",
    "for i in range(len(labels)):\n",
    "  if labels[i] == \"bheem\":\n",
    "    labels_new[i] = 1\n",
    "  elif labels[i] == \"cha\":\n",
    "    labels_new[i] = 2\n",
    "  elif labels[i] == \"dheem\":\n",
    "    labels_new[i] = 3\n",
    "  elif labels[i] == \"dhin\":\n",
    "    labels_new[i] = 4\n",
    "  elif labels[i] == \"num\":\n",
    "    labels_new[i] = 5\n",
    "  elif labels[i] == \"ta\":\n",
    "    labels_new[i] = 6\n",
    "  elif labels[i] == \"tha\":\n",
    "    labels_new[i] = 7\n",
    "  elif labels[i] == \"tham\":\n",
    "    labels_new[i] = 8\n",
    "  elif labels[i] == \"thi\":\n",
    "    labels_new[i] = 9\n",
    "  elif labels[i] == \"thom\":\n",
    "    labels_new[i] = 10"
   ]
  },
  {
   "cell_type": "code",
   "execution_count": 29,
   "metadata": {
    "id": "1sNiHGsalAPn"
   },
   "outputs": [],
   "source": [
    "wave_pd[\"Label\"] = labels_new.astype(int)"
   ]
  },
  {
   "cell_type": "code",
   "execution_count": 30,
   "metadata": {
    "colab": {
     "base_uri": "https://localhost:8080/",
     "height": 419
    },
    "id": "H-Au-i59lJba",
    "outputId": "7aaccc6d-ac10-45c4-819b-8ca10100cead"
   },
   "outputs": [
    {
     "data": {
      "text/html": [
       "<div>\n",
       "<style scoped>\n",
       "    .dataframe tbody tr th:only-of-type {\n",
       "        vertical-align: middle;\n",
       "    }\n",
       "\n",
       "    .dataframe tbody tr th {\n",
       "        vertical-align: top;\n",
       "    }\n",
       "\n",
       "    .dataframe thead th {\n",
       "        text-align: right;\n",
       "    }\n",
       "</style>\n",
       "<table border=\"1\" class=\"dataframe\">\n",
       "  <thead>\n",
       "    <tr style=\"text-align: right;\">\n",
       "      <th></th>\n",
       "      <th>Unnamed: 0</th>\n",
       "      <th>Path</th>\n",
       "      <th>Length</th>\n",
       "      <th>Shruti</th>\n",
       "      <th>Stroke</th>\n",
       "      <th>Label</th>\n",
       "    </tr>\n",
       "  </thead>\n",
       "  <tbody>\n",
       "    <tr>\n",
       "      <th>0</th>\n",
       "      <td>0</td>\n",
       "      <td>content/gdrive/My Drive/mridangam_stroke_1.0/B...</td>\n",
       "      <td>17921.0</td>\n",
       "      <td>B</td>\n",
       "      <td>bheem</td>\n",
       "      <td>1</td>\n",
       "    </tr>\n",
       "    <tr>\n",
       "      <th>1</th>\n",
       "      <td>1</td>\n",
       "      <td>content/gdrive/My Drive/mridangam_stroke_1.0/B...</td>\n",
       "      <td>11777.0</td>\n",
       "      <td>B</td>\n",
       "      <td>bheem</td>\n",
       "      <td>1</td>\n",
       "    </tr>\n",
       "    <tr>\n",
       "      <th>2</th>\n",
       "      <td>2</td>\n",
       "      <td>content/gdrive/My Drive/mridangam_stroke_1.0/B...</td>\n",
       "      <td>7425.0</td>\n",
       "      <td>B</td>\n",
       "      <td>bheem</td>\n",
       "      <td>1</td>\n",
       "    </tr>\n",
       "    <tr>\n",
       "      <th>3</th>\n",
       "      <td>3</td>\n",
       "      <td>content/gdrive/My Drive/mridangam_stroke_1.0/B...</td>\n",
       "      <td>11522.0</td>\n",
       "      <td>B</td>\n",
       "      <td>bheem</td>\n",
       "      <td>1</td>\n",
       "    </tr>\n",
       "    <tr>\n",
       "      <th>4</th>\n",
       "      <td>4</td>\n",
       "      <td>content/gdrive/My Drive/mridangam_stroke_1.0/B...</td>\n",
       "      <td>20993.0</td>\n",
       "      <td>B</td>\n",
       "      <td>bheem</td>\n",
       "      <td>1</td>\n",
       "    </tr>\n",
       "    <tr>\n",
       "      <th>...</th>\n",
       "      <td>...</td>\n",
       "      <td>...</td>\n",
       "      <td>...</td>\n",
       "      <td>...</td>\n",
       "      <td>...</td>\n",
       "      <td>...</td>\n",
       "    </tr>\n",
       "    <tr>\n",
       "      <th>7187</th>\n",
       "      <td>7207</td>\n",
       "      <td>content/gdrive/My Drive/mridangam_stroke_1.0/E...</td>\n",
       "      <td>5889.0</td>\n",
       "      <td>E</td>\n",
       "      <td>thom</td>\n",
       "      <td>10</td>\n",
       "    </tr>\n",
       "    <tr>\n",
       "      <th>7188</th>\n",
       "      <td>7208</td>\n",
       "      <td>content/gdrive/My Drive/mridangam_stroke_1.0/E...</td>\n",
       "      <td>6913.0</td>\n",
       "      <td>E</td>\n",
       "      <td>thom</td>\n",
       "      <td>10</td>\n",
       "    </tr>\n",
       "    <tr>\n",
       "      <th>7189</th>\n",
       "      <td>7209</td>\n",
       "      <td>content/gdrive/My Drive/mridangam_stroke_1.0/E...</td>\n",
       "      <td>6401.0</td>\n",
       "      <td>E</td>\n",
       "      <td>thom</td>\n",
       "      <td>10</td>\n",
       "    </tr>\n",
       "    <tr>\n",
       "      <th>7190</th>\n",
       "      <td>7210</td>\n",
       "      <td>content/gdrive/My Drive/mridangam_stroke_1.0/E...</td>\n",
       "      <td>5889.0</td>\n",
       "      <td>E</td>\n",
       "      <td>thom</td>\n",
       "      <td>10</td>\n",
       "    </tr>\n",
       "    <tr>\n",
       "      <th>7191</th>\n",
       "      <td>7211</td>\n",
       "      <td>content/gdrive/My Drive/mridangam_stroke_1.0/E...</td>\n",
       "      <td>6401.0</td>\n",
       "      <td>E</td>\n",
       "      <td>thom</td>\n",
       "      <td>10</td>\n",
       "    </tr>\n",
       "  </tbody>\n",
       "</table>\n",
       "<p>7192 rows × 6 columns</p>\n",
       "</div>"
      ],
      "text/plain": [
       "      Unnamed: 0                                               Path   Length  \\\n",
       "0              0  content/gdrive/My Drive/mridangam_stroke_1.0/B...  17921.0   \n",
       "1              1  content/gdrive/My Drive/mridangam_stroke_1.0/B...  11777.0   \n",
       "2              2  content/gdrive/My Drive/mridangam_stroke_1.0/B...   7425.0   \n",
       "3              3  content/gdrive/My Drive/mridangam_stroke_1.0/B...  11522.0   \n",
       "4              4  content/gdrive/My Drive/mridangam_stroke_1.0/B...  20993.0   \n",
       "...          ...                                                ...      ...   \n",
       "7187        7207  content/gdrive/My Drive/mridangam_stroke_1.0/E...   5889.0   \n",
       "7188        7208  content/gdrive/My Drive/mridangam_stroke_1.0/E...   6913.0   \n",
       "7189        7209  content/gdrive/My Drive/mridangam_stroke_1.0/E...   6401.0   \n",
       "7190        7210  content/gdrive/My Drive/mridangam_stroke_1.0/E...   5889.0   \n",
       "7191        7211  content/gdrive/My Drive/mridangam_stroke_1.0/E...   6401.0   \n",
       "\n",
       "     Shruti Stroke  Label  \n",
       "0         B  bheem      1  \n",
       "1         B  bheem      1  \n",
       "2         B  bheem      1  \n",
       "3         B  bheem      1  \n",
       "4         B  bheem      1  \n",
       "...     ...    ...    ...  \n",
       "7187      E   thom     10  \n",
       "7188      E   thom     10  \n",
       "7189      E   thom     10  \n",
       "7190      E   thom     10  \n",
       "7191      E   thom     10  \n",
       "\n",
       "[7192 rows x 6 columns]"
      ]
     },
     "execution_count": 30,
     "metadata": {},
     "output_type": "execute_result"
    }
   ],
   "source": [
    "wave_pd"
   ]
  },
  {
   "cell_type": "code",
   "execution_count": 31,
   "metadata": {
    "colab": {
     "base_uri": "https://localhost:8080/"
    },
    "id": "_LZfp3lDeBDw",
    "outputId": "93fafa39-dfb6-4b56-bbea-a64e5572f8ec"
   },
   "outputs": [
    {
     "name": "stdout",
     "output_type": "stream",
     "text": [
      "49\n",
      "330\n",
      "472\n",
      "484\n",
      "497\n",
      "943\n",
      "1182\n",
      "375\n",
      "2218\n",
      "642\n"
     ]
    }
   ],
   "source": [
    "print(len(wave_pd[wave_pd[\"Label\"] == 1]))\n",
    "print(len(wave_pd[wave_pd[\"Label\"] == 2]))\n",
    "print(len(wave_pd[wave_pd[\"Label\"] == 3]))\n",
    "print(len(wave_pd[wave_pd[\"Label\"] == 4]))\n",
    "print(len(wave_pd[wave_pd[\"Label\"] == 5]))\n",
    "print(len(wave_pd[wave_pd[\"Label\"] == 6]))\n",
    "print(len(wave_pd[wave_pd[\"Label\"] == 7]))\n",
    "print(len(wave_pd[wave_pd[\"Label\"] == 8]))\n",
    "print(len(wave_pd[wave_pd[\"Label\"] == 9]))\n",
    "print(len(wave_pd[wave_pd[\"Label\"] == 10]))"
   ]
  },
  {
   "cell_type": "code",
   "execution_count": 32,
   "metadata": {
    "id": "b3Q7kEvIfNBn"
   },
   "outputs": [],
   "source": [
    "l1_values = wave_pd[wave_pd[\"Label\"] == 1]\n",
    "l2_values = wave_pd[wave_pd[\"Label\"] == 2]\n",
    "l3_values = wave_pd[wave_pd[\"Label\"] == 3]\n",
    "l4_values = wave_pd[wave_pd[\"Label\"] == 4]\n",
    "l5_values = wave_pd[wave_pd[\"Label\"] == 5]\n",
    "l6_values = wave_pd[wave_pd[\"Label\"] == 6]\n",
    "l7_values = wave_pd[wave_pd[\"Label\"] == 7]\n",
    "l8_values = wave_pd[wave_pd[\"Label\"] == 8]\n",
    "l9_values = wave_pd[wave_pd[\"Label\"] == 9]\n",
    "l10_values = wave_pd[wave_pd[\"Label\"] == 10]"
   ]
  },
  {
   "cell_type": "code",
   "execution_count": 33,
   "metadata": {},
   "outputs": [],
   "source": [
    "n_samples = 2213"
   ]
  },
  {
   "cell_type": "code",
   "execution_count": 34,
   "metadata": {},
   "outputs": [],
   "source": [
    "random_state=1"
   ]
  },
  {
   "cell_type": "code",
   "execution_count": 35,
   "metadata": {
    "id": "Qb163NcaocjN"
   },
   "outputs": [],
   "source": [
    "l_dfs = [\n",
    "    l1_values.sample(n=n_samples, replace=True, random_state=random_state),\n",
    "    l2_values.sample(n=n_samples, replace=True, random_state=random_state),\n",
    "    l3_values.sample(n=n_samples, replace=True, random_state=random_state),\n",
    "    l4_values.sample(n=n_samples, replace=True, random_state=random_state),\n",
    "    l5_values.sample(n=n_samples, replace=True, random_state=random_state),\n",
    "    l6_values.sample(n=n_samples, replace=True, random_state=random_state),\n",
    "    l7_values.sample(n=n_samples, replace=True, random_state=random_state),\n",
    "    l8_values.sample(n=n_samples, replace=True, random_state=random_state),\n",
    "    l9_values.sample(n=n_samples, replace=True, random_state=random_state),\n",
    "    l10_values.sample(n=n_samples, replace=True, random_state=random_state)\n",
    "]\n",
    "\n",
    "wave_pd = pd.concat(l_dfs)"
   ]
  },
  {
   "cell_type": "code",
   "execution_count": 36,
   "metadata": {
    "colab": {
     "base_uri": "https://localhost:8080/",
     "height": 419
    },
    "id": "Ek26Mb4xozl-",
    "outputId": "5a45bb69-3d2d-45b9-fe65-566ffb943f9f"
   },
   "outputs": [
    {
     "data": {
      "text/html": [
       "<div>\n",
       "<style scoped>\n",
       "    .dataframe tbody tr th:only-of-type {\n",
       "        vertical-align: middle;\n",
       "    }\n",
       "\n",
       "    .dataframe tbody tr th {\n",
       "        vertical-align: top;\n",
       "    }\n",
       "\n",
       "    .dataframe thead th {\n",
       "        text-align: right;\n",
       "    }\n",
       "</style>\n",
       "<table border=\"1\" class=\"dataframe\">\n",
       "  <thead>\n",
       "    <tr style=\"text-align: right;\">\n",
       "      <th></th>\n",
       "      <th>Unnamed: 0</th>\n",
       "      <th>Path</th>\n",
       "      <th>Length</th>\n",
       "      <th>Shruti</th>\n",
       "      <th>Stroke</th>\n",
       "      <th>Label</th>\n",
       "    </tr>\n",
       "  </thead>\n",
       "  <tbody>\n",
       "    <tr>\n",
       "      <th>6105</th>\n",
       "      <td>6125</td>\n",
       "      <td>content/gdrive/My Drive/mridangam_stroke_1.0/E...</td>\n",
       "      <td>25581.0</td>\n",
       "      <td>E</td>\n",
       "      <td>bheem</td>\n",
       "      <td>1</td>\n",
       "    </tr>\n",
       "    <tr>\n",
       "      <th>6111</th>\n",
       "      <td>6131</td>\n",
       "      <td>content/gdrive/My Drive/mridangam_stroke_1.0/E...</td>\n",
       "      <td>15361.0</td>\n",
       "      <td>E</td>\n",
       "      <td>bheem</td>\n",
       "      <td>1</td>\n",
       "    </tr>\n",
       "    <tr>\n",
       "      <th>4600</th>\n",
       "      <td>4620</td>\n",
       "      <td>content/gdrive/My Drive/mridangam_stroke_1.0/D...</td>\n",
       "      <td>9217.0</td>\n",
       "      <td>D#</td>\n",
       "      <td>bheem</td>\n",
       "      <td>1</td>\n",
       "    </tr>\n",
       "    <tr>\n",
       "      <th>2464</th>\n",
       "      <td>2464</td>\n",
       "      <td>content/gdrive/My Drive/mridangam_stroke_1.0/C...</td>\n",
       "      <td>18177.0</td>\n",
       "      <td>C#</td>\n",
       "      <td>bheem</td>\n",
       "      <td>1</td>\n",
       "    </tr>\n",
       "    <tr>\n",
       "      <th>4597</th>\n",
       "      <td>4617</td>\n",
       "      <td>content/gdrive/My Drive/mridangam_stroke_1.0/D...</td>\n",
       "      <td>20225.0</td>\n",
       "      <td>D#</td>\n",
       "      <td>bheem</td>\n",
       "      <td>1</td>\n",
       "    </tr>\n",
       "    <tr>\n",
       "      <th>...</th>\n",
       "      <td>...</td>\n",
       "      <td>...</td>\n",
       "      <td>...</td>\n",
       "      <td>...</td>\n",
       "      <td>...</td>\n",
       "      <td>...</td>\n",
       "    </tr>\n",
       "    <tr>\n",
       "      <th>7101</th>\n",
       "      <td>7121</td>\n",
       "      <td>content/gdrive/My Drive/mridangam_stroke_1.0/E...</td>\n",
       "      <td>5377.0</td>\n",
       "      <td>E</td>\n",
       "      <td>thom</td>\n",
       "      <td>10</td>\n",
       "    </tr>\n",
       "    <tr>\n",
       "      <th>1323</th>\n",
       "      <td>1323</td>\n",
       "      <td>content/gdrive/My Drive/mridangam_stroke_1.0/B...</td>\n",
       "      <td>4865.0</td>\n",
       "      <td>B</td>\n",
       "      <td>thom</td>\n",
       "      <td>10</td>\n",
       "    </tr>\n",
       "    <tr>\n",
       "      <th>4580</th>\n",
       "      <td>4600</td>\n",
       "      <td>content/gdrive/My Drive/mridangam_stroke_1.0/D...</td>\n",
       "      <td>7169.0</td>\n",
       "      <td>D</td>\n",
       "      <td>thom</td>\n",
       "      <td>10</td>\n",
       "    </tr>\n",
       "    <tr>\n",
       "      <th>1257</th>\n",
       "      <td>1257</td>\n",
       "      <td>content/gdrive/My Drive/mridangam_stroke_1.0/B...</td>\n",
       "      <td>5377.0</td>\n",
       "      <td>B</td>\n",
       "      <td>thom</td>\n",
       "      <td>10</td>\n",
       "    </tr>\n",
       "    <tr>\n",
       "      <th>7174</th>\n",
       "      <td>7194</td>\n",
       "      <td>content/gdrive/My Drive/mridangam_stroke_1.0/E...</td>\n",
       "      <td>9729.0</td>\n",
       "      <td>E</td>\n",
       "      <td>thom</td>\n",
       "      <td>10</td>\n",
       "    </tr>\n",
       "  </tbody>\n",
       "</table>\n",
       "<p>22130 rows × 6 columns</p>\n",
       "</div>"
      ],
      "text/plain": [
       "      Unnamed: 0                                               Path   Length  \\\n",
       "6105        6125  content/gdrive/My Drive/mridangam_stroke_1.0/E...  25581.0   \n",
       "6111        6131  content/gdrive/My Drive/mridangam_stroke_1.0/E...  15361.0   \n",
       "4600        4620  content/gdrive/My Drive/mridangam_stroke_1.0/D...   9217.0   \n",
       "2464        2464  content/gdrive/My Drive/mridangam_stroke_1.0/C...  18177.0   \n",
       "4597        4617  content/gdrive/My Drive/mridangam_stroke_1.0/D...  20225.0   \n",
       "...          ...                                                ...      ...   \n",
       "7101        7121  content/gdrive/My Drive/mridangam_stroke_1.0/E...   5377.0   \n",
       "1323        1323  content/gdrive/My Drive/mridangam_stroke_1.0/B...   4865.0   \n",
       "4580        4600  content/gdrive/My Drive/mridangam_stroke_1.0/D...   7169.0   \n",
       "1257        1257  content/gdrive/My Drive/mridangam_stroke_1.0/B...   5377.0   \n",
       "7174        7194  content/gdrive/My Drive/mridangam_stroke_1.0/E...   9729.0   \n",
       "\n",
       "     Shruti Stroke  Label  \n",
       "6105      E  bheem      1  \n",
       "6111      E  bheem      1  \n",
       "4600     D#  bheem      1  \n",
       "2464     C#  bheem      1  \n",
       "4597     D#  bheem      1  \n",
       "...     ...    ...    ...  \n",
       "7101      E   thom     10  \n",
       "1323      B   thom     10  \n",
       "4580      D   thom     10  \n",
       "1257      B   thom     10  \n",
       "7174      E   thom     10  \n",
       "\n",
       "[22130 rows x 6 columns]"
      ]
     },
     "execution_count": 36,
     "metadata": {},
     "output_type": "execute_result"
    }
   ],
   "source": [
    "wave_pd"
   ]
  },
  {
   "cell_type": "code",
   "execution_count": 37,
   "metadata": {
    "colab": {
     "base_uri": "https://localhost:8080/"
    },
    "id": "xcpDeLxrkqvf",
    "outputId": "6fa3626d-ab57-4b49-998c-87d3f48e484f"
   },
   "outputs": [
    {
     "name": "stdout",
     "output_type": "stream",
     "text": [
      "Target size (each):  2213\n"
     ]
    }
   ],
   "source": [
    "print(\"Target size (each): \", 2213)"
   ]
  },
  {
   "cell_type": "code",
   "execution_count": 38,
   "metadata": {
    "id": "2dlqHBWci-Pt"
   },
   "outputs": [],
   "source": [
    "train_prp = 0.75\n",
    "valid_prp = 0.15\n",
    "test_prp = 0.10"
   ]
  },
  {
   "cell_type": "code",
   "execution_count": 39,
   "metadata": {
    "id": "2K2btDIOhRHV"
   },
   "outputs": [],
   "source": [
    "tr1 = wave_pd[wave_pd[\"Label\"] == 1][:int(train_prp*len(wave_pd[wave_pd[\"Label\"] == 1]))]\n",
    "tr2 = wave_pd[wave_pd[\"Label\"] == 2][:int(train_prp*len(wave_pd[wave_pd[\"Label\"] == 2]))]\n",
    "tr3 = wave_pd[wave_pd[\"Label\"] == 3][:int(train_prp*len(wave_pd[wave_pd[\"Label\"] == 3]))]\n",
    "tr4 = wave_pd[wave_pd[\"Label\"] == 4][:int(train_prp*len(wave_pd[wave_pd[\"Label\"] == 4]))]\n",
    "tr5 = wave_pd[wave_pd[\"Label\"] == 5][:int(train_prp*len(wave_pd[wave_pd[\"Label\"] == 5]))]\n",
    "tr6 = wave_pd[wave_pd[\"Label\"] == 6][:int(train_prp*len(wave_pd[wave_pd[\"Label\"] == 6]))]\n",
    "tr7 = wave_pd[wave_pd[\"Label\"] == 7][:int(train_prp*len(wave_pd[wave_pd[\"Label\"] == 7]))]\n",
    "tr8 = wave_pd[wave_pd[\"Label\"] == 8][:int(train_prp*len(wave_pd[wave_pd[\"Label\"] == 8]))]\n",
    "tr9 = wave_pd[wave_pd[\"Label\"] == 9][:int(train_prp*len(wave_pd[wave_pd[\"Label\"] == 9]))]\n",
    "tr10 = wave_pd[wave_pd[\"Label\"] == 10][:int(train_prp*len(wave_pd[wave_pd[\"Label\"] == 10]))]"
   ]
  },
  {
   "cell_type": "code",
   "execution_count": 40,
   "metadata": {
    "id": "vdCLeeEQl-EI"
   },
   "outputs": [],
   "source": [
    "train_df = pd.concat([tr1, tr2, tr3, tr4, tr5, tr6, tr7, tr8, tr9, tr10])"
   ]
  },
  {
   "cell_type": "code",
   "execution_count": 41,
   "metadata": {
    "id": "eOYZ1UZ5MUg3"
   },
   "outputs": [],
   "source": [
    "va1 = wave_pd[wave_pd[\"Label\"] == 1][int(train_prp*len(wave_pd[wave_pd[\"Label\"] == 1])): int((train_prp+valid_prp)*len(wave_pd[wave_pd[\"Label\"] == 1]))]\n",
    "va2 = wave_pd[wave_pd[\"Label\"] == 2][int(train_prp*len(wave_pd[wave_pd[\"Label\"] == 2])): int((train_prp+valid_prp)*len(wave_pd[wave_pd[\"Label\"] == 2]))]\n",
    "va3 = wave_pd[wave_pd[\"Label\"] == 3][int(train_prp*len(wave_pd[wave_pd[\"Label\"] == 3])): int((train_prp+valid_prp)*len(wave_pd[wave_pd[\"Label\"] == 3]))]\n",
    "va4 = wave_pd[wave_pd[\"Label\"] == 4][int(train_prp*len(wave_pd[wave_pd[\"Label\"] == 4])): int((train_prp+valid_prp)*len(wave_pd[wave_pd[\"Label\"] == 4]))]\n",
    "va5 = wave_pd[wave_pd[\"Label\"] == 5][int(train_prp*len(wave_pd[wave_pd[\"Label\"] == 5])): int((train_prp+valid_prp)*len(wave_pd[wave_pd[\"Label\"] == 5]))]\n",
    "va6 = wave_pd[wave_pd[\"Label\"] == 6][int(train_prp*len(wave_pd[wave_pd[\"Label\"] == 6])): int((train_prp+valid_prp)*len(wave_pd[wave_pd[\"Label\"] == 6]))]\n",
    "va7 = wave_pd[wave_pd[\"Label\"] == 7][int(train_prp*len(wave_pd[wave_pd[\"Label\"] == 7])): int((train_prp+valid_prp)*len(wave_pd[wave_pd[\"Label\"] == 7]))]\n",
    "va8 = wave_pd[wave_pd[\"Label\"] == 8][int(train_prp*len(wave_pd[wave_pd[\"Label\"] == 8])): int((train_prp+valid_prp)*len(wave_pd[wave_pd[\"Label\"] == 8]))]\n",
    "va9 = wave_pd[wave_pd[\"Label\"] == 9][int(train_prp*len(wave_pd[wave_pd[\"Label\"] == 9])): int((train_prp+valid_prp)*len(wave_pd[wave_pd[\"Label\"] == 9]))]\n",
    "va10 = wave_pd[wave_pd[\"Label\"] == 10][int(train_prp*len(wave_pd[wave_pd[\"Label\"] == 10])): int((train_prp+valid_prp)*len(wave_pd[wave_pd[\"Label\"] == 10]))]"
   ]
  },
  {
   "cell_type": "code",
   "execution_count": 42,
   "metadata": {
    "id": "AINtjrGxNTfM"
   },
   "outputs": [],
   "source": [
    "valid_df = pd.concat([va1, va2, va3, va4, va5, va6, va7, va8, va9, va10])"
   ]
  },
  {
   "cell_type": "code",
   "execution_count": 43,
   "metadata": {
    "id": "09l2lS1smqVz"
   },
   "outputs": [],
   "source": [
    "te1 = wave_pd[wave_pd[\"Label\"] == 1][int((train_prp+valid_prp)*len(wave_pd[wave_pd[\"Label\"] == 1])):]\n",
    "te2 = wave_pd[wave_pd[\"Label\"] == 2][int((train_prp+valid_prp)*len(wave_pd[wave_pd[\"Label\"] == 2])):]\n",
    "te3 = wave_pd[wave_pd[\"Label\"] == 3][int((train_prp+valid_prp)*len(wave_pd[wave_pd[\"Label\"] == 3])):]\n",
    "te4 = wave_pd[wave_pd[\"Label\"] == 4][int((train_prp+valid_prp)*len(wave_pd[wave_pd[\"Label\"] == 4])):]\n",
    "te5 = wave_pd[wave_pd[\"Label\"] == 5][int((train_prp+valid_prp)*len(wave_pd[wave_pd[\"Label\"] == 5])):]\n",
    "te6 = wave_pd[wave_pd[\"Label\"] == 6][int((train_prp+valid_prp)*len(wave_pd[wave_pd[\"Label\"] == 6])):]\n",
    "te7 = wave_pd[wave_pd[\"Label\"] == 7][int((train_prp+valid_prp)*len(wave_pd[wave_pd[\"Label\"] == 7])):]\n",
    "te8 = wave_pd[wave_pd[\"Label\"] == 8][int((train_prp+valid_prp)*len(wave_pd[wave_pd[\"Label\"] == 8])):]\n",
    "te9 = wave_pd[wave_pd[\"Label\"] == 9][int((train_prp+valid_prp)*len(wave_pd[wave_pd[\"Label\"] == 9])):]\n",
    "te10 = wave_pd[wave_pd[\"Label\"] == 10][int((train_prp+valid_prp)*len(wave_pd[wave_pd[\"Label\"] == 10])):]"
   ]
  },
  {
   "cell_type": "code",
   "execution_count": 47,
   "metadata": {
    "id": "3V_TQNHQnR5L"
   },
   "outputs": [],
   "source": [
    "test_df = pd.concat([te1, te2, te3, te4, te5, te6, te7, te8, te9, te10])"
   ]
  },
  {
   "cell_type": "code",
   "execution_count": 48,
   "metadata": {
    "colab": {
     "base_uri": "https://localhost:8080/",
     "height": 419
    },
    "id": "VOMUZHBGNk3N",
    "outputId": "1877b632-25ab-46a4-c56a-2515020f234f"
   },
   "outputs": [
    {
     "data": {
      "text/html": [
       "<div>\n",
       "<style scoped>\n",
       "    .dataframe tbody tr th:only-of-type {\n",
       "        vertical-align: middle;\n",
       "    }\n",
       "\n",
       "    .dataframe tbody tr th {\n",
       "        vertical-align: top;\n",
       "    }\n",
       "\n",
       "    .dataframe thead th {\n",
       "        text-align: right;\n",
       "    }\n",
       "</style>\n",
       "<table border=\"1\" class=\"dataframe\">\n",
       "  <thead>\n",
       "    <tr style=\"text-align: right;\">\n",
       "      <th></th>\n",
       "      <th>Unnamed: 0</th>\n",
       "      <th>Path</th>\n",
       "      <th>Length</th>\n",
       "      <th>Shruti</th>\n",
       "      <th>Stroke</th>\n",
       "      <th>Label</th>\n",
       "    </tr>\n",
       "  </thead>\n",
       "  <tbody>\n",
       "    <tr>\n",
       "      <th>6105</th>\n",
       "      <td>6125</td>\n",
       "      <td>content/gdrive/My Drive/mridangam_stroke_1.0/E...</td>\n",
       "      <td>25581.0</td>\n",
       "      <td>E</td>\n",
       "      <td>bheem</td>\n",
       "      <td>1</td>\n",
       "    </tr>\n",
       "    <tr>\n",
       "      <th>6111</th>\n",
       "      <td>6131</td>\n",
       "      <td>content/gdrive/My Drive/mridangam_stroke_1.0/E...</td>\n",
       "      <td>15361.0</td>\n",
       "      <td>E</td>\n",
       "      <td>bheem</td>\n",
       "      <td>1</td>\n",
       "    </tr>\n",
       "    <tr>\n",
       "      <th>4600</th>\n",
       "      <td>4620</td>\n",
       "      <td>content/gdrive/My Drive/mridangam_stroke_1.0/D...</td>\n",
       "      <td>9217.0</td>\n",
       "      <td>D#</td>\n",
       "      <td>bheem</td>\n",
       "      <td>1</td>\n",
       "    </tr>\n",
       "    <tr>\n",
       "      <th>2464</th>\n",
       "      <td>2464</td>\n",
       "      <td>content/gdrive/My Drive/mridangam_stroke_1.0/C...</td>\n",
       "      <td>18177.0</td>\n",
       "      <td>C#</td>\n",
       "      <td>bheem</td>\n",
       "      <td>1</td>\n",
       "    </tr>\n",
       "    <tr>\n",
       "      <th>4597</th>\n",
       "      <td>4617</td>\n",
       "      <td>content/gdrive/My Drive/mridangam_stroke_1.0/D...</td>\n",
       "      <td>20225.0</td>\n",
       "      <td>D#</td>\n",
       "      <td>bheem</td>\n",
       "      <td>1</td>\n",
       "    </tr>\n",
       "    <tr>\n",
       "      <th>...</th>\n",
       "      <td>...</td>\n",
       "      <td>...</td>\n",
       "      <td>...</td>\n",
       "      <td>...</td>\n",
       "      <td>...</td>\n",
       "      <td>...</td>\n",
       "    </tr>\n",
       "    <tr>\n",
       "      <th>7070</th>\n",
       "      <td>7090</td>\n",
       "      <td>content/gdrive/My Drive/mridangam_stroke_1.0/E...</td>\n",
       "      <td>10241.0</td>\n",
       "      <td>E</td>\n",
       "      <td>thom</td>\n",
       "      <td>10</td>\n",
       "    </tr>\n",
       "    <tr>\n",
       "      <th>4508</th>\n",
       "      <td>4528</td>\n",
       "      <td>content/gdrive/My Drive/mridangam_stroke_1.0/D...</td>\n",
       "      <td>10497.0</td>\n",
       "      <td>D</td>\n",
       "      <td>thom</td>\n",
       "      <td>10</td>\n",
       "    </tr>\n",
       "    <tr>\n",
       "      <th>1218</th>\n",
       "      <td>1218</td>\n",
       "      <td>content/gdrive/My Drive/mridangam_stroke_1.0/B...</td>\n",
       "      <td>5377.0</td>\n",
       "      <td>B</td>\n",
       "      <td>thom</td>\n",
       "      <td>10</td>\n",
       "    </tr>\n",
       "    <tr>\n",
       "      <th>3649</th>\n",
       "      <td>3665</td>\n",
       "      <td>content/gdrive/My Drive/mridangam_stroke_1.0/C...</td>\n",
       "      <td>7681.0</td>\n",
       "      <td>C#</td>\n",
       "      <td>thom</td>\n",
       "      <td>10</td>\n",
       "    </tr>\n",
       "    <tr>\n",
       "      <th>2455</th>\n",
       "      <td>2455</td>\n",
       "      <td>content/gdrive/My Drive/mridangam_stroke_1.0/C...</td>\n",
       "      <td>4353.0</td>\n",
       "      <td>C</td>\n",
       "      <td>thom</td>\n",
       "      <td>10</td>\n",
       "    </tr>\n",
       "  </tbody>\n",
       "</table>\n",
       "<p>16590 rows × 6 columns</p>\n",
       "</div>"
      ],
      "text/plain": [
       "      Unnamed: 0                                               Path   Length  \\\n",
       "6105        6125  content/gdrive/My Drive/mridangam_stroke_1.0/E...  25581.0   \n",
       "6111        6131  content/gdrive/My Drive/mridangam_stroke_1.0/E...  15361.0   \n",
       "4600        4620  content/gdrive/My Drive/mridangam_stroke_1.0/D...   9217.0   \n",
       "2464        2464  content/gdrive/My Drive/mridangam_stroke_1.0/C...  18177.0   \n",
       "4597        4617  content/gdrive/My Drive/mridangam_stroke_1.0/D...  20225.0   \n",
       "...          ...                                                ...      ...   \n",
       "7070        7090  content/gdrive/My Drive/mridangam_stroke_1.0/E...  10241.0   \n",
       "4508        4528  content/gdrive/My Drive/mridangam_stroke_1.0/D...  10497.0   \n",
       "1218        1218  content/gdrive/My Drive/mridangam_stroke_1.0/B...   5377.0   \n",
       "3649        3665  content/gdrive/My Drive/mridangam_stroke_1.0/C...   7681.0   \n",
       "2455        2455  content/gdrive/My Drive/mridangam_stroke_1.0/C...   4353.0   \n",
       "\n",
       "     Shruti Stroke  Label  \n",
       "6105      E  bheem      1  \n",
       "6111      E  bheem      1  \n",
       "4600     D#  bheem      1  \n",
       "2464     C#  bheem      1  \n",
       "4597     D#  bheem      1  \n",
       "...     ...    ...    ...  \n",
       "7070      E   thom     10  \n",
       "4508      D   thom     10  \n",
       "1218      B   thom     10  \n",
       "3649     C#   thom     10  \n",
       "2455      C   thom     10  \n",
       "\n",
       "[16590 rows x 6 columns]"
      ]
     },
     "execution_count": 48,
     "metadata": {},
     "output_type": "execute_result"
    }
   ],
   "source": [
    "train_df"
   ]
  },
  {
   "cell_type": "code",
   "execution_count": 49,
   "metadata": {
    "colab": {
     "base_uri": "https://localhost:8080/",
     "height": 419
    },
    "id": "Q1wzQxR-NmqA",
    "outputId": "1a7da219-c048-4e55-9dae-d535282a826e"
   },
   "outputs": [
    {
     "data": {
      "text/html": [
       "<div>\n",
       "<style scoped>\n",
       "    .dataframe tbody tr th:only-of-type {\n",
       "        vertical-align: middle;\n",
       "    }\n",
       "\n",
       "    .dataframe tbody tr th {\n",
       "        vertical-align: top;\n",
       "    }\n",
       "\n",
       "    .dataframe thead th {\n",
       "        text-align: right;\n",
       "    }\n",
       "</style>\n",
       "<table border=\"1\" class=\"dataframe\">\n",
       "  <thead>\n",
       "    <tr style=\"text-align: right;\">\n",
       "      <th></th>\n",
       "      <th>Unnamed: 0</th>\n",
       "      <th>Path</th>\n",
       "      <th>Length</th>\n",
       "      <th>Shruti</th>\n",
       "      <th>Stroke</th>\n",
       "      <th>Label</th>\n",
       "    </tr>\n",
       "  </thead>\n",
       "  <tbody>\n",
       "    <tr>\n",
       "      <th>2464</th>\n",
       "      <td>2464</td>\n",
       "      <td>content/gdrive/My Drive/mridangam_stroke_1.0/C...</td>\n",
       "      <td>18177.0</td>\n",
       "      <td>C#</td>\n",
       "      <td>bheem</td>\n",
       "      <td>1</td>\n",
       "    </tr>\n",
       "    <tr>\n",
       "      <th>4603</th>\n",
       "      <td>4623</td>\n",
       "      <td>content/gdrive/My Drive/mridangam_stroke_1.0/D...</td>\n",
       "      <td>12738.0</td>\n",
       "      <td>D#</td>\n",
       "      <td>bheem</td>\n",
       "      <td>1</td>\n",
       "    </tr>\n",
       "    <tr>\n",
       "      <th>6107</th>\n",
       "      <td>6127</td>\n",
       "      <td>content/gdrive/My Drive/mridangam_stroke_1.0/E...</td>\n",
       "      <td>24081.0</td>\n",
       "      <td>E</td>\n",
       "      <td>bheem</td>\n",
       "      <td>1</td>\n",
       "    </tr>\n",
       "    <tr>\n",
       "      <th>2</th>\n",
       "      <td>2</td>\n",
       "      <td>content/gdrive/My Drive/mridangam_stroke_1.0/B...</td>\n",
       "      <td>7425.0</td>\n",
       "      <td>B</td>\n",
       "      <td>bheem</td>\n",
       "      <td>1</td>\n",
       "    </tr>\n",
       "    <tr>\n",
       "      <th>6103</th>\n",
       "      <td>6123</td>\n",
       "      <td>content/gdrive/My Drive/mridangam_stroke_1.0/E...</td>\n",
       "      <td>18433.0</td>\n",
       "      <td>E</td>\n",
       "      <td>bheem</td>\n",
       "      <td>1</td>\n",
       "    </tr>\n",
       "    <tr>\n",
       "      <th>...</th>\n",
       "      <td>...</td>\n",
       "      <td>...</td>\n",
       "      <td>...</td>\n",
       "      <td>...</td>\n",
       "      <td>...</td>\n",
       "      <td>...</td>\n",
       "    </tr>\n",
       "    <tr>\n",
       "      <th>3642</th>\n",
       "      <td>3658</td>\n",
       "      <td>content/gdrive/My Drive/mridangam_stroke_1.0/C...</td>\n",
       "      <td>7681.0</td>\n",
       "      <td>C#</td>\n",
       "      <td>thom</td>\n",
       "      <td>10</td>\n",
       "    </tr>\n",
       "    <tr>\n",
       "      <th>3615</th>\n",
       "      <td>3631</td>\n",
       "      <td>content/gdrive/My Drive/mridangam_stroke_1.0/C...</td>\n",
       "      <td>8961.0</td>\n",
       "      <td>C#</td>\n",
       "      <td>thom</td>\n",
       "      <td>10</td>\n",
       "    </tr>\n",
       "    <tr>\n",
       "      <th>2426</th>\n",
       "      <td>2426</td>\n",
       "      <td>content/gdrive/My Drive/mridangam_stroke_1.0/C...</td>\n",
       "      <td>8449.0</td>\n",
       "      <td>C</td>\n",
       "      <td>thom</td>\n",
       "      <td>10</td>\n",
       "    </tr>\n",
       "    <tr>\n",
       "      <th>4586</th>\n",
       "      <td>4606</td>\n",
       "      <td>content/gdrive/My Drive/mridangam_stroke_1.0/D...</td>\n",
       "      <td>6913.0</td>\n",
       "      <td>D</td>\n",
       "      <td>thom</td>\n",
       "      <td>10</td>\n",
       "    </tr>\n",
       "    <tr>\n",
       "      <th>7064</th>\n",
       "      <td>7084</td>\n",
       "      <td>content/gdrive/My Drive/mridangam_stroke_1.0/E...</td>\n",
       "      <td>4865.0</td>\n",
       "      <td>E</td>\n",
       "      <td>thom</td>\n",
       "      <td>10</td>\n",
       "    </tr>\n",
       "  </tbody>\n",
       "</table>\n",
       "<p>3320 rows × 6 columns</p>\n",
       "</div>"
      ],
      "text/plain": [
       "      Unnamed: 0                                               Path   Length  \\\n",
       "2464        2464  content/gdrive/My Drive/mridangam_stroke_1.0/C...  18177.0   \n",
       "4603        4623  content/gdrive/My Drive/mridangam_stroke_1.0/D...  12738.0   \n",
       "6107        6127  content/gdrive/My Drive/mridangam_stroke_1.0/E...  24081.0   \n",
       "2              2  content/gdrive/My Drive/mridangam_stroke_1.0/B...   7425.0   \n",
       "6103        6123  content/gdrive/My Drive/mridangam_stroke_1.0/E...  18433.0   \n",
       "...          ...                                                ...      ...   \n",
       "3642        3658  content/gdrive/My Drive/mridangam_stroke_1.0/C...   7681.0   \n",
       "3615        3631  content/gdrive/My Drive/mridangam_stroke_1.0/C...   8961.0   \n",
       "2426        2426  content/gdrive/My Drive/mridangam_stroke_1.0/C...   8449.0   \n",
       "4586        4606  content/gdrive/My Drive/mridangam_stroke_1.0/D...   6913.0   \n",
       "7064        7084  content/gdrive/My Drive/mridangam_stroke_1.0/E...   4865.0   \n",
       "\n",
       "     Shruti Stroke  Label  \n",
       "2464     C#  bheem      1  \n",
       "4603     D#  bheem      1  \n",
       "6107      E  bheem      1  \n",
       "2         B  bheem      1  \n",
       "6103      E  bheem      1  \n",
       "...     ...    ...    ...  \n",
       "3642     C#   thom     10  \n",
       "3615     C#   thom     10  \n",
       "2426      C   thom     10  \n",
       "4586      D   thom     10  \n",
       "7064      E   thom     10  \n",
       "\n",
       "[3320 rows x 6 columns]"
      ]
     },
     "execution_count": 49,
     "metadata": {},
     "output_type": "execute_result"
    }
   ],
   "source": [
    "valid_df"
   ]
  },
  {
   "cell_type": "code",
   "execution_count": 50,
   "metadata": {
    "colab": {
     "base_uri": "https://localhost:8080/",
     "height": 419
    },
    "id": "2L390NfxNpQo",
    "outputId": "15f62b67-d5bd-48f8-88e4-7801cfac83ac"
   },
   "outputs": [
    {
     "data": {
      "text/html": [
       "<div>\n",
       "<style scoped>\n",
       "    .dataframe tbody tr th:only-of-type {\n",
       "        vertical-align: middle;\n",
       "    }\n",
       "\n",
       "    .dataframe tbody tr th {\n",
       "        vertical-align: top;\n",
       "    }\n",
       "\n",
       "    .dataframe thead th {\n",
       "        text-align: right;\n",
       "    }\n",
       "</style>\n",
       "<table border=\"1\" class=\"dataframe\">\n",
       "  <thead>\n",
       "    <tr style=\"text-align: right;\">\n",
       "      <th></th>\n",
       "      <th>Unnamed: 0</th>\n",
       "      <th>Path</th>\n",
       "      <th>Length</th>\n",
       "      <th>Shruti</th>\n",
       "      <th>Stroke</th>\n",
       "      <th>Label</th>\n",
       "    </tr>\n",
       "  </thead>\n",
       "  <tbody>\n",
       "    <tr>\n",
       "      <th>4601</th>\n",
       "      <td>4621</td>\n",
       "      <td>content/gdrive/My Drive/mridangam_stroke_1.0/D...</td>\n",
       "      <td>33793.0</td>\n",
       "      <td>D#</td>\n",
       "      <td>bheem</td>\n",
       "      <td>1</td>\n",
       "    </tr>\n",
       "    <tr>\n",
       "      <th>4600</th>\n",
       "      <td>4620</td>\n",
       "      <td>content/gdrive/My Drive/mridangam_stroke_1.0/D...</td>\n",
       "      <td>9217.0</td>\n",
       "      <td>D#</td>\n",
       "      <td>bheem</td>\n",
       "      <td>1</td>\n",
       "    </tr>\n",
       "    <tr>\n",
       "      <th>6105</th>\n",
       "      <td>6125</td>\n",
       "      <td>content/gdrive/My Drive/mridangam_stroke_1.0/E...</td>\n",
       "      <td>25581.0</td>\n",
       "      <td>E</td>\n",
       "      <td>bheem</td>\n",
       "      <td>1</td>\n",
       "    </tr>\n",
       "    <tr>\n",
       "      <th>4599</th>\n",
       "      <td>4619</td>\n",
       "      <td>content/gdrive/My Drive/mridangam_stroke_1.0/D...</td>\n",
       "      <td>9473.0</td>\n",
       "      <td>D#</td>\n",
       "      <td>bheem</td>\n",
       "      <td>1</td>\n",
       "    </tr>\n",
       "    <tr>\n",
       "      <th>4603</th>\n",
       "      <td>4623</td>\n",
       "      <td>content/gdrive/My Drive/mridangam_stroke_1.0/D...</td>\n",
       "      <td>12738.0</td>\n",
       "      <td>D#</td>\n",
       "      <td>bheem</td>\n",
       "      <td>1</td>\n",
       "    </tr>\n",
       "    <tr>\n",
       "      <th>...</th>\n",
       "      <td>...</td>\n",
       "      <td>...</td>\n",
       "      <td>...</td>\n",
       "      <td>...</td>\n",
       "      <td>...</td>\n",
       "      <td>...</td>\n",
       "    </tr>\n",
       "    <tr>\n",
       "      <th>7101</th>\n",
       "      <td>7121</td>\n",
       "      <td>content/gdrive/My Drive/mridangam_stroke_1.0/E...</td>\n",
       "      <td>5377.0</td>\n",
       "      <td>E</td>\n",
       "      <td>thom</td>\n",
       "      <td>10</td>\n",
       "    </tr>\n",
       "    <tr>\n",
       "      <th>1323</th>\n",
       "      <td>1323</td>\n",
       "      <td>content/gdrive/My Drive/mridangam_stroke_1.0/B...</td>\n",
       "      <td>4865.0</td>\n",
       "      <td>B</td>\n",
       "      <td>thom</td>\n",
       "      <td>10</td>\n",
       "    </tr>\n",
       "    <tr>\n",
       "      <th>4580</th>\n",
       "      <td>4600</td>\n",
       "      <td>content/gdrive/My Drive/mridangam_stroke_1.0/D...</td>\n",
       "      <td>7169.0</td>\n",
       "      <td>D</td>\n",
       "      <td>thom</td>\n",
       "      <td>10</td>\n",
       "    </tr>\n",
       "    <tr>\n",
       "      <th>1257</th>\n",
       "      <td>1257</td>\n",
       "      <td>content/gdrive/My Drive/mridangam_stroke_1.0/B...</td>\n",
       "      <td>5377.0</td>\n",
       "      <td>B</td>\n",
       "      <td>thom</td>\n",
       "      <td>10</td>\n",
       "    </tr>\n",
       "    <tr>\n",
       "      <th>7174</th>\n",
       "      <td>7194</td>\n",
       "      <td>content/gdrive/My Drive/mridangam_stroke_1.0/E...</td>\n",
       "      <td>9729.0</td>\n",
       "      <td>E</td>\n",
       "      <td>thom</td>\n",
       "      <td>10</td>\n",
       "    </tr>\n",
       "  </tbody>\n",
       "</table>\n",
       "<p>2220 rows × 6 columns</p>\n",
       "</div>"
      ],
      "text/plain": [
       "      Unnamed: 0                                               Path   Length  \\\n",
       "4601        4621  content/gdrive/My Drive/mridangam_stroke_1.0/D...  33793.0   \n",
       "4600        4620  content/gdrive/My Drive/mridangam_stroke_1.0/D...   9217.0   \n",
       "6105        6125  content/gdrive/My Drive/mridangam_stroke_1.0/E...  25581.0   \n",
       "4599        4619  content/gdrive/My Drive/mridangam_stroke_1.0/D...   9473.0   \n",
       "4603        4623  content/gdrive/My Drive/mridangam_stroke_1.0/D...  12738.0   \n",
       "...          ...                                                ...      ...   \n",
       "7101        7121  content/gdrive/My Drive/mridangam_stroke_1.0/E...   5377.0   \n",
       "1323        1323  content/gdrive/My Drive/mridangam_stroke_1.0/B...   4865.0   \n",
       "4580        4600  content/gdrive/My Drive/mridangam_stroke_1.0/D...   7169.0   \n",
       "1257        1257  content/gdrive/My Drive/mridangam_stroke_1.0/B...   5377.0   \n",
       "7174        7194  content/gdrive/My Drive/mridangam_stroke_1.0/E...   9729.0   \n",
       "\n",
       "     Shruti Stroke  Label  \n",
       "4601     D#  bheem      1  \n",
       "4600     D#  bheem      1  \n",
       "6105      E  bheem      1  \n",
       "4599     D#  bheem      1  \n",
       "4603     D#  bheem      1  \n",
       "...     ...    ...    ...  \n",
       "7101      E   thom     10  \n",
       "1323      B   thom     10  \n",
       "4580      D   thom     10  \n",
       "1257      B   thom     10  \n",
       "7174      E   thom     10  \n",
       "\n",
       "[2220 rows x 6 columns]"
      ]
     },
     "execution_count": 50,
     "metadata": {},
     "output_type": "execute_result"
    }
   ],
   "source": [
    "test_df"
   ]
  },
  {
   "cell_type": "code",
   "execution_count": 51,
   "metadata": {},
   "outputs": [
    {
     "data": {
      "text/plain": [
       "array(['bheem', 'bheem', 'bheem', ..., 'thom', 'thom', 'thom'],\n",
       "      dtype=object)"
      ]
     },
     "execution_count": 51,
     "metadata": {},
     "output_type": "execute_result"
    }
   ],
   "source": [
    "labels"
   ]
  },
  {
   "cell_type": "code",
   "execution_count": 52,
   "metadata": {
    "colab": {
     "base_uri": "https://localhost:8080/"
    },
    "id": "5QlFeBrq93xh",
    "outputId": "0636048d-253b-42f9-8f65-b33e68d5110a"
   },
   "outputs": [
    {
     "data": {
      "text/plain": [
       "22130"
      ]
     },
     "execution_count": 52,
     "metadata": {},
     "output_type": "execute_result"
    }
   ],
   "source": [
    "len(wave_pd)"
   ]
  },
  {
   "cell_type": "code",
   "execution_count": 53,
   "metadata": {
    "colab": {
     "base_uri": "https://localhost:8080/"
    },
    "id": "p8lJBsy7NqJH",
    "outputId": "08e95761-6836-4244-e9b5-7778c4f82994"
   },
   "outputs": [
    {
     "data": {
      "text/plain": [
       "22130"
      ]
     },
     "execution_count": 53,
     "metadata": {},
     "output_type": "execute_result"
    }
   ],
   "source": [
    "len(train_df)+len(valid_df)+len(test_df)"
   ]
  },
  {
   "cell_type": "markdown",
   "metadata": {
    "id": "1mZNOwoYfV5d"
   },
   "source": [
    "# Deep Learning"
   ]
  },
  {
   "cell_type": "code",
   "execution_count": 54,
   "metadata": {
    "id": "ZY-i0xa2IXGu"
   },
   "outputs": [],
   "source": [
    "class CFG:\n",
    "    EPOCHS = 1000\n",
    "    BATCH_SIZE = 32\n",
    "    SEED = 42\n",
    "    TF_SEED = 768"
   ]
  },
  {
   "cell_type": "code",
   "execution_count": 55,
   "metadata": {
    "id": "LbTZSHLKIptl"
   },
   "outputs": [],
   "source": [
    "# def view_sample(df, idx):\n",
    "#     print('==============================================')\n",
    "#     print(f\"Filename:\\t{df['slice_file_name'][idx]}\")\n",
    "#     print(f\"Fold:\\t\\t{df['fold'][idx]}\")\n",
    "#     print(f\"Class:\\t\\t{df['class'][idx]}\\n\\n\")\n",
    "#     sample_path = DATASET_PATH + f\"fold{df['fold'][idx]}/{df['slice_file_name'][idx]}\"\n",
    "#     display.display(display.Audio(sample_path, rate=16000))\n",
    "#     print('==============================================')\n",
    "#     return\n",
    "\n",
    "def generate_spectrogram(waveform, length=255, step=128, fft_length=255):\n",
    "    # Compute Short-Time Fourier Transform of waveform\n",
    "    spectrogram = tf.signal.stft(waveform, \n",
    "                                frame_length=length, \n",
    "                                frame_step=step, \n",
    "                                fft_length=fft_length)\n",
    "    \n",
    "    # Get magnitude of STFT\n",
    "    spectrogram = tf.abs(spectrogram)\n",
    "    \n",
    "    # Convert spectrogram into image with (height, width, channels) dimensions\n",
    "    spectrogram = spectrogram[..., tf.newaxis]\n",
    "    \n",
    "    return spectrogram"
   ]
  },
  {
   "cell_type": "code",
   "execution_count": 56,
   "metadata": {
    "id": "dOLFUECEJD5x"
   },
   "outputs": [],
   "source": [
    "def plot_audio_data(waveform, figsize=(16, 8)):\n",
    "    fig, (ax1, ax2) = plt.subplots(2, figsize=figsize)\n",
    "    \n",
    "    # Plot waveform\n",
    "    ax1.plot(waveform)\n",
    "    ax1.set_title('Waveform')\n",
    "    ax1.set_xlim([0, len(waveform)])\n",
    "    \n",
    "    # Plot spectrogram\n",
    "    #-----------------\n",
    "    # Generate spectogram from waveform\n",
    "    spectrogram = generate_spectrogram(waveform) \n",
    "    \n",
    "    # View shapes\n",
    "    print(f'Waveform shape: {waveform.shape}')\n",
    "    print(f'Spectrogram shape: {spectrogram.shape}')\n",
    "    \n",
    "    # Convert spectrogram shape to 3D if 2D\n",
    "    if len(spectrogram.shape) > 2:\n",
    "        assert len(spectrogram.shape) == 3\n",
    "        spectrogram = np.squeeze(spectrogram, axis=-1)\n",
    "    \n",
    "    # Take log of spectrogram (epsillon is added to avoid taking log of 0)\n",
    "    log_spec = np.log(spectrogram.T + np.finfo(float).eps)\n",
    "    height = log_spec.shape[0]\n",
    "    width = log_spec.shape[1]\n",
    "    \n",
    "    # Plot Spectrogram\n",
    "    X = np.linspace(0, np.size(spectrogram), num=width, dtype=int)\n",
    "    Y = range(height)\n",
    "    ax2.pcolormesh(X, Y, log_spec)\n",
    "    ax2.set_title('Spectrogram')\n",
    "    plt.show()\n",
    "    \n",
    "    return"
   ]
  },
  {
   "cell_type": "code",
   "execution_count": 57,
   "metadata": {
    "id": "AFjaweQOJG2O"
   },
   "outputs": [],
   "source": [
    "def one_hot_encode(encoded_classes:np.ndarray, num_classes:int):\n",
    "    return tf.one_hot(encoded_classes, depth=num_classes)"
   ]
  },
  {
   "cell_type": "code",
   "execution_count": 58,
   "metadata": {
    "colab": {
     "base_uri": "https://localhost:8080/"
    },
    "id": "NmtEGX8-Ku-F",
    "outputId": "ff3577bb-a3d4-4027-d9a4-6b195ed8a5df"
   },
   "outputs": [
    {
     "data": {
      "text/plain": [
       "10"
      ]
     },
     "execution_count": 58,
     "metadata": {},
     "output_type": "execute_result"
    }
   ],
   "source": [
    "num_classes = len(np.unique(wave_pd[\"Label\"].values))\n",
    "num_classes"
   ]
  },
  {
   "cell_type": "code",
   "execution_count": 59,
   "metadata": {
    "id": "ijEeWI6-K9oE"
   },
   "outputs": [],
   "source": [
    "train_labels_encoded = train_df[\"Label\"].to_numpy()\n",
    "val_labels_encoded = valid_df[\"Label\"].to_numpy()\n",
    "test_labels_encoded = test_df[\"Label\"].to_numpy()"
   ]
  },
  {
   "cell_type": "code",
   "execution_count": 60,
   "metadata": {
    "colab": {
     "base_uri": "https://localhost:8080/"
    },
    "id": "ZygBOQnxKRHi",
    "outputId": "520f15ef-0965-46a8-c019-b61de7618bb5"
   },
   "outputs": [
    {
     "name": "stderr",
     "output_type": "stream",
     "text": [
      "2023-12-19 23:07:45.519871: I tensorflow/core/platform/cpu_feature_guard.cc:193] This TensorFlow binary is optimized with oneAPI Deep Neural Network Library (oneDNN) to use the following CPU instructions in performance-critical operations:  AVX2 AVX512F AVX512_VNNI FMA\n",
      "To enable them in other operations, rebuild TensorFlow with the appropriate compiler flags.\n"
     ]
    },
    {
     "data": {
      "text/plain": [
       "<tf.Tensor: shape=(16590, 10), dtype=float32, numpy=\n",
       "array([[0., 1., 0., ..., 0., 0., 0.],\n",
       "       [0., 1., 0., ..., 0., 0., 0.],\n",
       "       [0., 1., 0., ..., 0., 0., 0.],\n",
       "       ...,\n",
       "       [0., 0., 0., ..., 0., 0., 0.],\n",
       "       [0., 0., 0., ..., 0., 0., 0.],\n",
       "       [0., 0., 0., ..., 0., 0., 0.]], dtype=float32)>"
      ]
     },
     "execution_count": 60,
     "metadata": {},
     "output_type": "execute_result"
    }
   ],
   "source": [
    "# One-hot encode train labels\n",
    "train_one_hot = one_hot_encode(train_labels_encoded, num_classes)\n",
    "\n",
    "# One-hot encode validation labels\n",
    "val_one_hot = one_hot_encode(val_labels_encoded, num_classes)\n",
    "\n",
    "# One-hot encode test labels\n",
    "test_one_hot = one_hot_encode(test_labels_encoded, num_classes)\n",
    "\n",
    "# View one-hot encodings of train labels\n",
    "train_one_hot"
   ]
  },
  {
   "cell_type": "code",
   "execution_count": 61,
   "metadata": {
    "colab": {
     "base_uri": "https://localhost:8080/"
    },
    "id": "7_a3bxQ9PPOP",
    "outputId": "98fc6d41-6615-4fa6-aa9e-ed0b036dce89"
   },
   "outputs": [
    {
     "name": "stdout",
     "output_type": "stream",
     "text": [
      "Sample Class:\t\t\t bheem\n",
      "Sample Label Encoding:\t\t 1\n",
      "Sample One-Hot Encoding:\t [0. 1. 0. 0. 0. 0. 0. 0. 0. 0.]\n"
     ]
    }
   ],
   "source": [
    "# View Classes with Encodings\n",
    "sample_idx = 20\n",
    "print('Sample Class:\\t\\t\\t', train_df['Stroke'].iloc[sample_idx])\n",
    "print('Sample Label Encoding:\\t\\t', train_labels_encoded[sample_idx])\n",
    "print('Sample One-Hot Encoding:\\t', train_one_hot[sample_idx].numpy())"
   ]
  },
  {
   "cell_type": "code",
   "execution_count": 62,
   "metadata": {
    "id": "6gyuVgzaPgTu"
   },
   "outputs": [],
   "source": [
    "def _load(audio_path: str):\n",
    "    # Load Audio\n",
    "    waveform, sample_rate = librosa.load(audio_path, sr=16000, res_type='kaiser_fast', mono=True)\n",
    "    \n",
    "    # Pad or Truncate audio to standardize waveform lenght\n",
    "    waveform = librosa.util.fix_length(waveform, size=32000)\n",
    "    \n",
    "    return waveform\n",
    "\n",
    "\n",
    "# Here's a function to get any model/preprocessor from tensorflow hub\n",
    "def get_tfhub_model(model_link, model_name, model_trainable=False, input_shape=None):\n",
    "    return hub.KerasLayer(model_link,\n",
    "                          trainable=model_trainable,\n",
    "                          name=model_name)"
   ]
  },
  {
   "cell_type": "code",
   "execution_count": 63,
   "metadata": {
    "id": "fqTpPWtWPith"
   },
   "outputs": [],
   "source": [
    "yamnet_url = 'yamnet_1'\n",
    "model_name = 'yamnet_1'\n",
    "set_trainable=False # set trainable to False for inference-only \n",
    "\n",
    "yamnet = get_tfhub_model(yamnet_url,\n",
    "                         model_name, \n",
    "                         model_trainable=set_trainable)"
   ]
  },
  {
   "cell_type": "code",
   "execution_count": 64,
   "metadata": {
    "id": "Y1PtxFbZP2Gf"
   },
   "outputs": [],
   "source": [
    "class AudioGenerator:\n",
    "    '''\n",
    "    Generates embedding and label pairs of audio files given the paths and one-hot encoded labels.\n",
    "    \n",
    "    @params\n",
    "    - audio_paths: (list[str]) -> paths of audios to be loaded\n",
    "    - audio_labels: (np.ndarray) -> labels (one-hot encoded) of audios to be loaded\n",
    "    '''\n",
    "    def __init__(self, audio_paths, audio_labels):\n",
    "        self.audio_paths = audio_paths\n",
    "        self.audio_labels = audio_labels\n",
    "        \n",
    "    def get_paths(self):\n",
    "        return self.audio_paths\n",
    "    \n",
    "    def get_labels(self):\n",
    "        return self.audio_labels\n",
    "    \n",
    "    def __len__(self):\n",
    "        return len(self.audio_labels)\n",
    "    \n",
    "    def __call__(self):\n",
    "        # Get paths and labels\n",
    "        paths = self.get_paths()\n",
    "        labels = self.get_labels()\n",
    "        \n",
    "        # Zip paths and labels together\n",
    "        data = list(zip(paths, labels))\n",
    "        \n",
    "        # Iterate over paths and labels to yield \n",
    "        # loaded embeddings with labels  \n",
    "        for path, label in data:\n",
    "            audio =_load(path)\n",
    "            _, embeddings_output, _ = yamnet(audio)\n",
    "            \n",
    "            yield embeddings_output, label"
   ]
  },
  {
   "cell_type": "code",
   "execution_count": 65,
   "metadata": {
    "id": "Irjnu2t-P9sY"
   },
   "outputs": [],
   "source": [
    "def create_pipeline(audio_paths, audio_labels,\n",
    "                    batch_size=32, shuffle=False, cache=False, prefetch=False):\n",
    "    '''\n",
    "    Generates an input pipeline using the tf.data API given the paths and labels for audio data.\n",
    "    \n",
    "    @params\n",
    "        - audio_paths: (list[str] | np.ndarray) -> Paths to audio files\n",
    "        - audio_labels: (np.ndarray) -> Audio labels one-hot encoded\n",
    "        - batch_size: (int) -> size for batched (default=32) \n",
    "        - shuffle: (bool) -> condition for data shuffling, data is shuffled when True (default=False)\n",
    "        - cache: (bool) -> condition for caching data, data is cached in memory when True (default=False)\n",
    "        - prefetch: (bool) -> condition for prefeching data, data is prefetched when True (default=False)\n",
    "        \n",
    "    @returns\n",
    "        - dataset: (tf.data.Dataset) -> dataset input pipeline used to train a TensorFlow model\n",
    "    '''\n",
    "    # Define autotune\n",
    "    AUTOTUNE = tf.data.AUTOTUNE\n",
    "    \n",
    "    \n",
    "    # Define dataset output signature\n",
    "    gen_output_signature = (\n",
    "        tf.TensorSpec(shape=(4, 1024), dtype=tf.float32), \n",
    "        tf.TensorSpec(shape=(audio_labels.shape[-1]), dtype=tf.float32)\n",
    "    )\n",
    "    \n",
    "    # Create frames dataset with generator\n",
    "    ds = tf.data.Dataset.from_generator(\n",
    "        AudioGenerator(audio_paths, audio_labels),\n",
    "        output_signature=gen_output_signature\n",
    "    )\n",
    "        \n",
    "    # Apply shuffling based on condition\n",
    "    if shuffle:\n",
    "        ds = ds.shuffle(buffer_size=1000)\n",
    "        \n",
    "    # Apply batching\n",
    "    ds = ds.batch(batch_size)\n",
    "    \n",
    "    # Apply caching based on condition\n",
    "    # Note: Do this if the data is small enough to fit in memory!!!\n",
    "    if cache:\n",
    "        ds = ds.cache(buffer_size=AUTOTUNE)\n",
    "    \n",
    "    # Apply prefetching based on condition\n",
    "    # Note: This will result in memory trade-offs\n",
    "    if prefetch:\n",
    "        ds = ds.prefetch(buffer_size=AUTOTUNE)\n",
    "    \n",
    "    # Return the dataset\n",
    "    return ds"
   ]
  },
  {
   "cell_type": "code",
   "execution_count": 66,
   "metadata": {
    "id": "HeMuMwg6ROQY"
   },
   "outputs": [],
   "source": [
    "train_paths = train_df[\"Path\"].values\n",
    "val_paths = valid_df[\"Path\"].values\n",
    "test_paths = test_df[\"Path\"].values"
   ]
  },
  {
   "cell_type": "code",
   "execution_count": 67,
   "metadata": {
    "id": "h-APufkQRI1e"
   },
   "outputs": [],
   "source": [
    "# Generate Datasets\n",
    "train_ds = create_pipeline(train_paths, train_one_hot, batch_size=32, shuffle=False, prefetch=False)\n",
    "val_ds = create_pipeline(val_paths, val_one_hot, batch_size=32, shuffle=False, prefetch=False)\n",
    "test_ds = create_pipeline(test_paths, test_one_hot, batch_size=32, shuffle=False, prefetch=False)"
   ]
  },
  {
   "cell_type": "code",
   "execution_count": 68,
   "metadata": {
    "colab": {
     "base_uri": "https://localhost:8080/"
    },
    "id": "SaIcs1T0RM22",
    "outputId": "46ff16be-8957-4bbf-9e71-fa3843506847"
   },
   "outputs": [
    {
     "data": {
      "text/plain": [
       "<BatchDataset element_spec=(TensorSpec(shape=(None, 4, 1024), dtype=tf.float32, name=None), TensorSpec(shape=(None, 10), dtype=tf.float32, name=None))>"
      ]
     },
     "execution_count": 68,
     "metadata": {},
     "output_type": "execute_result"
    }
   ],
   "source": [
    "train_ds"
   ]
  },
  {
   "cell_type": "code",
   "execution_count": 69,
   "metadata": {
    "colab": {
     "base_uri": "https://localhost:8080/"
    },
    "id": "bvwKKmwIRx5v",
    "outputId": "b7750798-3d03-4d4d-de29-520d0c0c2d01"
   },
   "outputs": [
    {
     "name": "stdout",
     "output_type": "stream",
     "text": [
      "Requirement already satisfied: resampy in /Library/Frameworks/Python.framework/Versions/3.10/lib/python3.10/site-packages (0.2.2)\n",
      "Requirement already satisfied: numpy>=1.10 in /Library/Frameworks/Python.framework/Versions/3.10/lib/python3.10/site-packages (from resampy) (1.22.0)\n",
      "Requirement already satisfied: scipy>=0.13 in /Library/Frameworks/Python.framework/Versions/3.10/lib/python3.10/site-packages (from resampy) (1.8.0)\n",
      "Requirement already satisfied: numba>=0.32 in /Library/Frameworks/Python.framework/Versions/3.10/lib/python3.10/site-packages (from resampy) (0.55.2)\n",
      "Requirement already satisfied: six>=1.3 in /Library/Frameworks/Python.framework/Versions/3.10/lib/python3.10/site-packages (from resampy) (1.16.0)\n",
      "Requirement already satisfied: llvmlite<0.39,>=0.38.0rc1 in /Library/Frameworks/Python.framework/Versions/3.10/lib/python3.10/site-packages (from numba>=0.32->resampy) (0.38.0)\n",
      "Requirement already satisfied: setuptools in /Library/Frameworks/Python.framework/Versions/3.10/lib/python3.10/site-packages (from numba>=0.32->resampy) (52.0.0)\n",
      "\n",
      "\u001b[1m[\u001b[0m\u001b[34;49mnotice\u001b[0m\u001b[1;39;49m]\u001b[0m\u001b[39;49m A new release of pip is available: \u001b[0m\u001b[31;49m23.1.2\u001b[0m\u001b[39;49m -> \u001b[0m\u001b[32;49m23.3.2\u001b[0m\n",
      "\u001b[1m[\u001b[0m\u001b[34;49mnotice\u001b[0m\u001b[1;39;49m]\u001b[0m\u001b[39;49m To update, run: \u001b[0m\u001b[32;49mpip install --upgrade pip\u001b[0m\n"
     ]
    }
   ],
   "source": [
    "!pip install resampy"
   ]
  },
  {
   "cell_type": "code",
   "execution_count": 70,
   "metadata": {
    "id": "Zwq2excGR-0f"
   },
   "outputs": [],
   "source": [
    "import resampy"
   ]
  },
  {
   "cell_type": "code",
   "execution_count": 71,
   "metadata": {
    "colab": {
     "base_uri": "https://localhost:8080/"
    },
    "id": "47Wk9sFhRels",
    "outputId": "26fb173e-6e2d-457d-9218-8500422e63f5"
   },
   "outputs": [
    {
     "name": "stdout",
     "output_type": "stream",
     "text": [
      "Audio shape: (32, 4, 1024)\n",
      "Labels shape: (32, 10)\n"
     ]
    }
   ],
   "source": [
    "# # View sample shapes\n",
    "sample_ds_audio, sample_ds_labels = next(iter(train_ds))\n",
    "print(f'Audio shape: {sample_ds_audio.shape}')\n",
    "print(f'Labels shape: {sample_ds_labels.shape}')"
   ]
  },
  {
   "cell_type": "code",
   "execution_count": 83,
   "metadata": {
    "id": "eKa1-QQuRhK6"
   },
   "outputs": [],
   "source": [
    "def build_model(num_labels):\n",
    "    # Define kernel initializer\n",
    "    initializer = tf.keras.initializers.GlorotNormal()\n",
    "    \n",
    "    # Input Layer\n",
    "    audio = layers.Input(shape=(4, 1024), dtype=tf.float32, name='audio_input')\n",
    "    \n",
    "    # Bidirectional GRU Layer\n",
    "    audio_gru_1 = layers.Bidirectional(layers.GRU(128, kernel_initializer=initializer, name='audio_gru_1'))(audio)\n",
    "    \n",
    "    # Apply Dropout\n",
    "    audio_dropout_1 = layers.Dropout(0.25)(audio_gru_1)\n",
    "    \n",
    "    # Compute classification probabilities\n",
    "    output_layer = layers.Dense(num_labels, activation='softmax', \n",
    "                                kernel_initializer=initializer, \n",
    "                                name='output_layer')(audio_dropout_1)\n",
    "    \n",
    "    return tf.keras.Model(inputs=[audio], outputs=[output_layer], name=\"audio_classifier_model_gru\")\n"
   ]
  },
  {
   "cell_type": "code",
   "execution_count": 57,
   "metadata": {},
   "outputs": [],
   "source": [
    "def build_model(num_labels):\n",
    "    # Define kernel initializer\n",
    "    initializer = tf.keras.initializers.GlorotNormal()\n",
    "    \n",
    "    # Input Layer\n",
    "    audio = layers.Input(shape=(4, 1024), dtype=tf.float32, name='audio_input')\n",
    "    \n",
    "    # LSTM Layers\n",
    "    audio_lstm_1 = layers.Bidirectional(layers.LSTM(128, kernel_initializer=initializer, return_sequences=True, name='audio_lstm_1'))(audio)\n",
    "    audio_lstm_2 = layers.Bidirectional(layers.LSTM(128, kernel_initializer=initializer, return_sequences=True, name='audio_lstm_2'))(audio_lstm_1)\n",
    "    \n",
    "    # Apply Attention Mechanism\n",
    "    attention = layers.Attention(name='attention')([audio_lstm_2, audio_lstm_2])\n",
    "    attention = layers.GlobalAveragePooling1D()(attention)\n",
    "    \n",
    "    # Apply Dropout for Regularization\n",
    "    audio_dropout = layers.Dropout(0.25)(attention)\n",
    "    \n",
    "    # Batch Normalization\n",
    "    audio_batchnorm = layers.BatchNormalization()(audio_dropout)\n",
    "    \n",
    "    # Compute classification probabilities\n",
    "    output_layer = layers.Dense(num_labels, activation='softmax', \n",
    "                                kernel_initializer=initializer, \n",
    "                                name='output_layer')(audio_batchnorm)\n",
    "    \n",
    "    return tf.keras.Model(inputs=[audio], outputs=[output_layer], name=\"audio_classifier_model\")"
   ]
  },
  {
   "cell_type": "code",
   "execution_count": 86,
   "metadata": {
    "colab": {
     "base_uri": "https://localhost:8080/"
    },
    "id": "MPKiiH31SIET",
    "outputId": "a5b79369-969d-4741-b1dd-bfddcaa5630d"
   },
   "outputs": [
    {
     "name": "stdout",
     "output_type": "stream",
     "text": [
      "Model: \"audio_classifier_model_gru\"\n",
      "_________________________________________________________________\n",
      " Layer (type)                Output Shape              Param #   \n",
      "=================================================================\n",
      " audio_input (InputLayer)    [(None, 4, 1024)]         0         \n",
      "                                                                 \n",
      " bidirectional_2 (Bidirectio  (None, 256)              886272    \n",
      " nal)                                                            \n",
      "                                                                 \n",
      " dropout_2 (Dropout)         (None, 256)               0         \n",
      "                                                                 \n",
      " output_layer (Dense)        (None, 10)                2570      \n",
      "                                                                 \n",
      "=================================================================\n",
      "Total params: 888,842\n",
      "Trainable params: 888,842\n",
      "Non-trainable params: 0\n",
      "_________________________________________________________________\n"
     ]
    }
   ],
   "source": [
    "# Generate Model\n",
    "audio_model = build_model(num_classes)\n",
    "\n",
    "# Generate Summary of the Model\n",
    "audio_model.summary()"
   ]
  },
  {
   "cell_type": "code",
   "execution_count": 74,
   "metadata": {
    "colab": {
     "base_uri": "https://localhost:8080/",
     "height": 201
    },
    "id": "oCEavJ72SKKT",
    "outputId": "69130fdb-1ace-4620-f64f-0fe75ec4674a"
   },
   "outputs": [
    {
     "data": {
      "image/png": "[encoded data removed]",
      "text/plain": [
       "<IPython.core.display.Image object>"
      ]
     },
     "execution_count": 74,
     "metadata": {},
     "output_type": "execute_result"
    }
   ],
   "source": [
    "# Explore model visually\n",
    "plot_model(\n",
    "    audio_model, dpi=60,\n",
    "    show_shapes=True\n",
    ")"
   ]
  },
  {
   "cell_type": "code",
   "execution_count": 75,
   "metadata": {},
   "outputs": [
    {
     "name": "stdout",
     "output_type": "stream",
     "text": [
      "Requirement already satisfied: visualkeras in /Library/Frameworks/Python.framework/Versions/3.10/lib/python3.10/site-packages (0.0.2)\n",
      "Requirement already satisfied: pillow>=6.2.0 in /Library/Frameworks/Python.framework/Versions/3.10/lib/python3.10/site-packages (from visualkeras) (9.0.1)\n",
      "Requirement already satisfied: numpy>=1.18.1 in /Library/Frameworks/Python.framework/Versions/3.10/lib/python3.10/site-packages (from visualkeras) (1.22.0)\n",
      "Requirement already satisfied: aggdraw>=1.3.11 in /Library/Frameworks/Python.framework/Versions/3.10/lib/python3.10/site-packages (from visualkeras) (1.3.15)\n",
      "\n",
      "\u001b[1m[\u001b[0m\u001b[34;49mnotice\u001b[0m\u001b[1;39;49m]\u001b[0m\u001b[39;49m A new release of pip is available: \u001b[0m\u001b[31;49m23.1.2\u001b[0m\u001b[39;49m -> \u001b[0m\u001b[32;49m23.3.2\u001b[0m\n",
      "\u001b[1m[\u001b[0m\u001b[34;49mnotice\u001b[0m\u001b[1;39;49m]\u001b[0m\u001b[39;49m To update, run: \u001b[0m\u001b[32;49mpip install --upgrade pip\u001b[0m\n",
      "Note: you may need to restart the kernel to use updated packages.\n"
     ]
    }
   ],
   "source": [
    "pip install visualkeras"
   ]
  },
  {
   "cell_type": "code",
   "execution_count": 78,
   "metadata": {
    "colab": {
     "base_uri": "https://localhost:8080/"
    },
    "id": "z14F289OUizp",
    "outputId": "b5ad519a-5836-4f42-be43-8e6b2ab63b61"
   },
   "outputs": [
    {
     "name": "stdout",
     "output_type": "stream",
     "text": [
      "Collecting git+https://github.com/paulgavrikov/visualkeras\n",
      "  Cloning https://github.com/paulgavrikov/visualkeras to /private/var/folders/4m/jxk5_ydd4zl7c_t8ktc70vnw0000gn/T/pip-req-build-5b9enen_\n",
      "  Running command git clone --filter=blob:none --quiet https://github.com/paulgavrikov/visualkeras /private/var/folders/4m/jxk5_ydd4zl7c_t8ktc70vnw0000gn/T/pip-req-build-5b9enen_\n",
      "  Resolved https://github.com/paulgavrikov/visualkeras to commit cd169b81be347e2090353ad6fe2bd2e1f4020cf4\n",
      "  Preparing metadata (setup.py) ... \u001b[?25ldone\n",
      "\u001b[?25hRequirement already satisfied: pillow>=6.2.0 in /Library/Frameworks/Python.framework/Versions/3.10/lib/python3.10/site-packages (from visualkeras==0.0.2) (9.0.1)\n",
      "Requirement already satisfied: numpy>=1.18.1 in /Library/Frameworks/Python.framework/Versions/3.10/lib/python3.10/site-packages (from visualkeras==0.0.2) (1.22.0)\n",
      "Requirement already satisfied: aggdraw>=1.3.11 in /Library/Frameworks/Python.framework/Versions/3.10/lib/python3.10/site-packages (from visualkeras==0.0.2) (1.3.15)\n",
      "\n",
      "\u001b[1m[\u001b[0m\u001b[34;49mnotice\u001b[0m\u001b[1;39;49m]\u001b[0m\u001b[39;49m A new release of pip is available: \u001b[0m\u001b[31;49m23.1.2\u001b[0m\u001b[39;49m -> \u001b[0m\u001b[32;49m23.3.2\u001b[0m\n",
      "\u001b[1m[\u001b[0m\u001b[34;49mnotice\u001b[0m\u001b[1;39;49m]\u001b[0m\u001b[39;49m To update, run: \u001b[0m\u001b[32;49mpip install --upgrade pip\u001b[0m\n",
      "Note: you may need to restart the kernel to use updated packages.\n"
     ]
    }
   ],
   "source": [
    "pip install git+https://github.com/paulgavrikov/visualkeras --upgrade"
   ]
  },
  {
   "cell_type": "code",
   "execution_count": 79,
   "metadata": {
    "id": "NCoMv8CYUjSi"
   },
   "outputs": [],
   "source": [
    "import visualkeras"
   ]
  },
  {
   "cell_type": "code",
   "execution_count": 80,
   "metadata": {},
   "outputs": [
    {
     "ename": "TypeError",
     "evalue": "'int' object is not iterable",
     "output_type": "error",
     "traceback": [
      "\u001b[0;31m---------------------------------------------------------------------------\u001b[0m",
      "\u001b[0;31mTypeError\u001b[0m                                 Traceback (most recent call last)",
      "Input \u001b[0;32mIn [80]\u001b[0m, in \u001b[0;36m<module>\u001b[0;34m\u001b[0m\n\u001b[0;32m----> 1\u001b[0m \u001b[43mvisualkeras\u001b[49m\u001b[38;5;241;43m.\u001b[39;49m\u001b[43mlayered_view\u001b[49m\u001b[43m(\u001b[49m\u001b[43maudio_model\u001b[49m\u001b[43m,\u001b[49m\u001b[43m \u001b[49m\u001b[43mto_file\u001b[49m\u001b[38;5;241;43m=\u001b[39;49m\u001b[38;5;124;43m'\u001b[39;49m\u001b[38;5;124;43moutput.png\u001b[39;49m\u001b[38;5;124;43m'\u001b[39;49m\u001b[43m)\u001b[49m\n",
      "File \u001b[0;32m/Library/Frameworks/Python.framework/Versions/3.10/lib/python3.10/site-packages/visualkeras/layered.py:100\u001b[0m, in \u001b[0;36mlayered_view\u001b[0;34m(model, to_file, min_z, min_xy, max_z, max_xy, scale_z, scale_xy, type_ignore, index_ignore, color_map, one_dim_orientation, background_fill, draw_volume, padding, spacing, draw_funnel, shade_step, legend, font, font_color)\u001b[0m\n\u001b[1;32m     98\u001b[0m     x \u001b[38;5;241m=\u001b[39m \u001b[38;5;28mmin\u001b[39m(\u001b[38;5;28mmax\u001b[39m(shape[\u001b[38;5;241m1\u001b[39m] \u001b[38;5;241m*\u001b[39m scale_xy, x), max_xy)\n\u001b[1;32m     99\u001b[0m     y \u001b[38;5;241m=\u001b[39m \u001b[38;5;28mmin\u001b[39m(\u001b[38;5;28mmax\u001b[39m(shape[\u001b[38;5;241m2\u001b[39m] \u001b[38;5;241m*\u001b[39m scale_xy, y), max_xy)\n\u001b[0;32m--> 100\u001b[0m     z \u001b[38;5;241m=\u001b[39m \u001b[38;5;28mmin\u001b[39m(\u001b[38;5;28;43mmax\u001b[39;49m\u001b[43m(\u001b[49m\u001b[43mz\u001b[49m\u001b[43m)\u001b[49m, max_z)\n\u001b[1;32m    101\u001b[0m \u001b[38;5;28;01melif\u001b[39;00m \u001b[38;5;28mlen\u001b[39m(shape) \u001b[38;5;241m==\u001b[39m \u001b[38;5;241m2\u001b[39m:\n\u001b[1;32m    102\u001b[0m     \u001b[38;5;28;01mif\u001b[39;00m one_dim_orientation \u001b[38;5;241m==\u001b[39m \u001b[38;5;124m'\u001b[39m\u001b[38;5;124mx\u001b[39m\u001b[38;5;124m'\u001b[39m:\n",
      "\u001b[0;31mTypeError\u001b[0m: 'int' object is not iterable"
     ]
    }
   ],
   "source": [
    "visualkeras.layered_view(audio_model, to_file='output.png') # write to disk"
   ]
  },
  {
   "cell_type": "code",
   "execution_count": 58,
   "metadata": {
    "colab": {
     "base_uri": "https://localhost:8080/",
     "height": 382
    },
    "id": "RiNiv1a1UpTE",
    "outputId": "a98a02f4-81f6-4a6c-e0b3-393921214a27"
   },
   "outputs": [
    {
     "ename": "TypeError",
     "evalue": "'int' object is not iterable",
     "output_type": "error",
     "traceback": [
      "\u001b[0;31m---------------------------------------------------------------------------\u001b[0m",
      "\u001b[0;31mTypeError\u001b[0m                                 Traceback (most recent call last)",
      "Input \u001b[0;32mIn [58]\u001b[0m, in \u001b[0;36m<module>\u001b[0;34m\u001b[0m\n\u001b[0;32m----> 1\u001b[0m \u001b[43mvisualkeras\u001b[49m\u001b[38;5;241;43m.\u001b[39;49m\u001b[43mlayered_view\u001b[49m\u001b[43m(\u001b[49m\u001b[43maudio_model\u001b[49m\u001b[43m,\u001b[49m\u001b[43m \u001b[49m\u001b[43mlegend\u001b[49m\u001b[38;5;241;43m=\u001b[39;49m\u001b[38;5;28;43;01mTrue\u001b[39;49;00m\u001b[43m,\u001b[49m\u001b[43m \u001b[49m\u001b[43mmax_xy\u001b[49m\u001b[38;5;241;43m=\u001b[39;49m\u001b[38;5;241;43m250\u001b[39;49m\u001b[43m,\u001b[49m\u001b[43m \u001b[49m\u001b[43mspacing\u001b[49m\u001b[38;5;241;43m=\u001b[39;49m\u001b[38;5;241;43m20\u001b[39;49m\u001b[43m)\u001b[49m\n",
      "File \u001b[0;32m/Library/Frameworks/Python.framework/Versions/3.10/lib/python3.10/site-packages/visualkeras/layered.py:100\u001b[0m, in \u001b[0;36mlayered_view\u001b[0;34m(model, to_file, min_z, min_xy, max_z, max_xy, scale_z, scale_xy, type_ignore, index_ignore, color_map, one_dim_orientation, background_fill, draw_volume, padding, spacing, draw_funnel, shade_step, legend, font, font_color)\u001b[0m\n\u001b[1;32m     98\u001b[0m     x \u001b[38;5;241m=\u001b[39m \u001b[38;5;28mmin\u001b[39m(\u001b[38;5;28mmax\u001b[39m(shape[\u001b[38;5;241m1\u001b[39m] \u001b[38;5;241m*\u001b[39m scale_xy, x), max_xy)\n\u001b[1;32m     99\u001b[0m     y \u001b[38;5;241m=\u001b[39m \u001b[38;5;28mmin\u001b[39m(\u001b[38;5;28mmax\u001b[39m(shape[\u001b[38;5;241m2\u001b[39m] \u001b[38;5;241m*\u001b[39m scale_xy, y), max_xy)\n\u001b[0;32m--> 100\u001b[0m     z \u001b[38;5;241m=\u001b[39m \u001b[38;5;28mmin\u001b[39m(\u001b[38;5;28;43mmax\u001b[39;49m\u001b[43m(\u001b[49m\u001b[43mz\u001b[49m\u001b[43m)\u001b[49m, max_z)\n\u001b[1;32m    101\u001b[0m \u001b[38;5;28;01melif\u001b[39;00m \u001b[38;5;28mlen\u001b[39m(shape) \u001b[38;5;241m==\u001b[39m \u001b[38;5;241m2\u001b[39m:\n\u001b[1;32m    102\u001b[0m     \u001b[38;5;28;01mif\u001b[39;00m one_dim_orientation \u001b[38;5;241m==\u001b[39m \u001b[38;5;124m'\u001b[39m\u001b[38;5;124mx\u001b[39m\u001b[38;5;124m'\u001b[39m:\n",
      "\u001b[0;31mTypeError\u001b[0m: 'int' object is not iterable"
     ]
    }
   ],
   "source": [
    "visualkeras.layered_view(audio_model, legend=True, max_xy=250, spacing=20)"
   ]
  },
  {
   "cell_type": "code",
   "execution_count": 59,
   "metadata": {
    "colab": {
     "base_uri": "https://localhost:8080/",
     "height": 437
    },
    "id": "XK-oFqNZVwMR",
    "outputId": "e7ba6b0a-a5f1-48a7-adfd-8d142cbf0e4e"
   },
   "outputs": [
    {
     "ename": "AttributeError",
     "evalue": "'Functional' object has no attribute '_layers'",
     "output_type": "error",
     "traceback": [
      "\u001b[0;31m---------------------------------------------------------------------------\u001b[0m",
      "\u001b[0;31mAttributeError\u001b[0m                            Traceback (most recent call last)",
      "Input \u001b[0;32mIn [59]\u001b[0m, in \u001b[0;36m<module>\u001b[0;34m\u001b[0m\n\u001b[0;32m----> 1\u001b[0m \u001b[43mvisualkeras\u001b[49m\u001b[38;5;241;43m.\u001b[39;49m\u001b[43mgraph_view\u001b[49m\u001b[43m(\u001b[49m\u001b[43maudio_model\u001b[49m\u001b[43m,\u001b[49m\u001b[43m \u001b[49m\u001b[43mpadding\u001b[49m\u001b[38;5;241;43m=\u001b[39;49m\u001b[38;5;241;43m5\u001b[39;49m\u001b[43m,\u001b[49m\u001b[43m \u001b[49m\u001b[43mlayer_spacing\u001b[49m\u001b[38;5;241;43m=\u001b[39;49m\u001b[38;5;241;43m85\u001b[39;49m\u001b[43m,\u001b[49m\u001b[43m \u001b[49m\u001b[43mnode_spacing\u001b[49m\u001b[38;5;241;43m=\u001b[39;49m\u001b[38;5;241;43m10\u001b[39;49m\u001b[43m,\u001b[49m\u001b[43m \u001b[49m\u001b[43mconnector_fill\u001b[49m\u001b[38;5;241;43m=\u001b[39;49m\u001b[38;5;124;43m'\u001b[39;49m\u001b[38;5;124;43mgrey\u001b[39;49m\u001b[38;5;124;43m'\u001b[39;49m\u001b[43m,\u001b[49m\u001b[43m \u001b[49m\u001b[43mconnector_width\u001b[49m\u001b[38;5;241;43m=\u001b[39;49m\u001b[38;5;241;43m4\u001b[39;49m\u001b[43m,\u001b[49m\u001b[43m \u001b[49m\u001b[43mellipsize_after\u001b[49m\u001b[38;5;241;43m=\u001b[39;49m\u001b[38;5;241;43m7\u001b[39;49m\u001b[43m)\u001b[49m\n",
      "File \u001b[0;32m/Library/Frameworks/Python.framework/Versions/3.10/lib/python3.10/site-packages/visualkeras/graph.py:58\u001b[0m, in \u001b[0;36mgraph_view\u001b[0;34m(model, to_file, color_map, node_size, background_fill, padding, layer_spacing, node_spacing, connector_fill, connector_width, ellipsize_after, inout_as_tensor, show_neurons)\u001b[0m\n\u001b[1;32m     54\u001b[0m layer_y \u001b[38;5;241m=\u001b[39m \u001b[38;5;28mlist\u001b[39m()\n\u001b[1;32m     56\u001b[0m \u001b[38;5;66;03m# Attach helper layers\u001b[39;00m\n\u001b[0;32m---> 58\u001b[0m id_to_num_mapping, adj_matrix \u001b[38;5;241m=\u001b[39m \u001b[43mmodel_to_adj_matrix\u001b[49m\u001b[43m(\u001b[49m\u001b[43mmodel\u001b[49m\u001b[43m)\u001b[49m\n\u001b[1;32m     59\u001b[0m model_layers \u001b[38;5;241m=\u001b[39m model_to_hierarchy_lists(model, id_to_num_mapping, adj_matrix)\n\u001b[1;32m     61\u001b[0m \u001b[38;5;66;03m# add fake output layers\u001b[39;00m\n",
      "File \u001b[0;32m/Library/Frameworks/Python.framework/Versions/3.10/lib/python3.10/site-packages/visualkeras/layer_utils.py:39\u001b[0m, in \u001b[0;36mmodel_to_adj_matrix\u001b[0;34m(model)\u001b[0m\n\u001b[1;32m     37\u001b[0m     \u001b[38;5;28;01mif\u001b[39;00m \u001b[38;5;129;01mnot\u001b[39;00m model\u001b[38;5;241m.\u001b[39mbuilt:\n\u001b[1;32m     38\u001b[0m         model\u001b[38;5;241m.\u001b[39mbuild()\n\u001b[0;32m---> 39\u001b[0m layers \u001b[38;5;241m=\u001b[39m \u001b[43mmodel\u001b[49m\u001b[38;5;241;43m.\u001b[39;49m\u001b[43m_layers\u001b[49m\n\u001b[1;32m     41\u001b[0m adj_matrix \u001b[38;5;241m=\u001b[39m np\u001b[38;5;241m.\u001b[39mzeros((\u001b[38;5;28mlen\u001b[39m(layers), \u001b[38;5;28mlen\u001b[39m(layers)))\n\u001b[1;32m     42\u001b[0m id_to_num_mapping \u001b[38;5;241m=\u001b[39m \u001b[38;5;28mdict\u001b[39m()\n",
      "\u001b[0;31mAttributeError\u001b[0m: 'Functional' object has no attribute '_layers'"
     ]
    }
   ],
   "source": [
    "visualkeras.graph_view(audio_model, padding=5, layer_spacing=85, node_spacing=10, connector_fill='grey', connector_width=4, ellipsize_after=7)"
   ]
  },
  {
   "cell_type": "code",
   "execution_count": 87,
   "metadata": {
    "id": "wnSXu5kTSS7o"
   },
   "outputs": [],
   "source": [
    "# # Define early stopping callback\n",
    "# early_stopping_callback = tf.keras.callbacks.EarlyStopping(\n",
    "#     monitor='val_loss', \n",
    "#     patience=3, \n",
    "#     restore_best_weights=True)\n",
    "\n",
    "# # Define reduce learning rate callback\n",
    "# reduce_lr_callback = tf.keras.callbacks.ReduceLROnPlateau(\n",
    "#     monitor='val_loss',\n",
    "#     patience=2,\n",
    "#     factor=0.1,\n",
    "#     verbose=1)\n",
    "\n",
    "filepath = \"saved-model-{epoch:02d}-{val_accuracy:.2f}.hdf5\"\n",
    "checkpoint = ModelCheckpoint(filepath, monitor='val_accuracy', verbose=1, save_best_only=False, mode='max')\n",
    "    \n",
    "# Define callbacks and metrics lists\n",
    "CALLBACKS = [checkpoint]#[early_stopping_callback, reduce_lr_callback, checkpoint]\n",
    "METRICS = ['accuracy']"
   ]
  },
  {
   "cell_type": "code",
   "execution_count": 88,
   "metadata": {
    "colab": {
     "base_uri": "https://localhost:8080/",
     "height": 477
    },
    "id": "5hEaxrx5SmRb",
    "outputId": "dc85df9e-55ae-4100-c59d-8e4e07253244"
   },
   "outputs": [
    {
     "name": "stdout",
     "output_type": "stream",
     "text": [
      "Training audio_classifier_model_gru.\n",
      "Train on 16590 samples, validate on 3320 samples.\n",
      "----------------------------------\n",
      "Epoch 1/1000\n",
      "    519/Unknown - 548s 1s/step - loss: 0.8177 - accuracy: 0.8001\n",
      "Epoch 1: saving model to saved-model-01-0.12.hdf5\n",
      "519/519 [==============================] - 658s 1s/step - loss: 0.8177 - accuracy: 0.8001 - val_loss: 2.0221 - val_accuracy: 0.1202\n",
      "Epoch 2/1000\n",
      "519/519 [==============================] - ETA: 0s - loss: 0.8749 - accuracy: 0.7860\n",
      "Epoch 2: saving model to saved-model-02-0.19.hdf5\n",
      "519/519 [==============================] - 703s 1s/step - loss: 0.8749 - accuracy: 0.7860 - val_loss: 1.9997 - val_accuracy: 0.1895\n",
      "Epoch 3/1000\n",
      "519/519 [==============================] - ETA: 0s - loss: 0.8690 - accuracy: 0.7974\n",
      "Epoch 3: saving model to saved-model-03-0.21.hdf5\n",
      "519/519 [==============================] - 695s 1s/step - loss: 0.8690 - accuracy: 0.7974 - val_loss: 2.0297 - val_accuracy: 0.2105\n",
      "Epoch 4/1000\n",
      "519/519 [==============================] - ETA: 0s - loss: 0.8679 - accuracy: 0.8068\n",
      "Epoch 4: saving model to saved-model-04-0.15.hdf5\n",
      "519/519 [==============================] - 753s 1s/step - loss: 0.8679 - accuracy: 0.8068 - val_loss: 2.0524 - val_accuracy: 0.1482\n",
      "Epoch 5/1000\n",
      "519/519 [==============================] - ETA: 0s - loss: 0.8597 - accuracy: 0.8118\n",
      "Epoch 5: saving model to saved-model-05-0.17.hdf5\n",
      "519/519 [==============================] - 667s 1s/step - loss: 0.8597 - accuracy: 0.8118 - val_loss: 2.0385 - val_accuracy: 0.1747\n",
      "Epoch 6/1000\n",
      "519/519 [==============================] - ETA: 0s - loss: 0.8868 - accuracy: 0.8057\n",
      "Epoch 6: saving model to saved-model-06-0.18.hdf5\n",
      "519/519 [==============================] - 687s 1s/step - loss: 0.8868 - accuracy: 0.8057 - val_loss: 2.0259 - val_accuracy: 0.1786\n",
      "Epoch 7/1000\n",
      "519/519 [==============================] - ETA: 0s - loss: 0.8850 - accuracy: 0.8068\n",
      "Epoch 7: saving model to saved-model-07-0.22.hdf5\n",
      "519/519 [==============================] - 680s 1s/step - loss: 0.8850 - accuracy: 0.8068 - val_loss: 2.0026 - val_accuracy: 0.2154\n",
      "Epoch 8/1000\n",
      "112/519 [=====>........................] - ETA: 7:44 - loss: 0.9570 - accuracy: 0.8800"
     ]
    },
    {
     "ename": "KeyboardInterrupt",
     "evalue": "",
     "output_type": "error",
     "traceback": [
      "\u001b[0;31m---------------------------------------------------------------------------\u001b[0m",
      "\u001b[0;31mKeyboardInterrupt\u001b[0m                         Traceback (most recent call last)",
      "Input \u001b[0;32mIn [88]\u001b[0m, in \u001b[0;36m<module>\u001b[0;34m\u001b[0m\n\u001b[1;32m     13\u001b[0m \u001b[38;5;28mprint\u001b[39m(\u001b[38;5;124mf\u001b[39m\u001b[38;5;124m'\u001b[39m\u001b[38;5;124mTrain on \u001b[39m\u001b[38;5;132;01m{\u001b[39;00m\u001b[38;5;28mlen\u001b[39m(train_df)\u001b[38;5;132;01m}\u001b[39;00m\u001b[38;5;124m samples, validate on \u001b[39m\u001b[38;5;132;01m{\u001b[39;00m\u001b[38;5;28mlen\u001b[39m(valid_df)\u001b[38;5;132;01m}\u001b[39;00m\u001b[38;5;124m samples.\u001b[39m\u001b[38;5;124m'\u001b[39m)\n\u001b[1;32m     14\u001b[0m \u001b[38;5;28mprint\u001b[39m(\u001b[38;5;124m'\u001b[39m\u001b[38;5;124m----------------------------------\u001b[39m\u001b[38;5;124m'\u001b[39m)\n\u001b[0;32m---> 16\u001b[0m audio_model_history \u001b[38;5;241m=\u001b[39m \u001b[43maudio_model\u001b[49m\u001b[38;5;241;43m.\u001b[39;49m\u001b[43mfit\u001b[49m\u001b[43m(\u001b[49m\u001b[43m  \u001b[49m\n\u001b[1;32m     17\u001b[0m \u001b[43m    \u001b[49m\u001b[43mtrain_ds\u001b[49m\u001b[43m,\u001b[49m\n\u001b[1;32m     18\u001b[0m \u001b[43m    \u001b[49m\u001b[43mepochs\u001b[49m\u001b[43m \u001b[49m\u001b[38;5;241;43m=\u001b[39;49m\u001b[43m \u001b[49m\u001b[43mCFG\u001b[49m\u001b[38;5;241;43m.\u001b[39;49m\u001b[43mEPOCHS\u001b[49m\u001b[43m,\u001b[49m\n\u001b[1;32m     19\u001b[0m \u001b[43m    \u001b[49m\u001b[43mvalidation_data\u001b[49m\u001b[38;5;241;43m=\u001b[39;49m\u001b[43mval_ds\u001b[49m\u001b[43m,\u001b[49m\n\u001b[1;32m     20\u001b[0m \u001b[43m    \u001b[49m\u001b[43mcallbacks\u001b[49m\u001b[38;5;241;43m=\u001b[39;49m\u001b[43mCALLBACKS\u001b[49m\u001b[43m)\u001b[49m\n",
      "File \u001b[0;32m/Library/Frameworks/Python.framework/Versions/3.10/lib/python3.10/site-packages/keras/utils/traceback_utils.py:64\u001b[0m, in \u001b[0;36mfilter_traceback.<locals>.error_handler\u001b[0;34m(*args, **kwargs)\u001b[0m\n\u001b[1;32m     62\u001b[0m filtered_tb \u001b[38;5;241m=\u001b[39m \u001b[38;5;28;01mNone\u001b[39;00m\n\u001b[1;32m     63\u001b[0m \u001b[38;5;28;01mtry\u001b[39;00m:\n\u001b[0;32m---> 64\u001b[0m   \u001b[38;5;28;01mreturn\u001b[39;00m \u001b[43mfn\u001b[49m\u001b[43m(\u001b[49m\u001b[38;5;241;43m*\u001b[39;49m\u001b[43margs\u001b[49m\u001b[43m,\u001b[49m\u001b[43m \u001b[49m\u001b[38;5;241;43m*\u001b[39;49m\u001b[38;5;241;43m*\u001b[39;49m\u001b[43mkwargs\u001b[49m\u001b[43m)\u001b[49m\n\u001b[1;32m     65\u001b[0m \u001b[38;5;28;01mexcept\u001b[39;00m \u001b[38;5;167;01mException\u001b[39;00m \u001b[38;5;28;01mas\u001b[39;00m e:  \u001b[38;5;66;03m# pylint: disable=broad-except\u001b[39;00m\n\u001b[1;32m     66\u001b[0m   filtered_tb \u001b[38;5;241m=\u001b[39m _process_traceback_frames(e\u001b[38;5;241m.\u001b[39m__traceback__)\n",
      "File \u001b[0;32m/Library/Frameworks/Python.framework/Versions/3.10/lib/python3.10/site-packages/keras/engine/training.py:1409\u001b[0m, in \u001b[0;36mModel.fit\u001b[0;34m(self, x, y, batch_size, epochs, verbose, callbacks, validation_split, validation_data, shuffle, class_weight, sample_weight, initial_epoch, steps_per_epoch, validation_steps, validation_batch_size, validation_freq, max_queue_size, workers, use_multiprocessing)\u001b[0m\n\u001b[1;32m   1402\u001b[0m \u001b[38;5;28;01mwith\u001b[39;00m tf\u001b[38;5;241m.\u001b[39mprofiler\u001b[38;5;241m.\u001b[39mexperimental\u001b[38;5;241m.\u001b[39mTrace(\n\u001b[1;32m   1403\u001b[0m     \u001b[38;5;124m'\u001b[39m\u001b[38;5;124mtrain\u001b[39m\u001b[38;5;124m'\u001b[39m,\n\u001b[1;32m   1404\u001b[0m     epoch_num\u001b[38;5;241m=\u001b[39mepoch,\n\u001b[1;32m   1405\u001b[0m     step_num\u001b[38;5;241m=\u001b[39mstep,\n\u001b[1;32m   1406\u001b[0m     batch_size\u001b[38;5;241m=\u001b[39mbatch_size,\n\u001b[1;32m   1407\u001b[0m     _r\u001b[38;5;241m=\u001b[39m\u001b[38;5;241m1\u001b[39m):\n\u001b[1;32m   1408\u001b[0m   callbacks\u001b[38;5;241m.\u001b[39mon_train_batch_begin(step)\n\u001b[0;32m-> 1409\u001b[0m   tmp_logs \u001b[38;5;241m=\u001b[39m \u001b[38;5;28;43mself\u001b[39;49m\u001b[38;5;241;43m.\u001b[39;49m\u001b[43mtrain_function\u001b[49m\u001b[43m(\u001b[49m\u001b[43miterator\u001b[49m\u001b[43m)\u001b[49m\n\u001b[1;32m   1410\u001b[0m   \u001b[38;5;28;01mif\u001b[39;00m data_handler\u001b[38;5;241m.\u001b[39mshould_sync:\n\u001b[1;32m   1411\u001b[0m     context\u001b[38;5;241m.\u001b[39masync_wait()\n",
      "File \u001b[0;32m/Library/Frameworks/Python.framework/Versions/3.10/lib/python3.10/site-packages/tensorflow/python/util/traceback_utils.py:150\u001b[0m, in \u001b[0;36mfilter_traceback.<locals>.error_handler\u001b[0;34m(*args, **kwargs)\u001b[0m\n\u001b[1;32m    148\u001b[0m filtered_tb \u001b[38;5;241m=\u001b[39m \u001b[38;5;28;01mNone\u001b[39;00m\n\u001b[1;32m    149\u001b[0m \u001b[38;5;28;01mtry\u001b[39;00m:\n\u001b[0;32m--> 150\u001b[0m   \u001b[38;5;28;01mreturn\u001b[39;00m \u001b[43mfn\u001b[49m\u001b[43m(\u001b[49m\u001b[38;5;241;43m*\u001b[39;49m\u001b[43margs\u001b[49m\u001b[43m,\u001b[49m\u001b[43m \u001b[49m\u001b[38;5;241;43m*\u001b[39;49m\u001b[38;5;241;43m*\u001b[39;49m\u001b[43mkwargs\u001b[49m\u001b[43m)\u001b[49m\n\u001b[1;32m    151\u001b[0m \u001b[38;5;28;01mexcept\u001b[39;00m \u001b[38;5;167;01mException\u001b[39;00m \u001b[38;5;28;01mas\u001b[39;00m e:\n\u001b[1;32m    152\u001b[0m   filtered_tb \u001b[38;5;241m=\u001b[39m _process_traceback_frames(e\u001b[38;5;241m.\u001b[39m__traceback__)\n",
      "File \u001b[0;32m/Library/Frameworks/Python.framework/Versions/3.10/lib/python3.10/site-packages/tensorflow/python/eager/def_function.py:915\u001b[0m, in \u001b[0;36mFunction.__call__\u001b[0;34m(self, *args, **kwds)\u001b[0m\n\u001b[1;32m    912\u001b[0m compiler \u001b[38;5;241m=\u001b[39m \u001b[38;5;124m\"\u001b[39m\u001b[38;5;124mxla\u001b[39m\u001b[38;5;124m\"\u001b[39m \u001b[38;5;28;01mif\u001b[39;00m \u001b[38;5;28mself\u001b[39m\u001b[38;5;241m.\u001b[39m_jit_compile \u001b[38;5;28;01melse\u001b[39;00m \u001b[38;5;124m\"\u001b[39m\u001b[38;5;124mnonXla\u001b[39m\u001b[38;5;124m\"\u001b[39m\n\u001b[1;32m    914\u001b[0m \u001b[38;5;28;01mwith\u001b[39;00m OptionalXlaContext(\u001b[38;5;28mself\u001b[39m\u001b[38;5;241m.\u001b[39m_jit_compile):\n\u001b[0;32m--> 915\u001b[0m   result \u001b[38;5;241m=\u001b[39m \u001b[38;5;28;43mself\u001b[39;49m\u001b[38;5;241;43m.\u001b[39;49m\u001b[43m_call\u001b[49m\u001b[43m(\u001b[49m\u001b[38;5;241;43m*\u001b[39;49m\u001b[43margs\u001b[49m\u001b[43m,\u001b[49m\u001b[43m \u001b[49m\u001b[38;5;241;43m*\u001b[39;49m\u001b[38;5;241;43m*\u001b[39;49m\u001b[43mkwds\u001b[49m\u001b[43m)\u001b[49m\n\u001b[1;32m    917\u001b[0m new_tracing_count \u001b[38;5;241m=\u001b[39m \u001b[38;5;28mself\u001b[39m\u001b[38;5;241m.\u001b[39mexperimental_get_tracing_count()\n\u001b[1;32m    918\u001b[0m without_tracing \u001b[38;5;241m=\u001b[39m (tracing_count \u001b[38;5;241m==\u001b[39m new_tracing_count)\n",
      "File \u001b[0;32m/Library/Frameworks/Python.framework/Versions/3.10/lib/python3.10/site-packages/tensorflow/python/eager/def_function.py:947\u001b[0m, in \u001b[0;36mFunction._call\u001b[0;34m(self, *args, **kwds)\u001b[0m\n\u001b[1;32m    944\u001b[0m   \u001b[38;5;28mself\u001b[39m\u001b[38;5;241m.\u001b[39m_lock\u001b[38;5;241m.\u001b[39mrelease()\n\u001b[1;32m    945\u001b[0m   \u001b[38;5;66;03m# In this case we have created variables on the first call, so we run the\u001b[39;00m\n\u001b[1;32m    946\u001b[0m   \u001b[38;5;66;03m# defunned version which is guaranteed to never create variables.\u001b[39;00m\n\u001b[0;32m--> 947\u001b[0m   \u001b[38;5;28;01mreturn\u001b[39;00m \u001b[38;5;28;43mself\u001b[39;49m\u001b[38;5;241;43m.\u001b[39;49m\u001b[43m_stateless_fn\u001b[49m\u001b[43m(\u001b[49m\u001b[38;5;241;43m*\u001b[39;49m\u001b[43margs\u001b[49m\u001b[43m,\u001b[49m\u001b[43m \u001b[49m\u001b[38;5;241;43m*\u001b[39;49m\u001b[38;5;241;43m*\u001b[39;49m\u001b[43mkwds\u001b[49m\u001b[43m)\u001b[49m  \u001b[38;5;66;03m# pylint: disable=not-callable\u001b[39;00m\n\u001b[1;32m    948\u001b[0m \u001b[38;5;28;01melif\u001b[39;00m \u001b[38;5;28mself\u001b[39m\u001b[38;5;241m.\u001b[39m_stateful_fn \u001b[38;5;129;01mis\u001b[39;00m \u001b[38;5;129;01mnot\u001b[39;00m \u001b[38;5;28;01mNone\u001b[39;00m:\n\u001b[1;32m    949\u001b[0m   \u001b[38;5;66;03m# Release the lock early so that multiple threads can perform the call\u001b[39;00m\n\u001b[1;32m    950\u001b[0m   \u001b[38;5;66;03m# in parallel.\u001b[39;00m\n\u001b[1;32m    951\u001b[0m   \u001b[38;5;28mself\u001b[39m\u001b[38;5;241m.\u001b[39m_lock\u001b[38;5;241m.\u001b[39mrelease()\n",
      "File \u001b[0;32m/Library/Frameworks/Python.framework/Versions/3.10/lib/python3.10/site-packages/tensorflow/python/eager/function.py:2453\u001b[0m, in \u001b[0;36mFunction.__call__\u001b[0;34m(self, *args, **kwargs)\u001b[0m\n\u001b[1;32m   2450\u001b[0m \u001b[38;5;28;01mwith\u001b[39;00m \u001b[38;5;28mself\u001b[39m\u001b[38;5;241m.\u001b[39m_lock:\n\u001b[1;32m   2451\u001b[0m   (graph_function,\n\u001b[1;32m   2452\u001b[0m    filtered_flat_args) \u001b[38;5;241m=\u001b[39m \u001b[38;5;28mself\u001b[39m\u001b[38;5;241m.\u001b[39m_maybe_define_function(args, kwargs)\n\u001b[0;32m-> 2453\u001b[0m \u001b[38;5;28;01mreturn\u001b[39;00m \u001b[43mgraph_function\u001b[49m\u001b[38;5;241;43m.\u001b[39;49m\u001b[43m_call_flat\u001b[49m\u001b[43m(\u001b[49m\n\u001b[1;32m   2454\u001b[0m \u001b[43m    \u001b[49m\u001b[43mfiltered_flat_args\u001b[49m\u001b[43m,\u001b[49m\u001b[43m \u001b[49m\u001b[43mcaptured_inputs\u001b[49m\u001b[38;5;241;43m=\u001b[39;49m\u001b[43mgraph_function\u001b[49m\u001b[38;5;241;43m.\u001b[39;49m\u001b[43mcaptured_inputs\u001b[49m\u001b[43m)\u001b[49m\n",
      "File \u001b[0;32m/Library/Frameworks/Python.framework/Versions/3.10/lib/python3.10/site-packages/tensorflow/python/eager/function.py:1860\u001b[0m, in \u001b[0;36mConcreteFunction._call_flat\u001b[0;34m(self, args, captured_inputs, cancellation_manager)\u001b[0m\n\u001b[1;32m   1856\u001b[0m possible_gradient_type \u001b[38;5;241m=\u001b[39m gradients_util\u001b[38;5;241m.\u001b[39mPossibleTapeGradientTypes(args)\n\u001b[1;32m   1857\u001b[0m \u001b[38;5;28;01mif\u001b[39;00m (possible_gradient_type \u001b[38;5;241m==\u001b[39m gradients_util\u001b[38;5;241m.\u001b[39mPOSSIBLE_GRADIENT_TYPES_NONE\n\u001b[1;32m   1858\u001b[0m     \u001b[38;5;129;01mand\u001b[39;00m executing_eagerly):\n\u001b[1;32m   1859\u001b[0m   \u001b[38;5;66;03m# No tape is watching; skip to running the function.\u001b[39;00m\n\u001b[0;32m-> 1860\u001b[0m   \u001b[38;5;28;01mreturn\u001b[39;00m \u001b[38;5;28mself\u001b[39m\u001b[38;5;241m.\u001b[39m_build_call_outputs(\u001b[38;5;28;43mself\u001b[39;49m\u001b[38;5;241;43m.\u001b[39;49m\u001b[43m_inference_function\u001b[49m\u001b[38;5;241;43m.\u001b[39;49m\u001b[43mcall\u001b[49m\u001b[43m(\u001b[49m\n\u001b[1;32m   1861\u001b[0m \u001b[43m      \u001b[49m\u001b[43mctx\u001b[49m\u001b[43m,\u001b[49m\u001b[43m \u001b[49m\u001b[43margs\u001b[49m\u001b[43m,\u001b[49m\u001b[43m \u001b[49m\u001b[43mcancellation_manager\u001b[49m\u001b[38;5;241;43m=\u001b[39;49m\u001b[43mcancellation_manager\u001b[49m\u001b[43m)\u001b[49m)\n\u001b[1;32m   1862\u001b[0m forward_backward \u001b[38;5;241m=\u001b[39m \u001b[38;5;28mself\u001b[39m\u001b[38;5;241m.\u001b[39m_select_forward_and_backward_functions(\n\u001b[1;32m   1863\u001b[0m     args,\n\u001b[1;32m   1864\u001b[0m     possible_gradient_type,\n\u001b[1;32m   1865\u001b[0m     executing_eagerly)\n\u001b[1;32m   1866\u001b[0m forward_function, args_with_tangents \u001b[38;5;241m=\u001b[39m forward_backward\u001b[38;5;241m.\u001b[39mforward()\n",
      "File \u001b[0;32m/Library/Frameworks/Python.framework/Versions/3.10/lib/python3.10/site-packages/tensorflow/python/eager/function.py:497\u001b[0m, in \u001b[0;36m_EagerDefinedFunction.call\u001b[0;34m(self, ctx, args, cancellation_manager)\u001b[0m\n\u001b[1;32m    495\u001b[0m \u001b[38;5;28;01mwith\u001b[39;00m _InterpolateFunctionError(\u001b[38;5;28mself\u001b[39m):\n\u001b[1;32m    496\u001b[0m   \u001b[38;5;28;01mif\u001b[39;00m cancellation_manager \u001b[38;5;129;01mis\u001b[39;00m \u001b[38;5;28;01mNone\u001b[39;00m:\n\u001b[0;32m--> 497\u001b[0m     outputs \u001b[38;5;241m=\u001b[39m \u001b[43mexecute\u001b[49m\u001b[38;5;241;43m.\u001b[39;49m\u001b[43mexecute\u001b[49m\u001b[43m(\u001b[49m\n\u001b[1;32m    498\u001b[0m \u001b[43m        \u001b[49m\u001b[38;5;28;43mstr\u001b[39;49m\u001b[43m(\u001b[49m\u001b[38;5;28;43mself\u001b[39;49m\u001b[38;5;241;43m.\u001b[39;49m\u001b[43msignature\u001b[49m\u001b[38;5;241;43m.\u001b[39;49m\u001b[43mname\u001b[49m\u001b[43m)\u001b[49m\u001b[43m,\u001b[49m\n\u001b[1;32m    499\u001b[0m \u001b[43m        \u001b[49m\u001b[43mnum_outputs\u001b[49m\u001b[38;5;241;43m=\u001b[39;49m\u001b[38;5;28;43mself\u001b[39;49m\u001b[38;5;241;43m.\u001b[39;49m\u001b[43m_num_outputs\u001b[49m\u001b[43m,\u001b[49m\n\u001b[1;32m    500\u001b[0m \u001b[43m        \u001b[49m\u001b[43minputs\u001b[49m\u001b[38;5;241;43m=\u001b[39;49m\u001b[43margs\u001b[49m\u001b[43m,\u001b[49m\n\u001b[1;32m    501\u001b[0m \u001b[43m        \u001b[49m\u001b[43mattrs\u001b[49m\u001b[38;5;241;43m=\u001b[39;49m\u001b[43mattrs\u001b[49m\u001b[43m,\u001b[49m\n\u001b[1;32m    502\u001b[0m \u001b[43m        \u001b[49m\u001b[43mctx\u001b[49m\u001b[38;5;241;43m=\u001b[39;49m\u001b[43mctx\u001b[49m\u001b[43m)\u001b[49m\n\u001b[1;32m    503\u001b[0m   \u001b[38;5;28;01melse\u001b[39;00m:\n\u001b[1;32m    504\u001b[0m     outputs \u001b[38;5;241m=\u001b[39m execute\u001b[38;5;241m.\u001b[39mexecute_with_cancellation(\n\u001b[1;32m    505\u001b[0m         \u001b[38;5;28mstr\u001b[39m(\u001b[38;5;28mself\u001b[39m\u001b[38;5;241m.\u001b[39msignature\u001b[38;5;241m.\u001b[39mname),\n\u001b[1;32m    506\u001b[0m         num_outputs\u001b[38;5;241m=\u001b[39m\u001b[38;5;28mself\u001b[39m\u001b[38;5;241m.\u001b[39m_num_outputs,\n\u001b[0;32m   (...)\u001b[0m\n\u001b[1;32m    509\u001b[0m         ctx\u001b[38;5;241m=\u001b[39mctx,\n\u001b[1;32m    510\u001b[0m         cancellation_manager\u001b[38;5;241m=\u001b[39mcancellation_manager)\n",
      "File \u001b[0;32m/Library/Frameworks/Python.framework/Versions/3.10/lib/python3.10/site-packages/tensorflow/python/eager/execute.py:54\u001b[0m, in \u001b[0;36mquick_execute\u001b[0;34m(op_name, num_outputs, inputs, attrs, ctx, name)\u001b[0m\n\u001b[1;32m     52\u001b[0m \u001b[38;5;28;01mtry\u001b[39;00m:\n\u001b[1;32m     53\u001b[0m   ctx\u001b[38;5;241m.\u001b[39mensure_initialized()\n\u001b[0;32m---> 54\u001b[0m   tensors \u001b[38;5;241m=\u001b[39m \u001b[43mpywrap_tfe\u001b[49m\u001b[38;5;241;43m.\u001b[39;49m\u001b[43mTFE_Py_Execute\u001b[49m\u001b[43m(\u001b[49m\u001b[43mctx\u001b[49m\u001b[38;5;241;43m.\u001b[39;49m\u001b[43m_handle\u001b[49m\u001b[43m,\u001b[49m\u001b[43m \u001b[49m\u001b[43mdevice_name\u001b[49m\u001b[43m,\u001b[49m\u001b[43m \u001b[49m\u001b[43mop_name\u001b[49m\u001b[43m,\u001b[49m\n\u001b[1;32m     55\u001b[0m \u001b[43m                                      \u001b[49m\u001b[43minputs\u001b[49m\u001b[43m,\u001b[49m\u001b[43m \u001b[49m\u001b[43mattrs\u001b[49m\u001b[43m,\u001b[49m\u001b[43m \u001b[49m\u001b[43mnum_outputs\u001b[49m\u001b[43m)\u001b[49m\n\u001b[1;32m     56\u001b[0m \u001b[38;5;28;01mexcept\u001b[39;00m core\u001b[38;5;241m.\u001b[39m_NotOkStatusException \u001b[38;5;28;01mas\u001b[39;00m e:\n\u001b[1;32m     57\u001b[0m   \u001b[38;5;28;01mif\u001b[39;00m name \u001b[38;5;129;01mis\u001b[39;00m \u001b[38;5;129;01mnot\u001b[39;00m \u001b[38;5;28;01mNone\u001b[39;00m:\n",
      "\u001b[0;31mKeyboardInterrupt\u001b[0m: "
     ]
    }
   ],
   "source": [
    "# Set tf seed\n",
    "tf.random.set_seed(CFG.SEED)\n",
    "\n",
    "# Compile the model\n",
    "audio_model.compile(\n",
    "    loss=tf.keras.losses.CategoricalCrossentropy(label_smoothing=0.1), # label_smoothing=0.1\n",
    "    optimizer=tf.keras.optimizers.Adam(learning_rate=0.001),\n",
    "    metrics=METRICS\n",
    ")\n",
    "\n",
    "# Train the model \n",
    "print(f'Training {audio_model.name}.')\n",
    "print(f'Train on {len(train_df)} samples, validate on {len(valid_df)} samples.')\n",
    "print('----------------------------------')\n",
    "\n",
    "audio_model_history = audio_model.fit(  \n",
    "    train_ds,\n",
    "    epochs = CFG.EPOCHS,\n",
    "    validation_data=val_ds,\n",
    "    callbacks=CALLBACKS)  "
   ]
  },
  {
   "cell_type": "markdown",
   "metadata": {},
   "source": [
    "# For Resuming Model Training"
   ]
  },
  {
   "cell_type": "code",
   "execution_count": null,
   "metadata": {},
   "outputs": [],
   "source": [
    "from keras.models import load_model \n",
    "\n",
    "# Set tf seed\n",
    "tf.random.set_seed(CFG.SEED)\n",
    "\n",
    "audio_model = load_model(\"saved-model-05-0.45.hdf5\")"
   ]
  },
  {
   "cell_type": "code",
   "execution_count": null,
   "metadata": {},
   "outputs": [],
   "source": [
    "latest_epoch = 5 # Change as needed"
   ]
  },
  {
   "cell_type": "code",
   "execution_count": null,
   "metadata": {},
   "outputs": [],
   "source": [
    "# Train the model \n",
    "print(f'Training {audio_model.name}.')\n",
    "print(f'Train on {len(train_df)} samples, validate on {len(valid_df)} samples.')\n",
    "print('----------------------------------')\n",
    "\n",
    "audio_model_history = audio_model.fit(  \n",
    "    train_ds,\n",
    "    epochs = CFG.EPOCHS,\n",
    "    validation_data=val_ds,\n",
    "    callbacks=CALLBACKS,\n",
    "    initial_epoch=latest_epoch)  "
   ]
  },
  {
   "cell_type": "markdown",
   "metadata": {},
   "source": [
    "# Resume"
   ]
  },
  {
   "cell_type": "code",
   "execution_count": 89,
   "metadata": {
    "colab": {
     "base_uri": "https://localhost:8080/",
     "height": 181
    },
    "id": "fluIkcIlSoqh",
    "outputId": "e53a64b3-bbf6-4110-e9e1-c1cdd7caf9f5"
   },
   "outputs": [
    {
     "name": "stdout",
     "output_type": "stream",
     "text": [
      "70/70 [==============================] - 84s 1s/step - loss: 4.0526 - accuracy: 0.1014\n"
     ]
    }
   ],
   "source": [
    "# Evaluate the model\n",
    "audio_model_evaluation = audio_model.evaluate(test_ds)"
   ]
  },
  {
   "cell_type": "code",
   "execution_count": 90,
   "metadata": {
    "colab": {
     "base_uri": "https://localhost:8080/"
    },
    "id": "cYWhZdO5gJV9",
    "outputId": "bf98ede7-725d-4ae7-db2d-64c84ea4a2bf"
   },
   "outputs": [
    {
     "name": "stdout",
     "output_type": "stream",
     "text": [
      "70/70 [==============================] - 80s 1s/step\n"
     ]
    }
   ],
   "source": [
    "# Generate model probabilities and predictions\n",
    "test_probabilities = audio_model.predict(test_ds, verbose=1)\n",
    "test_predictions = tf.argmax(test_probabilities, axis=1)"
   ]
  },
  {
   "cell_type": "code",
   "execution_count": 91,
   "metadata": {
    "id": "-PygaJdrhjXP"
   },
   "outputs": [],
   "source": [
    "def plot_training_curves(history):\n",
    "    \n",
    "    loss = np.array(history.history['loss'])\n",
    "    val_loss = np.array(history.history['val_loss'])\n",
    "\n",
    "    accuracy = np.array(history.history['accuracy'])\n",
    "    val_accuracy = np.array(history.history['val_accuracy'])\n",
    "\n",
    "    epochs = range(1, len(history.history['loss']) + 1)\n",
    "\n",
    "    fig, (ax1, ax2) = plt.subplots(1, 2, figsize=(20, 10))\n",
    "\n",
    "    # Plot loss\n",
    "    ax1.plot(epochs, loss, label='training_loss', marker='o')\n",
    "    ax1.plot(epochs, val_loss, label='val_loss', marker='o')\n",
    "    \n",
    "    ax1.fill_between(epochs, loss, val_loss, where=(loss > val_loss), color='C0', alpha=0.3, interpolate=True)\n",
    "    ax1.fill_between(epochs, loss, val_loss, where=(loss < val_loss), color='C1', alpha=0.3, interpolate=True)\n",
    "\n",
    "    ax1.set_title('Loss (Lower Means Better)', fontsize=16)\n",
    "    ax1.set_xlabel('Epochs', fontsize=12)\n",
    "    ax1.legend()\n",
    "\n",
    "    # Plot accuracy\n",
    "    ax2.plot(epochs, accuracy, label='training_accuracy', marker='o')\n",
    "    ax2.plot(epochs, val_accuracy, label='val_accuracy', marker='o')\n",
    "    \n",
    "    ax2.fill_between(epochs, accuracy, val_accuracy, where=(accuracy > val_accuracy), color='C0', alpha=0.3, interpolate=True)\n",
    "    ax2.fill_between(epochs, accuracy, val_accuracy, where=(accuracy < val_accuracy), color='C1', alpha=0.3, interpolate=True)\n",
    "\n",
    "    ax2.set_title('Accuracy (Higher Means Better)', fontsize=16)\n",
    "    ax2.set_xlabel('Epochs', fontsize=12)\n",
    "    ax2.legend();"
   ]
  },
  {
   "cell_type": "code",
   "execution_count": null,
   "metadata": {},
   "outputs": [],
   "source": [
    "audio_model_history"
   ]
  },
  {
   "cell_type": "code",
   "execution_count": null,
   "metadata": {
    "colab": {
     "base_uri": "https://localhost:8080/",
     "height": 520
    },
    "id": "NFffcvsmhtlK",
    "outputId": "4ced1d6a-3743-428b-d49e-39486e418410"
   },
   "outputs": [],
   "source": [
    "# Plot model training history\n",
    "plot_training_curves(audio_model_history)"
   ]
  },
  {
   "cell_type": "code",
   "execution_count": 92,
   "metadata": {
    "id": "VStN8Zdlhwbi"
   },
   "outputs": [],
   "source": [
    "def plot_confusion_matrix(y_true, y_pred, classes='auto', figsize=(10, 10), text_size=12): \n",
    "    # Generate confusion matrix \n",
    "    cm = confusion_matrix(y_true, y_pred)\n",
    "    \n",
    "    # Set plot size\n",
    "    plt.figure(figsize=figsize)\n",
    "\n",
    "    # Create confusion matrix heatmap\n",
    "    disp = sns.heatmap(\n",
    "        cm, annot=True, cmap='Greens',\n",
    "        annot_kws={\"size\": text_size}, fmt='g',\n",
    "        linewidths=1, linecolor='black', clip_on=False,\n",
    "        xticklabels=classes, yticklabels=classes)\n",
    "    \n",
    "    # Set title and axis labels\n",
    "    disp.set_title('Confusion Matrix', fontsize=24)\n",
    "    disp.set_xlabel('Predicted Label', fontsize=20) \n",
    "    disp.set_ylabel('True Label', fontsize=20)\n",
    "    plt.yticks(rotation=0) \n",
    "\n",
    "    # Plot confusion matrix\n",
    "    plt.show()\n",
    "    \n",
    "    return"
   ]
  },
  {
   "cell_type": "code",
   "execution_count": 93,
   "metadata": {
    "colab": {
     "base_uri": "https://localhost:8080/"
    },
    "id": "OhaXvGkLj-rz",
    "outputId": "68bb9706-835c-4325-a588-a5e79081f7f9"
   },
   "outputs": [
    {
     "data": {
      "text/plain": [
       "array(['bheem', 'cha', 'dheem', 'dhin', 'num', 'ta', 'tha', 'tham', 'thi',\n",
       "       'thom'], dtype=object)"
      ]
     },
     "execution_count": 93,
     "metadata": {},
     "output_type": "execute_result"
    }
   ],
   "source": [
    "np.unique(wave_pd[\"Stroke\"].values)"
   ]
  },
  {
   "cell_type": "code",
   "execution_count": 94,
   "metadata": {
    "id": "dt2isUUZiMjj"
   },
   "outputs": [],
   "source": [
    "class_names = np.unique(wave_pd[\"Stroke\"].values)"
   ]
  },
  {
   "cell_type": "code",
   "execution_count": 95,
   "metadata": {
    "colab": {
     "base_uri": "https://localhost:8080/",
     "height": 617
    },
    "id": "9mdKT5G1iHIy",
    "outputId": "377f4330-305b-4ea6-9e81-c789f78dde6b"
   },
   "outputs": [
    {
     "data": {
      "image/png": "[encoded data removed]",
      "text/plain": [
       "<Figure size 1296x720 with 2 Axes>"
      ]
     },
     "metadata": {
      "needs_background": "light"
     },
     "output_type": "display_data"
    }
   ],
   "source": [
    "# View Confusion Matrix\n",
    "plot_confusion_matrix(\n",
    "    test_labels_encoded, \n",
    "    test_predictions, \n",
    "    figsize=(18, 10), \n",
    "    classes=class_names)"
   ]
  },
  {
   "cell_type": "code",
   "execution_count": null,
   "metadata": {
    "colab": {
     "base_uri": "https://localhost:8080/"
    },
    "id": "rN1mKt9FiJw_",
    "outputId": "fe36bf44-3ea4-4199-fc8b-81d39a92bed2",
    "scrolled": true
   },
   "outputs": [],
   "source": [
    "print(classification_report(test_labels_encoded, \n",
    "                            test_predictions, \n",
    "                            target_names=class_names))"
   ]
  },
  {
   "cell_type": "code",
   "execution_count": null,
   "metadata": {
    "id": "dSR200VMkOew"
   },
   "outputs": [],
   "source": [
    "def generate_performance_scores(y_true, y_pred, y_probabilities):\n",
    "    \n",
    "    model_accuracy = round(accuracy_score(y_true, y_pred), 5)\n",
    "    model_precision, model_recall, model_f1, _ = precision_recall_fscore_support(y_true, \n",
    "                                                                                 y_pred, \n",
    "                                                                                 average=\"weighted\")\n",
    "    model_matthews_corrcoef = round(matthews_corrcoef(y_true, y_pred), 5)\n",
    "    \n",
    "    print('=============================================')\n",
    "    print(f'\\nPerformance Metrics:\\n')\n",
    "    print('=============================================')\n",
    "    print(f'accuracy_score:\\t\\t{model_accuracy}\\n')\n",
    "    print('_____________________________________________')\n",
    "    print(f'precision_score:\\t{model_precision}\\n')\n",
    "    print('_____________________________________________')\n",
    "    print(f'recall_score:\\t\\t{model_recall}\\n')\n",
    "    print('_____________________________________________')\n",
    "    print(f'f1_score:\\t\\t{model_f1}\\n')\n",
    "    print('_____________________________________________')\n",
    "    print(f'matthews_corrcoef:\\t{model_matthews_corrcoef}\\n')\n",
    "    print('=============================================')\n",
    "    \n",
    "    performance_scores = {\n",
    "        'accuracy_score': model_accuracy,\n",
    "        'precision_score': model_precision,\n",
    "        'recall_score': model_recall,\n",
    "        'f1_score': model_f1,\n",
    "        'matthews_corrcoef': model_matthews_corrcoef\n",
    "    }\n",
    "    return performance_scores"
   ]
  },
  {
   "cell_type": "code",
   "execution_count": null,
   "metadata": {
    "colab": {
     "base_uri": "https://localhost:8080/"
    },
    "id": "RnyaXQIdkR2Q",
    "outputId": "1dfaea2c-7c09-4faa-d9d7-3d3cb9ab8216"
   },
   "outputs": [],
   "source": [
    "# View Performance Metrics\n",
    "audio_model_performance = generate_performance_scores(\n",
    "    test_labels_encoded, \n",
    "    test_predictions, \n",
    "    test_probabilities)"
   ]
  },
  {
   "cell_type": "code",
   "execution_count": null,
   "metadata": {
    "id": "gKkVRPEUkUBi"
   },
   "outputs": [],
   "source": [
    "def predict_audio(model, audio_waveform):\n",
    "    # Get waveform embedding \n",
    "    _, embedding, _ = yamnet(audio_waveform)\n",
    "    \n",
    "    # Generate prediction\n",
    "    probabilities = model(np.array([embedding]))\n",
    "    prediction = class_names[np.argmax(probabilities)]\n",
    "    \n",
    "    # Return results\n",
    "    return prediction, np.squeeze(probabilities.numpy())"
   ]
  },
  {
   "cell_type": "code",
   "execution_count": null,
   "metadata": {
    "colab": {
     "base_uri": "https://localhost:8080/"
    },
    "id": "goLWCx_clkPN",
    "outputId": "04422c66-6bbc-4942-9628-e128c5e7a462"
   },
   "outputs": [],
   "source": [
    "wave_pd.iloc[0:2][\"Path\"].values"
   ]
  },
  {
   "cell_type": "code",
   "execution_count": null,
   "metadata": {
    "id": "PDN56grclMk0"
   },
   "outputs": [],
   "source": [
    "# Select random sample from dataset_df\n",
    "idx = random.sample(test_df.index.to_list(), 10)\n",
    "# Generate sample path\n",
    "sample_paths = [path for path in wave_pd.iloc[idx][\"Path\"].values]\n",
    "\n",
    "# Load audio and generate prediction\n",
    "sample_waveforms = [_load(path) for path in sample_paths]\n",
    "results = [predict_audio(audio_model, waveform) for waveform in sample_waveforms]"
   ]
  },
  {
   "cell_type": "code",
   "execution_count": null,
   "metadata": {
    "colab": {
     "base_uri": "https://localhost:8080/",
     "height": 1000
    },
    "id": "oWOC12cfk73X",
    "outputId": "221b7ee2-fb1c-4bbd-ea5a-97dd2d3fa65c"
   },
   "outputs": [],
   "source": [
    "index = 0\n",
    "\n",
    "# View Predictions\n",
    "for _ in idx:\n",
    "    pred, prob = results[index]\n",
    "    \n",
    "    print(f\"Filename:\\t\\t{test_df['Path'][_]}\\n\")\n",
    "    print(f\"Class:\\t\\t\\t{test_df['Stroke'][_]}\")\n",
    "    print(f\"Predicted Class:\\t{pred}\")\n",
    "    print(f\"Probability:\\t\\t{prob[np.argmax(prob)]:.4f}\\n\")\n",
    "    display.display(display.Audio(sample_paths[index], rate=16000))\n",
    "    print('==============================================')\n",
    "    \n",
    "    index +=1"
   ]
  },
  {
   "cell_type": "code",
   "execution_count": null,
   "metadata": {
    "id": "B2gg-515k_Nm"
   },
   "outputs": [],
   "source": []
  }
 ],
 "metadata": {
  "accelerator": "TPU",
  "colab": {
   "gpuType": "T4",
   "provenance": []
  },
  "kernelspec": {
   "display_name": "Python 3 (ipykernel)",
   "language": "python",
   "name": "python3"
  },
  "language_info": {
   "codemirror_mode": {
    "name": "ipython",
    "version": 3
   },
   "file_extension": ".py",
   "mimetype": "text/x-python",
   "name": "python",
   "nbconvert_exporter": "python",
   "pygments_lexer": "ipython3",
   "version": "3.10.2"
  }
 },
 "nbformat": 4,
 "nbformat_minor": 4
}
