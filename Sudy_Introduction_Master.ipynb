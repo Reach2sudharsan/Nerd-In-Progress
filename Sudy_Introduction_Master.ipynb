{
  "nbformat": 4,
  "nbformat_minor": 0,
  "metadata": {
    "colab": {
      "name": "Sudy_Introduction_Master.ipynb",
      "provenance": [],
      "collapsed_sections": []
    },
    "kernelspec": {
      "name": "python3",
      "display_name": "Python 3"
    }
  },
  "cells": [
    {
      "cell_type": "markdown",
      "metadata": {
        "id": "XFYAV890_btm"
      },
      "source": [
        "# Goals\n",
        "In this colab you will:\n",
        "*   Brainstorm some ideas about how AI can help in the fight against COVID-19.\n",
        "*   Learn the basics of virus biology.\n",
        "*   Learn about genetic material, transcription, and translation.\n",
        "*   Learn how genetic material can mutate.\n",
        "*   Think deeply about the pros and cons of building models to predict where different SARS-CoV-2 lineages originated from.\n",
        "\n",
        "*Note: There is a bit of biology to learn before we dive into the machine learning part of this project. Be patient and please ask about anything you don't understand!*"
      ]
    },
    {
      "cell_type": "markdown",
      "metadata": {
        "id": "t09XQ0aZcUFT"
      },
      "source": [
        "# SARS-CoV-2\n",
        "\n",
        "<img src=\"https://sanjuancounty.colorado.gov/sites/sanjuancounty/files/styles/extra_large_thumbnail_650x650_/public/04-2020/coronavirus_banner.png\" alt=\"drawing\" width=\"1000\"/>\n",
        "\n",
        "SARS-CoV-2 is the virus that causes the disease COVID-19, and is the cause of the worldwide pandemic.  \n",
        "\n",
        "\n"
      ]
    },
    {
      "cell_type": "code",
      "metadata": {
        "id": "P4RKuUQxV6_e",
        "cellView": "form"
      },
      "source": [
        "#@title Exercise: Brainstorm 3 ways that we can use AI in the fight against COVID-19.\n",
        "\n",
        "_1_ = 'Detect RNA structure of COVID-19' #@param {type:\"string\"}\n",
        "_2_ = '' #@param {type:\"string\"}\n",
        "_3_ = '' #@param {type:\"string\"}"
      ],
      "execution_count": null,
      "outputs": []
    },
    {
      "cell_type": "markdown",
      "metadata": {
        "id": "KLFjke7JVb5Z"
      },
      "source": [
        "SARS-CoV-2 is actively mutating, so by looking at the sequence of a specific SARS-CoV-2 virus we can actually predict which country a particular SARS-CoV-2 virus came from!\n",
        "\n",
        "***In this project, we are going to build a classifier that predicts which country a SARS-CoV-2 virus is coming from, so that we can identify where there may be outbreaks in the future.  We're going to talk more about that later.***"
      ]
    },
    {
      "cell_type": "markdown",
      "metadata": {
        "id": "x-w9c5KCeMhW"
      },
      "source": [
        "Viruses? Mutating? Sequence? \n",
        "\n",
        "<img src=\"https://live.staticflickr.com/8466/8393213472_24d08168b0_b.jpg\" alt=\"drawing\" width=\"500\"/>\n"
      ]
    },
    {
      "cell_type": "markdown",
      "metadata": {
        "id": "QujYqHPneehv"
      },
      "source": [
        "First, let's go over a little bit of virus biology.\n"
      ]
    },
    {
      "cell_type": "markdown",
      "metadata": {
        "id": "BCwvLXAY_DHo"
      },
      "source": [
        "# What is a virus?"
      ]
    },
    {
      "cell_type": "markdown",
      "metadata": {
        "id": "kxhMrMHt_qjt"
      },
      "source": [
        "\n",
        "A virus is a tiny, infectious particle that infects a host cell in order to reproduce.  Viruses take over the host cell and use its resources to make more viruses, basically reprogramming it to become a virus factory.\n",
        "\n",
        "Please take 10 minutes to read this [excellent Khan Academy](https://www.khanacademy.org/science/high-school-biology/hs-human-body-systems/hs-the-immune-system/a/intro-to-viruses) article on viruses.\n",
        "\n",
        "<img src=\"https://upload.wikimedia.org/wikipedia/commons/thumb/4/47/Basic_Scheme_of_Virus_en.svg/1280px-Basic_Scheme_of_Virus_en.svg.png\" alt=\"drawing\" width=\"400\"/>\n",
        "\n"
      ]
    },
    {
      "cell_type": "markdown",
      "metadata": {
        "id": "sUZmNJJsAMfR"
      },
      "source": [
        "### **Exercise: Answer the following questions about viruses. (Run cell for answers.)**"
      ]
    },
    {
      "cell_type": "code",
      "metadata": {
        "cellView": "form",
        "id": "PFX7Uo6EXFfp"
      },
      "source": [
        "#@title 1. True or False? Viruses can reproduce entirely on their own.\n",
        "Answer = \"False\" #@param [\"True\", \"False\"]\n",
        "print(\"Answer: False\")"
      ],
      "execution_count": null,
      "outputs": []
    },
    {
      "cell_type": "code",
      "metadata": {
        "id": "55xs4S2Dd6g0",
        "cellView": "form"
      },
      "source": [
        "#@title 2. True or false? Viruses use the same genetic code that is used in living cells (DNA/RNA)\n",
        "Answer = \"False\" #@param [\"True\", \"False\"]\n",
        "print(\"Answer: True\")"
      ],
      "execution_count": null,
      "outputs": []
    },
    {
      "cell_type": "code",
      "metadata": {
        "id": "EFmUVrxq5WJ_",
        "cellView": "form",
        "colab": {
          "base_uri": "https://localhost:8080/"
        },
        "outputId": "d97c3a10-bf4f-4154-d7f1-95c960d39e75"
      },
      "source": [
        "#@title 3. What is the difference between viruses and bacteria?\n",
        "Answer = \"\" #@param {type:\"string\"}\n",
        "print(\"Although they both make us sick viruses and bacteria are very different.\")\n",
        "print(\"Bacteria are small and single-celled, but they are living organisms \")\n",
        "print(\"that do not depend on a host cell to reproduce. We can use antibiotics \")\n",
        "print(\"to fight bacteria, but we cannot use antibiotics on viruses.\")"
      ],
      "execution_count": null,
      "outputs": [
        {
          "output_type": "stream",
          "text": [
            "Although they both make us sick viruses and bacteria are very different.\n",
            "Bacteria are small and single-celled, but they are living organisms \n",
            "that do not depend on a host cell to reproduce. We can use antibiotics \n",
            "to fight bacteria, but we cannot use antibiotics on viruses.\n"
          ],
          "name": "stdout"
        }
      ]
    },
    {
      "cell_type": "code",
      "metadata": {
        "id": "S7_MCNhv6vQ1",
        "cellView": "form",
        "colab": {
          "base_uri": "https://localhost:8080/"
        },
        "outputId": "e95ee3ba-42c4-4837-f78b-15f52d47a6cd"
      },
      "source": [
        "#@title 4. What are 3 key features that almost all viruses have in common?\n",
        "Answer = \"\" #@param {type:\"string\"}\n",
        "print(\"Capsid, genome, and envelope.\")"
      ],
      "execution_count": null,
      "outputs": [
        {
          "output_type": "stream",
          "text": [
            "Capsid, genome, and envelope.\n"
          ],
          "name": "stdout"
        }
      ]
    },
    {
      "cell_type": "markdown",
      "metadata": {
        "id": "Ld6u_Lt4BUap"
      },
      "source": [
        "# What is a genome?"
      ]
    },
    {
      "cell_type": "markdown",
      "metadata": {
        "id": "83ALoA8VBZoR"
      },
      "source": [
        "A genome is the collection of DNA or RNA in an organism that codes for it's various functions and processes.  DNA and RNA are slightly different forms of genetic material- genetic material ultimately tells an organism which proteins or enzymes to make. Proteins/enzymes are the molecular components that make all lifeforms function.  Read [this primer](https://www.khanacademy.org/science/high-school-biology/hs-molecular-genetics/hs-rna-and-protein-synthesis/a/intro-to-gene-expression-central-dogma) and [this primer](https://www.khanacademy.org/science/high-school-biology/hs-molecular-genetics/hs-rna-and-protein-synthesis/a/the-genetic-code) on genetic material and the central dogma for a review. \n",
        "\n",
        "<img src=\"https://upload.wikimedia.org/wikipedia/commons/thumb/5/5b/Central_dogma_of_molecular_biology.svg/1259px-Central_dogma_of_molecular_biology.svg.png\" alt=\"drawing\" width=\"300\"/>\n",
        "\n",
        "Although they need a host cell to help them actually convert DNA or RNA to proteins, viruses also have genomes.  SARS-CoV-2 has a genome made of RNA! This means the genome has some slightly different characteristics than DNA genomes (like those of huamns), including some nuances in the transcription/translation cycle, a faster mutation rate, and the ability to swap parts of it's genome with nearby viruses (called recombination). You can read more on the +ssRNA (positive-sense single-stranded RNA) virus [wikipedia page](https://en.wikipedia.org/wiki/Positive-sense_single-stranded_RNA_virus) if you are interested.\n",
        "\n",
        "\n",
        "Please answer the following questions:"
      ]
    },
    {
      "cell_type": "markdown",
      "metadata": {
        "id": "Xu34fBl47_fA"
      },
      "source": [
        "### **Exercise: Answer the following questions about genomes.**"
      ]
    },
    {
      "cell_type": "code",
      "metadata": {
        "id": "vPwrBZBu8Pov",
        "cellView": "form",
        "colab": {
          "base_uri": "https://localhost:8080/"
        },
        "outputId": "df0bdc97-8553-4f8b-bfd2-e7c0ef022b5a"
      },
      "source": [
        "#@title 1. What is a start-codon, and what is the specific sequence of start codon?\n",
        "Answer = \"\" #@param {type:\"string\"}\n",
        "print(\"A start codon is the site at which translation begins.\")\n",
        "print(\"The universal start codon is AUG.\")\n"
      ],
      "execution_count": null,
      "outputs": [
        {
          "output_type": "stream",
          "text": [
            "A start codon is the site at which translation begins.\n",
            "The universal start codon is AUG.\n"
          ],
          "name": "stdout"
        }
      ]
    },
    {
      "cell_type": "code",
      "metadata": {
        "id": "PHuUFhue8XVU",
        "cellView": "form",
        "colab": {
          "base_uri": "https://localhost:8080/"
        },
        "outputId": "3e070dda-e3ef-4147-c3ad-ff46c55fb98e"
      },
      "source": [
        "#@title 2. How many nucleotides code for a single amino acid?\n",
        "Answer = 1  #@param [1,2,3,5,20]\n",
        "print(3)"
      ],
      "execution_count": null,
      "outputs": [
        {
          "output_type": "stream",
          "text": [
            "3\n"
          ],
          "name": "stdout"
        }
      ]
    },
    {
      "cell_type": "code",
      "metadata": {
        "id": "AFN0IiR085QZ",
        "cellView": "form",
        "colab": {
          "base_uri": "https://localhost:8080/"
        },
        "outputId": "5670d69d-6707-438f-b578-10778af65c2b"
      },
      "source": [
        "#@title 3. What are the 4 nucleic acids in DNA? How about in RNA?\n",
        "Answer = \"\" #@param {type:\"string\"}\n",
        "print(\"Adenine (A), cytosine (C), guanine (G), thymine (T) for DNA.\")\n",
        "print(\"Adenine (A), cytosine (C), guanine (G), uracil (U) for RNA.\")"
      ],
      "execution_count": null,
      "outputs": [
        {
          "output_type": "stream",
          "text": [
            "Adenine (A), cytosine (C), guanine (G), thymine (T) for DNA.\n",
            "Adenine (A), cytosine (C), guanine (G), uracil (U) for RNA.\n"
          ],
          "name": "stdout"
        }
      ]
    },
    {
      "cell_type": "code",
      "metadata": {
        "id": "hio40QxH9E7S",
        "cellView": "form",
        "colab": {
          "base_uri": "https://localhost:8080/"
        },
        "outputId": "5fc01cc3-3d81-43ea-8854-2122c36855a2"
      },
      "source": [
        "#@title 4. (BONUS) Why do you think there are multiple possible codons for single amino acids? (ie CCA, CCU, CCG, CCC all code for Leucine)\n",
        "Answer = \"\" #@param {type:\"string\"}\n",
        "print(\"Redundancy so that a single mutation in a DNA sequence does not change the amino acid it ultimately gets translated to.\")\n"
      ],
      "execution_count": null,
      "outputs": [
        {
          "output_type": "stream",
          "text": [
            "Redundancy so that a single mutation in a DNA sequence does not change the amino acid it ultimately gets translated to.\n"
          ],
          "name": "stdout"
        }
      ]
    },
    {
      "cell_type": "markdown",
      "metadata": {
        "id": "-Pcb8h2SILb6"
      },
      "source": [
        "# How do viruses mutate?\n",
        "\n",
        "Over time, virus genomes can mutate. Mutation can occur if during replication, a mistake is made in copying the RNA or DNA of a viral particle. Some types of viruses can also swap genetic material with nearby viral particles, a process called recombination.  Sometimes a mutation \"breaks\" a virus, and makes it unable to reproduce in which case the lineage of virus with that mutation will die off. Sometimes a mutation \"improves\" a virus, and makes it better and spreading or reproducing, in which case the mutation will probably stick around. Sometimes, mutations don't improve or break a virus and are just the result of random events.\n",
        "\n",
        "Here is an example of how the influenza virus has mutated/evolved in the last 100 years!\n",
        "![](https://live.staticflickr.com/7155/6830073073_9f847b8273_z.jpg)\n",
        "\n",
        "\n",
        "Over time, what started as a virus with one unique genome, may mutate into several different strains of virus. This happens all the time with the influenza virus (the flu), and is the reason we need to make a new flu vaccine every year. Different regions of the world may also end up with a different strain of a virus. You can read a little bit more about viral evolution [here](https://www.khanacademy.org/science/biology/biology-of-viruses/virus-biology/a/evolution-of-viruses). \n"
      ]
    },
    {
      "cell_type": "markdown",
      "metadata": {
        "id": "w-LA0glJKmit"
      },
      "source": [
        "# SARS-CoV-2 Evolution and Ethics\n",
        "\n",
        "Like most RNA viruses SARS-CoV-2 is actively mutating, and there are already thousands of slightly different SARS-CoV-2 genomes around the world. Researchers are still trying to figure out if any of the genomes are more or less contagious or dangerous. So far, they think most of the genomes have just accumulated mutations by random events and no genome is more or less dangerous than any other genome. In fact, the genomes are not even different enough for to be considered different strains of SARS-CoV-2 (so we will be referring to the different genomes as lineages). Read science writer Ed Yong's [very informative article](https://www.theatlantic.com/health/archive/2020/05/coronavirus-strains-transmissible/611239/) in the atlantic to learn more about this ongoing contraversy!\n",
        "\n",
        "However, we can still gain some knowledge by looking at the different SARS-CoV-2 genomes. Primarily, we can make a good guess as to what region of the world a specific SARS-CoV-2 lineage came from. In this project, **we will be building a model that will predict which region of the world a SARS-CoV-2 lineage comes from based on it's genome sequence**. Before we get started, let's talk a little about the implications of this."
      ]
    },
    {
      "cell_type": "markdown",
      "metadata": {
        "id": "Q10pWFmU92Fv"
      },
      "source": [
        "### **Exercise: Discuss the following questions.** \n",
        "*These will be important points to address in your presentation later on!*"
      ]
    },
    {
      "cell_type": "code",
      "metadata": {
        "id": "dY0_gtqb91nS",
        "cellView": "form"
      },
      "source": [
        "#@title 1. How could a model that predicts origin of a SARS-CoV-2 lineage help us with contact tracing and suppression?\n",
        "Response = \"\" #@param {type:\"string\"}\n"
      ],
      "execution_count": null,
      "outputs": []
    },
    {
      "cell_type": "code",
      "metadata": {
        "id": "xEDpveux-KUX",
        "cellView": "form"
      },
      "source": [
        "#@title 2. What could be some negative consequences of having such a model? What happens if the model is not 100% correct? (Most models are not perfect!)\n",
        "Response = \"\" #@param {type:\"string\"}\n"
      ],
      "execution_count": null,
      "outputs": []
    },
    {
      "cell_type": "code",
      "metadata": {
        "id": "I-p3pIIJ-Kwa",
        "cellView": "form"
      },
      "source": [
        "#@title 3. What are some ways we could mitigate some of these negative consequences?\n",
        "_1_ = \"\" #@param {type:\"string\"}\n",
        "_2_ = \"\" #@param {type:\"string\"}\n",
        "_3_ = \"\" #@param {type:\"string\"}\n"
      ],
      "execution_count": null,
      "outputs": []
    },
    {
      "cell_type": "markdown",
      "metadata": {
        "id": "63nTJ0YxKRfU"
      },
      "source": [
        "# Wrapping up"
      ]
    },
    {
      "cell_type": "markdown",
      "metadata": {
        "id": "CCpBtAiarLtr"
      },
      "source": [
        "***Great job!*** That was a lot of biology that got thrown at you!\n",
        "\n",
        "![](https://i.chzbgr.com/full/1865001216/h896D6369/phew)\n",
        "\n"
      ]
    },
    {
      "cell_type": "code",
      "metadata": {
        "id": "yspnnjE-rj8g",
        "cellView": "form"
      },
      "source": [
        "#@title ####**Exercise: To wrap up, what are two questions you still have about virology/genomics? Ask your group/instructor!**\n",
        "Question_1 = \"\" #@param {type:\"string\"}\n",
        "Question_2 = \"\" #@param {type:\"string\"}\n"
      ],
      "execution_count": null,
      "outputs": []
    }
  ]
}